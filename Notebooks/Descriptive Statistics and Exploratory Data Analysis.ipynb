{
 "cells": [
  {
   "cell_type": "markdown",
   "id": "8ff55824",
   "metadata": {},
   "source": [
    "### Descriptive Statistics and Exploratory Data Analysis"
   ]
  },
  {
   "cell_type": "markdown",
   "id": "2fbd2730",
   "metadata": {},
   "source": [
    "**Table of contents**<a id='toc0_'></a>    \n",
    "- [Descriptive Statistics](#toc1_1_1_)    \n",
    "        - [Some basic statistics to do with the S&P 500](#toc1_1_1_1_1_)    \n",
    "        - [ Some basic statistics to do with the FTSE 100](#toc1_1_1_1_2_)    \n",
    "        - [ Some basic statistics to do with the Gold](#toc1_1_1_1_3_)    \n",
    "        - [ Some basic statistics to do with the Crude Oil](#toc1_1_1_1_4_)    \n",
    "        - [ Some basic statistics to do with the Bitcoin (BTC-USD)](#toc1_1_1_1_5_)    \n",
    "        - [ Some basic statistics to do with the 10 YR US Treasuries (TLT)](#toc1_1_1_1_6_)    \n",
    "    - [Further explaratory data analysis](#toc1_1_2_)    \n",
    "      - [Investigating the statistical properties of financial markets](#toc1_1_2_1_)    \n",
    "    - [Kurtosis](#toc1_1_3_)    \n",
    "    - [Calculating  Returns](#toc1_1_4_)    \n",
    "      - [Further Analysis](#toc1_1_4_1_)    \n",
    "      - [Further graphical illustrations of EDA](#toc1_1_4_2_)    \n",
    "\n",
    "<!-- vscode-jupyter-toc-config\n",
    "\tnumbering=false\n",
    "\tanchor=true\n",
    "\tflat=false\n",
    "\tminLevel=1\n",
    "\tmaxLevel=6\n",
    "\t/vscode-jupyter-toc-config -->\n",
    "<!-- THIS CELL WILL BE REPLACED ON TOC UPDATE. DO NOT WRITE YOUR TEXT IN THIS CELL -->"
   ]
  },
  {
   "cell_type": "markdown",
   "id": "38db608e",
   "metadata": {},
   "source": [
    "The purpose of this project including accompanying report is examine the statistical properties of the financial markets both before and during the Coronavirus period. We examine the basic descriptive statistics of major indices and complete a time series analysis. We will also examine regime detection and how this can be used to highlight a change in the market. Furthermore, we will illustrate how correlation structures of well known assets and volatility during the Coronavirus period. We explore the period 2017 up to the start of 2020 and the period 2020 to the present day.  "
   ]
  },
  {
   "cell_type": "markdown",
   "id": "a41670f3",
   "metadata": {},
   "source": [
    "### <a id='toc1_1_1_'></a>[Descriptive Statistics](#toc0_)"
   ]
  },
  {
   "cell_type": "markdown",
   "metadata": {},
   "source": [
    "##### <a id='toc1_1_1_1_1_'></a>[Some basic statistics to do with the S&P 500](#toc0_)"
   ]
  },
  {
   "cell_type": "code",
   "execution_count": 26,
   "id": "5b00b6f0",
   "metadata": {},
   "outputs": [
    {
     "name": "stdout",
     "output_type": "stream",
     "text": [
      "[*********************100%***********************]  1 of 1 completed\n"
     ]
    }
   ],
   "source": [
    "#### \n",
    "import yfinance as yf\n",
    "import numpy as np\n",
    "sp500 = yf.download('^GSPC','2017-01-01', '2020-01-01')"
   ]
  },
  {
   "cell_type": "code",
   "execution_count": 27,
   "id": "2efb5d48",
   "metadata": {},
   "outputs": [
    {
     "data": {
      "text/plain": [
       "2703.161457577814"
      ]
     },
     "execution_count": 27,
     "metadata": {},
     "output_type": "execute_result"
    }
   ],
   "source": [
    "mean = np.mean(sp500['Adj Close'])\n",
    "mean\n"
   ]
  },
  {
   "cell_type": "code",
   "execution_count": 28,
   "id": "752c7932",
   "metadata": {},
   "outputs": [
    {
     "data": {
      "text/plain": [
       "2268.89990234375"
      ]
     },
     "execution_count": 28,
     "metadata": {},
     "output_type": "execute_result"
    }
   ],
   "source": [
    "import statistics \n",
    "mode = statistics.mode(sp500['Adj Close'])\n",
    "mode"
   ]
  },
  {
   "cell_type": "code",
   "execution_count": 29,
   "id": "9c7c3c5a",
   "metadata": {},
   "outputs": [
    {
     "data": {
      "text/plain": [
       "2723.530029296875"
      ]
     },
     "execution_count": 29,
     "metadata": {},
     "output_type": "execute_result"
    }
   ],
   "source": [
    "median = np.median(sp500['Adj Close']) \n",
    "median"
   ]
  },
  {
   "cell_type": "code",
   "execution_count": 30,
   "id": "f2f626e4",
   "metadata": {},
   "outputs": [
    {
     "data": {
      "text/plain": [
       "count     754.000000\n",
       "mean     2703.161458\n",
       "std       227.623908\n",
       "min      2257.830078\n",
       "25%      2502.632507\n",
       "50%      2723.530029\n",
       "75%      2879.137390\n",
       "max      3240.020020\n",
       "Name: Adj Close, dtype: float64"
      ]
     },
     "execution_count": 30,
     "metadata": {},
     "output_type": "execute_result"
    }
   ],
   "source": [
    "sp500['Adj Close'].describe()\n"
   ]
  },
  {
   "cell_type": "markdown",
   "metadata": {},
   "source": [
    "##### <a id='toc1_1_1_1_2_'></a>[ Some basic statistics to do with the FTSE 100](#toc0_)"
   ]
  },
  {
   "cell_type": "code",
   "execution_count": 31,
   "id": "9fc0e09b",
   "metadata": {},
   "outputs": [
    {
     "name": "stdout",
     "output_type": "stream",
     "text": [
      "[*********************100%***********************]  1 of 1 completed\n"
     ]
    }
   ],
   "source": [
    "#### \n",
    "import yfinance as yf\n",
    "import numpy as np\n",
    "ftse100 = yf.download('^FTSE','2017-01-01', '2020-01-01')"
   ]
  },
  {
   "cell_type": "code",
   "execution_count": 32,
   "id": "da7aae86",
   "metadata": {},
   "outputs": [
    {
     "data": {
      "text/plain": [
       "7339.696432068355"
      ]
     },
     "execution_count": 32,
     "metadata": {},
     "output_type": "execute_result"
    }
   ],
   "source": [
    "mean = np.mean(ftse100['Adj Close'])\n",
    "mean\n"
   ]
  },
  {
   "cell_type": "code",
   "execution_count": 33,
   "id": "7602b0f8",
   "metadata": {},
   "outputs": [
    {
     "data": {
      "text/plain": [
       "7189.7001953125"
      ]
     },
     "execution_count": 33,
     "metadata": {},
     "output_type": "execute_result"
    }
   ],
   "source": [
    "import statistics \n",
    "mode = statistics.mode(ftse100['Adj Close'])\n",
    "mode"
   ]
  },
  {
   "cell_type": "code",
   "execution_count": 34,
   "id": "49b40817",
   "metadata": {},
   "outputs": [
    {
     "data": {
      "text/plain": [
       "7348.75"
      ]
     },
     "execution_count": 34,
     "metadata": {},
     "output_type": "execute_result"
    }
   ],
   "source": [
    "median = np.median(ftse100['Adj Close']) \n",
    "median"
   ]
  },
  {
   "cell_type": "code",
   "execution_count": 35,
   "id": "1023b418",
   "metadata": {},
   "outputs": [
    {
     "data": {
      "text/plain": [
       "count     758.000000\n",
       "mean     7339.696432\n",
       "std       222.832171\n",
       "min      6584.700195\n",
       "25%      7203.225098\n",
       "50%      7348.750000\n",
       "75%      7502.025146\n",
       "max      7877.500000\n",
       "Name: Adj Close, dtype: float64"
      ]
     },
     "execution_count": 35,
     "metadata": {},
     "output_type": "execute_result"
    }
   ],
   "source": [
    "ftse100['Adj Close'].describe()"
   ]
  },
  {
   "cell_type": "markdown",
   "metadata": {},
   "source": [
    "##### <a id='toc1_1_1_1_3_'></a>[ Some basic statistics to do with the Gold](#toc0_)"
   ]
  },
  {
   "cell_type": "code",
   "execution_count": 36,
   "id": "fcdad133",
   "metadata": {},
   "outputs": [
    {
     "name": "stdout",
     "output_type": "stream",
     "text": [
      "[*********************100%***********************]  1 of 1 completed\n"
     ]
    },
    {
     "data": {
      "text/plain": [
       "1306.1725101546938"
      ]
     },
     "execution_count": 36,
     "metadata": {},
     "output_type": "execute_result"
    }
   ],
   "source": [
    "gold = yf.download('GC=F','2017-01-01', '2020-01-01')\n",
    "mean = np.mean(gold['Adj Close'])\n",
    "mean\n"
   ]
  },
  {
   "cell_type": "code",
   "execution_count": 37,
   "id": "d6a7c19c",
   "metadata": {},
   "outputs": [
    {
     "data": {
      "text/plain": [
       "1254.300048828125"
      ]
     },
     "execution_count": 37,
     "metadata": {},
     "output_type": "execute_result"
    }
   ],
   "source": [
    "#### Calculating Mode \n",
    "\n",
    "import statistics \n",
    "mode = statistics.mode(gold['Adj Close'])\n",
    "mode"
   ]
  },
  {
   "cell_type": "code",
   "execution_count": 38,
   "id": "2a775758",
   "metadata": {},
   "outputs": [
    {
     "data": {
      "text/plain": [
       "1285.5"
      ]
     },
     "execution_count": 38,
     "metadata": {},
     "output_type": "execute_result"
    }
   ],
   "source": [
    "median = np.median(gold['Adj Close']) \n",
    "median"
   ]
  },
  {
   "cell_type": "code",
   "execution_count": 39,
   "id": "af9767e7",
   "metadata": {},
   "outputs": [
    {
     "data": {
      "text/plain": [
       "count     753.000000\n",
       "mean     1306.172510\n",
       "std        89.609492\n",
       "min      1160.400024\n",
       "25%      1245.199951\n",
       "50%      1285.500000\n",
       "75%      1330.000000\n",
       "max      1550.300049\n",
       "Name: Adj Close, dtype: float64"
      ]
     },
     "execution_count": 39,
     "metadata": {},
     "output_type": "execute_result"
    }
   ],
   "source": [
    "gold['Adj Close'].describe()"
   ]
  },
  {
   "cell_type": "markdown",
   "metadata": {},
   "source": [
    "##### <a id='toc1_1_1_1_4_'></a>[ Some basic statistics to do with the Crude Oil](#toc0_)"
   ]
  },
  {
   "cell_type": "code",
   "execution_count": 40,
   "id": "762666d4",
   "metadata": {},
   "outputs": [
    {
     "name": "stdout",
     "output_type": "stream",
     "text": [
      "[*********************100%***********************]  1 of 1 completed\n"
     ]
    }
   ],
   "source": [
    "#### \n",
    "import yfinance as yf\n",
    "import numpy as np\n",
    "oil = yf.download('CL=F','2017-01-01', '2020-01-01')"
   ]
  },
  {
   "cell_type": "code",
   "execution_count": 41,
   "id": "27326f2e",
   "metadata": {},
   "outputs": [
    {
     "data": {
      "text/plain": [
       "57.61342182715945"
      ]
     },
     "execution_count": 41,
     "metadata": {},
     "output_type": "execute_result"
    }
   ],
   "source": [
    "mean = np.mean(oil['Adj Close'])\n",
    "mean"
   ]
  },
  {
   "cell_type": "code",
   "execution_count": 42,
   "id": "d2a58d2b",
   "metadata": {},
   "outputs": [
    {
     "data": {
      "text/plain": [
       "61.68000030517578"
      ]
     },
     "execution_count": 42,
     "metadata": {},
     "output_type": "execute_result"
    }
   ],
   "source": [
    "import statistics \n",
    "mode = statistics.mode(oil['Adj Close'])\n",
    "mode"
   ]
  },
  {
   "cell_type": "code",
   "execution_count": 43,
   "id": "fd9acdf6",
   "metadata": {},
   "outputs": [
    {
     "data": {
      "text/plain": [
       "56.69999885559082"
      ]
     },
     "execution_count": 43,
     "metadata": {},
     "output_type": "execute_result"
    }
   ],
   "source": [
    "median = np.median(oil['Adj Close']) \n",
    "median"
   ]
  },
  {
   "cell_type": "code",
   "execution_count": 44,
   "id": "5764e9d6",
   "metadata": {},
   "outputs": [
    {
     "data": {
      "text/plain": [
       "count    754.000000\n",
       "mean      57.613422\n",
       "std        7.596221\n",
       "min       42.529999\n",
       "25%       52.080000\n",
       "50%       56.699999\n",
       "75%       63.414999\n",
       "max       76.410004\n",
       "Name: Adj Close, dtype: float64"
      ]
     },
     "execution_count": 44,
     "metadata": {},
     "output_type": "execute_result"
    }
   ],
   "source": [
    "oil['Adj Close'].describe()"
   ]
  },
  {
   "cell_type": "markdown",
   "metadata": {},
   "source": [
    "##### <a id='toc1_1_1_1_5_'></a>[ Some basic statistics to do with the Bitcoin (BTC-USD)](#toc0_)"
   ]
  },
  {
   "cell_type": "code",
   "execution_count": 45,
   "id": "c06f25e6",
   "metadata": {},
   "outputs": [
    {
     "name": "stdout",
     "output_type": "stream",
     "text": [
      "[*********************100%***********************]  1 of 1 completed\n"
     ]
    }
   ],
   "source": [
    "#### \n",
    "import yfinance as yf\n",
    "import numpy as np\n",
    "bitcoin = yf.download('BTC-USD','2017-01-01', '2020-01-01')"
   ]
  },
  {
   "cell_type": "code",
   "execution_count": 46,
   "id": "155a7501",
   "metadata": {},
   "outputs": [
    {
     "data": {
      "text/plain": [
       "6325.325234573253"
      ]
     },
     "execution_count": 46,
     "metadata": {},
     "output_type": "execute_result"
    }
   ],
   "source": [
    "mean = np.mean(bitcoin['Adj Close'])\n",
    "mean"
   ]
  },
  {
   "cell_type": "code",
   "execution_count": 47,
   "id": "ddd019df",
   "metadata": {},
   "outputs": [
    {
     "data": {
      "text/plain": [
       "1179.969970703125"
      ]
     },
     "execution_count": 47,
     "metadata": {},
     "output_type": "execute_result"
    }
   ],
   "source": [
    "import statistics \n",
    "mode = statistics.mode(bitcoin['Adj Close'])\n",
    "mode"
   ]
  },
  {
   "cell_type": "code",
   "execution_count": 48,
   "id": "bd721a9a",
   "metadata": {},
   "outputs": [
    {
     "data": {
      "text/plain": [
       "6481.364990234375"
      ]
     },
     "execution_count": 48,
     "metadata": {},
     "output_type": "execute_result"
    }
   ],
   "source": [
    "median = np.median(bitcoin['Adj Close']) \n",
    "median"
   ]
  },
  {
   "cell_type": "code",
   "execution_count": 49,
   "id": "a570a562",
   "metadata": {},
   "outputs": [
    {
     "data": {
      "text/plain": [
       "count     1096.000000\n",
       "mean      6325.325235\n",
       "std       3531.775079\n",
       "min        777.757019\n",
       "25%       3673.178040\n",
       "50%       6481.364990\n",
       "75%       8428.574707\n",
       "max      19497.400391\n",
       "Name: Adj Close, dtype: float64"
      ]
     },
     "execution_count": 49,
     "metadata": {},
     "output_type": "execute_result"
    }
   ],
   "source": [
    "bitcoin['Adj Close'].describe()"
   ]
  },
  {
   "cell_type": "markdown",
   "metadata": {},
   "source": [
    "##### <a id='toc1_1_1_1_6_'></a>[ Some basic statistics to do with the 10 YR US Treasuries (TLT)](#toc0_)"
   ]
  },
  {
   "cell_type": "code",
   "execution_count": 50,
   "id": "7e320795",
   "metadata": {},
   "outputs": [
    {
     "name": "stdout",
     "output_type": "stream",
     "text": [
      "[*********************100%***********************]  1 of 1 completed\n"
     ]
    }
   ],
   "source": [
    "#### \n",
    "import yfinance as yf\n",
    "import numpy as np\n",
    "bond = yf.download('TLT','2017-01-01', '2020-01-01')"
   ]
  },
  {
   "cell_type": "code",
   "execution_count": 51,
   "id": "4fe79a8c",
   "metadata": {},
   "outputs": [
    {
     "data": {
      "text/plain": [
       "109.92834441288713"
      ]
     },
     "execution_count": 51,
     "metadata": {},
     "output_type": "execute_result"
    }
   ],
   "source": [
    "mean = np.mean(bond['Adj Close'])\n",
    "mean"
   ]
  },
  {
   "cell_type": "code",
   "execution_count": 52,
   "id": "eea20285",
   "metadata": {},
   "outputs": [
    {
     "data": {
      "text/plain": [
       "101.7562484741211"
      ]
     },
     "execution_count": 52,
     "metadata": {},
     "output_type": "execute_result"
    }
   ],
   "source": [
    "import statistics \n",
    "mode = statistics.mode(bond['Adj Close'])\n",
    "mode"
   ]
  },
  {
   "cell_type": "code",
   "execution_count": 53,
   "id": "83fc9e22",
   "metadata": {},
   "outputs": [
    {
     "data": {
      "text/plain": [
       "107.40604782104492"
      ]
     },
     "execution_count": 53,
     "metadata": {},
     "output_type": "execute_result"
    }
   ],
   "source": [
    "median = np.median(bond['Adj Close']) \n",
    "median"
   ]
  },
  {
   "cell_type": "code",
   "execution_count": 54,
   "id": "1b9d9b54",
   "metadata": {},
   "outputs": [
    {
     "data": {
      "text/plain": [
       "count    754.000000\n",
       "mean     109.928344\n",
       "std        8.386847\n",
       "min       99.118416\n",
       "25%      104.247091\n",
       "50%      107.406048\n",
       "75%      110.986008\n",
       "max      133.833862\n",
       "Name: Adj Close, dtype: float64"
      ]
     },
     "execution_count": 54,
     "metadata": {},
     "output_type": "execute_result"
    }
   ],
   "source": [
    "bond['Adj Close'].describe()"
   ]
  },
  {
   "cell_type": "markdown",
   "metadata": {},
   "source": [
    "### <a id='toc1_1_2_'></a>[Further explaratory data analysis](#toc0_)"
   ]
  },
  {
   "cell_type": "code",
   "execution_count": null,
   "id": "c177c659",
   "metadata": {},
   "outputs": [],
   "source": [
    "# Import necessary libraries\n",
    "import yfinance as yf\n",
    "import pandas as pd\n",
    "import matplotlib.pyplot as plt\n",
    "import seaborn as sns\n",
    "from scipy import stats\n",
    "\n",
    "def get_stock_data(symbol, start_date, end_date):\n",
    "    stock_data = yf.download(symbol, start=start_date, end=end_date)\n",
    "    return stock_data['Close']\n",
    "\n",
    "# Fetch S&P 500 data from Yahoo Finance\n",
    "sp500_data = get_stock_data('SPY', '2017-01-01', '2020-01-01')\n",
    "\n",
    "# Calculate statistics\n",
    "mean = sp500_data.mean()\n",
    "median = sp500_data.median()\n",
    "mode = sp500_data.mode()[0]  # Mode can have multiple values, so we take the first one\n",
    "range_val = sp500_data.max() - sp500_data.min()\n",
    "skewness = stats.skew(sp500_data)\n",
    "\n",
    "# Print the calculated statistics\n",
    "print(f\"Mean: {mean}\")\n",
    "print(f\"Median: {median}\")\n",
    "print(f\"Mode: {mode}\")\n",
    "print(f\"Range: {range_val}\")\n",
    "print(f\"Skewness: {skewness}\")\n",
    "\n",
    "# Plotting the data\n",
    "plt.figure(figsize=(12, 6))\n",
    "sns.histplot(sp500_data, kde=True)\n",
    "plt.title('S&P 500 Closing Prices Distribution for data 01-01-2017 to 01-01-2021')\n",
    "plt.xlabel('Closing Price')\n",
    "plt.ylabel('Frequency')\n",
    "plt.show()\n",
    "\n",
    "# Displaying the data table\n",
    "print(sp500_data)\n",
    "\n",
    "\n",
    "# Fetch FTSE data from Yahoo Finance\n",
    "ftse_data = get_stock_data('^FTSE', '2017-01-01', '2021-01-01')\n",
    "\n",
    "# Calculate statistics\n",
    "mean = ftse_data.mean()\n",
    "median = ftse_data.median()\n",
    "mode = ftse_data.mode()[0]  # Mode can have multiple values, so we take the first one\n",
    "range_val = ftse_data.max() - ftse_data.min()\n",
    "skewness = stats.skew(ftse_data)\n",
    "\n",
    "# Print the calculated statistics\n",
    "print(f\"Mean: {mean}\")\n",
    "print(f\"Median: {median}\")\n",
    "print(f\"Mode: {mode}\")\n",
    "print(f\"Range: {range_val}\")\n",
    "print(f\"Skewness: {skewness}\")\n",
    "\n",
    "# Plotting the data\n",
    "plt.figure(figsize=(12, 6))\n",
    "sns.histplot(ftse_data, kde=True)\n",
    "plt.title('FTSE Closing Prices Distribution for data 01-01-2017 to 01-01-2021')\n",
    "plt.xlabel('Closing Price')\n",
    "plt.ylabel('Frequency')\n",
    "plt.show()\n",
    "\n",
    "# Displaying the data table\n",
    "print(ftse_data)\n",
    "\n",
    "\n",
    "\n",
    "# Fetch Gold data from Yahoo Finance\n",
    "gold_data = get_stock_data('GC=F', '2017-01-01', '2021-01-01')\n",
    "\n",
    "# Calculate statistics\n",
    "mean = gold_data.mean()\n",
    "median = gold_data.median()\n",
    "mode = gold_data.mode()[0]  # Mode can have multiple values, so we take the first one\n",
    "range_val = gold_data.max() - gold_data.min()\n",
    "skewness = stats.skew(gold_data)\n",
    "\n",
    "# Print the calculated statistics\n",
    "print(f\"Mean: {mean}\")\n",
    "print(f\"Median: {median}\")\n",
    "print(f\"Mode: {mode}\")\n",
    "print(f\"Range: {range_val}\")\n",
    "print(f\"Skewness: {skewness}\")\n",
    "\n",
    "# Plotting the data\n",
    "plt.figure(figsize=(12, 6))\n",
    "sns.histplot(ftse_data, kde=True)\n",
    "plt.title('Gold Closing Prices Distribution for data 01-01-2017 to 01-01-2021')\n",
    "plt.xlabel('Closing Price')\n",
    "plt.ylabel('Frequency')\n",
    "plt.show()\n",
    "\n",
    "# Displaying the data table\n",
    "print(gold_data)\n",
    "\n",
    "# Fetch Crude Oil data from Yahoo Finance\n",
    "crudeoil_data = get_stock_data('CL=F', '2017-01-01', '2021-01-01')\n",
    "\n",
    "# Calculate statistics\n",
    "mean = crudeoil_data.mean()\n",
    "median = crudeoil_data.median()\n",
    "mode = crudeoil_data.mode()[0]  # Mode can have multiple values, so we take the first one\n",
    "range_val = crudeoil_data.max() - crudeoil_data.min()\n",
    "skewness = stats.skew(crudeoil_data)\n",
    "\n",
    "# Print the calculated statistics\n",
    "print(f\"Mean: {mean}\")\n",
    "print(f\"Median: {median}\")\n",
    "print(f\"Mode: {mode}\")\n",
    "print(f\"Range: {range_val}\")\n",
    "print(f\"Skewness: {skewness}\")\n",
    "\n",
    "# Plotting the data\n",
    "plt.figure(figsize=(12, 6))\n",
    "sns.histplot(crudeoil_data, kde=True)\n",
    "plt.title('Crude Oil Closing Prices Distribution for data 01-01-2017 to 01-01-2021')\n",
    "plt.xlabel('Closing Price')\n",
    "plt.ylabel('Frequency')\n",
    "plt.show()\n",
    "\n",
    "# Displaying the data table\n",
    "print(crudeoil_data)\n",
    "\n",
    "\n",
    "# Fetch Bitcoin data from Yahoo Finance\n",
    "bitcoin_data = get_stock_data('BTC-USD', '2017-01-01', '2021-01-01')\n",
    "\n",
    "# Calculate statistics\n",
    "mean = bitcoin_data.mean()\n",
    "median = bitcoin_data.median()\n",
    "mode = bitcoin_data.mode()[0]  # Mode can have multiple values, so we take the first one\n",
    "range_val = bitcoin_data.max() - bitcoin_data.min()\n",
    "skewness = stats.skew(bitcoin_data)\n",
    "\n",
    "# Print the calculated statistics\n",
    "print(f\"Mean: {mean}\")\n",
    "print(f\"Median: {median}\")\n",
    "print(f\"Mode: {mode}\")\n",
    "print(f\"Range: {range_val}\")\n",
    "print(f\"Skewness: {skewness}\")\n",
    "\n",
    "# Plotting the data\n",
    "plt.figure(figsize=(12, 6))\n",
    "sns.histplot(crudeoil_data, kde=True)\n",
    "plt.title('Bitcoin Closing Prices Distribution for data 01-01-2017 to 01-01-2021')\n",
    "plt.xlabel('Closing Price')\n",
    "plt.ylabel('Frequency')\n",
    "plt.show()\n",
    "\n",
    "# Displaying the data table\n",
    "print(bitcoin_data)\n",
    "\n",
    "\n",
    "\n",
    "# Fetch Bitcoin data from Yahoo Finance\n",
    "tlt_data = get_stock_data('TLT', '2017-01-01', '2021-01-01')\n",
    "\n",
    "# Calculate statistics\n",
    "mean = tlt_data.mean()\n",
    "median = tlt_data.median()\n",
    "mode = tlt_data.mode()[0]  # Mode can have multiple values, so we take the first one\n",
    "range_val = tlt_data.max() - tlt_data.min()\n",
    "skewness = stats.skew(tlt_data)\n",
    "\n",
    "# Print the calculated statistics\n",
    "print(f\"Mean: {mean}\")\n",
    "print(f\"Median: {median}\")\n",
    "print(f\"Mode: {mode}\")\n",
    "print(f\"Range: {range_val}\")\n",
    "print(f\"Skewness: {skewness}\")\n",
    "\n",
    "# Plotting the data\n",
    "plt.figure(figsize=(12, 6))\n",
    "sns.histplot(crudeoil_data, kde=True)\n",
    "plt.title('US Treasury 10Y ETF Closing Prices Distribution for data 01-01-2017 to 01-01-2021')\n",
    "plt.xlabel('Closing Price')\n",
    "plt.ylabel('Frequency')\n",
    "plt.show()\n",
    "\n",
    "# Displaying the data table\n",
    "print(tlt_data)"
   ]
  },
  {
   "cell_type": "markdown",
   "metadata": {},
   "source": [
    "#### <a id='toc1_1_2_1_'></a>[Investigating the statistical properties of financial markets](#toc0_)"
   ]
  },
  {
   "cell_type": "code",
   "execution_count": null,
   "id": "2bab7435",
   "metadata": {},
   "outputs": [],
   "source": [
    "!pip install yfinance    # Install Yahoo Fianace package\n",
    "import yfinance as yf \n",
    "import pandas as pd\n",
    "from statsmodels.graphics import tsaplots \n",
    "import matplotlib.pyplot as plt\n",
    "import seaborn as sns"
   ]
  },
  {
   "cell_type": "code",
   "execution_count": null,
   "id": "9a8896bd",
   "metadata": {},
   "outputs": [],
   "source": [
    "def download(stock):  \n",
    "    \"\"\"\n",
    "    Download the stock historical data.\n",
    "\n",
    "    Parameters\n",
    "    ----------\n",
    "    stock: str\n",
    "      Stock symbol.\n",
    "\n",
    "    Returns\n",
    "    -------\n",
    "    DataFrame\n",
    "      Downloaded stock historical data.\n",
    "    \"\"\"\n",
    "\n",
    "\n",
    "    df = yf.download(\n",
    "         [stock],\n",
    "         start=\"2017-01-01\",\n",
    "         end=\"2020-01-01\",\n",
    "         group_by=\"ticker\",\n",
    "         progress=False)\n",
    "            \n",
    "    df = df.round(4)\n",
    "    df.insert(loc=0, column='Company', value=stock) \n",
    "    return df\n",
    "\n",
    "\n",
    "# Download S&P 500 dataframe\n",
    "df_GSPC = download('^GSPC')  \n",
    "# Download FTSE 100 dataframe      \n",
    "df_FTSE = download('^FTSE')   \n",
    "# Download Gold dataframe    \n",
    "df_GCF = download('GC=F')     \n",
    "# Download Crude oil dataframe \n",
    "df_CLF = download('CL=F')    \n",
    "# Download Bitcoin dataframe        \n",
    "df_BTC = download('BTC-USD')    \n",
    "# Download 20 year treasury bond ETF dataframe        \n",
    "df_TLT = download('TLT')  \n",
    "\n",
    "stock_list={'S&P': df_GSPC, 'FTSE': df_FTSE, 'Gold': df_GCF, 'Crude': df_CLF, 'Bitcoin': df_BTC, 'TLT': df_TLT}"
   ]
  },
  {
   "cell_type": "code",
   "execution_count": null,
   "id": "db09cfc3",
   "metadata": {
    "scrolled": false
   },
   "outputs": [],
   "source": [
    "def info(stock, df):\n",
    "    \"\"\"\n",
    "    Print the summary information of each stock.\n",
    "\n",
    "    Parameters\n",
    "    ----------\n",
    "    stock: str\n",
    "      Stock company name.\n",
    "    df: DataFrame\n",
    "      Stock's dataframe.\n",
    "\n",
    "    Returns\n",
    "    -------\n",
    "    None.\n",
    "    \"\"\"\n",
    "\n",
    "    print(f'{stock}\\'s Historical Data: \\n\\n {df} \\n\\n')\n",
    "    print(f'{stock}\\'s Column Information: \\n')\n",
    "    print(df.info(),'\\n\\n')\n",
    "    print(f'{stock}\\'s Statistic Summary: \\n\\n {df.describe().round(4)}')\n",
    "    print('-'*75)\n",
    "    print()\n",
    "\n",
    "\n",
    "print(info('S&P', df_GSPC))\n",
    "print(info('FTSE', df_FTSE))\n",
    "print(info('Gold', df_GCF))\n",
    "print(info('Crude Oil', df_CLF))\n",
    "print(info('Bitcoin', df_BTC))\n",
    "print(info('TLT', df_TLT))"
   ]
  },
  {
   "cell_type": "code",
   "execution_count": null,
   "id": "aceaf394",
   "metadata": {},
   "outputs": [],
   "source": [
    "fig, ax = plt.subplots(2,3,figsize=(20,15))\n",
    "fig.delaxes(ax[1,2])\n",
    "fontsize = 15\n",
    "\n",
    "# S&P 500\n",
    "ax[0,0].plot(df_GSPC['Adj Close'])\n",
    "ax[0,0].set_title('S&P 500', fontsize=fontsize)\n",
    "ax[0,0].set_xlabel('Date', fontsize=fontsize)\n",
    "ax[0,0].set_ylabel('Price($)', fontsize=fontsize)\n",
    "\n",
    "# FTSE 100\n",
    "ax[0,1].plot(df_FTSE['Adj Close'])\n",
    "ax[0,1].set_title('FTSE 100', fontsize=fontsize)\n",
    "ax[0,1].set_xlabel('Date', fontsize=fontsize)\n",
    "ax[0,1].set_ylabel('Price($)', fontsize=fontsize)\n",
    "\n",
    "# Gold\n",
    "ax[0,2].plot(df_GCF['Adj Close'])\n",
    "ax[0,2].set_title('Gold', fontsize=fontsize)\n",
    "ax[0,2].set_xlabel('Date', fontsize=fontsize)\n",
    "ax[0,2].set_ylabel('Price($)', fontsize=fontsize)\n",
    "\n",
    "# Crude oil\n",
    "ax[1,0].plot(df_CLF['Adj Close'])\n",
    "ax[1,0].set_title('Crude Oil', fontsize=fontsize)\n",
    "ax[1,0].set_xlabel('Date', fontsize=fontsize)\n",
    "ax[1,0].set_ylabel('Price($)', fontsize=fontsize)\n",
    "\n",
    "# Bitcoin\n",
    "ax[1,1].plot(df_BTC['Adj Close'])\n",
    "ax[1,1].set_title('Bitcoin', fontsize=fontsize)\n",
    "ax[1,1].set_xlabel('Date', fontsize=fontsize)\n",
    "ax[1,1].set_ylabel('Price($)', fontsize=fontsize)\n",
    "\n",
    "# 20 Year Treasury Bond ETF\n",
    "ax[1,2].plot(df_TLT['Adj Close'])\n",
    "ax[1,2].set_title('20 Yr Bond ETF', fontsize=fontsize)\n",
    "ax[1,2].set_xlabel('Date', fontsize=fontsize)\n",
    "ax[1,2].set_ylabel('Price($)', fontsize=fontsize)\n",
    "\n",
    "plt.suptitle('Adjusted Close Price', fontsize=25, fontweight='bold', x=0.5, y=0.94)\n",
    "plt.show()"
   ]
  },
  {
   "cell_type": "code",
   "execution_count": null,
   "id": "be889bf0",
   "metadata": {
    "scrolled": false
   },
   "outputs": [],
   "source": [
    "def boxplot(stock, company):\n",
    "    \"\"\"\n",
    "    Plot the boxplot of adjusted close price.\n",
    "\n",
    "    Parameters\n",
    "    ----------\n",
    "    stock: DataFrame\n",
    "      Stock's DataFrame.\n",
    "    company: str\n",
    "      Company name.\n",
    "\n",
    "    Returns\n",
    "    -------\n",
    "    None.\n",
    "    \"\"\"\n",
    "\n",
    "    plt.figure(figsize=(8,6))\n",
    "    plt.boxplot(stock['Adj Close'])\n",
    "    plt.ylabel('Price($)')\n",
    "    plt.title(f'{company}\\'s Adjusted Close Price', fontsize=15)\n",
    "    plt.show()\n",
    "  \n",
    "  \n",
    "for company, stock in stock_list.items():\n",
    "    print(boxplot(stock, company),'\\n')"
   ]
  },
  {
   "cell_type": "code",
   "execution_count": null,
   "id": "ac22da7d",
   "metadata": {
    "scrolled": false
   },
   "outputs": [],
   "source": [
    "def scatter_matrix(stock, company):\n",
    "    \"\"\"\n",
    "    Plot the scatter matrix.\n",
    "\n",
    "    Parameters\n",
    "    ----------\n",
    "    stock: DataFrame\n",
    "      Stock's DataFrame.\n",
    "    company: str\n",
    "      Company name.\n",
    "  \n",
    "    Returns\n",
    "    -------\n",
    "    None.\n",
    "    \"\"\"\n",
    "\n",
    "    pd.plotting.scatter_matrix(stock, figsize=(8,8), alpha=0.3)\n",
    "    plt.suptitle(f'Pairwise Scatter Plot of {company}', x=0.5, y=0.92)\n",
    "    plt.show()\n",
    "\n",
    "\n",
    "for company, stock in stock_list.items():\n",
    "    print(scatter_matrix(stock, company),'\\n')"
   ]
  },
  {
   "cell_type": "code",
   "execution_count": null,
   "id": "968381d8",
   "metadata": {
    "scrolled": true
   },
   "outputs": [],
   "source": [
    "def heatmap(stock, company):\n",
    "    \"\"\"\n",
    "    Plot the correlation heatmap.\n",
    "\n",
    "    Parameters\n",
    "    ----------\n",
    "    stock: DataFrame\n",
    "      Stock's DataFrame.\n",
    "    company: str\n",
    "      Company name.\n",
    "\n",
    "    Returns\n",
    "    -------\n",
    "    None.\n",
    "    \"\"\"\n",
    "\n",
    "    plt.figure(figsize = (8,8))\n",
    "    sns.heatmap(stock.corr(), cmap='GnBu', annot=True, linewidths = 1, fmt='f').set_title(f'Correlation Heatmap of {company}', fontsize=15)\n",
    "    plt.xticks(rotation=30, fontsize=10)\n",
    "    plt.yticks(rotation=0, fontsize=10)\n",
    "    plt.show()\n",
    "  \n",
    "  \n",
    "for company, stock in stock_list.items():\n",
    "    print(heatmap(stock, company),'\\n')"
   ]
  },
  {
   "cell_type": "code",
   "execution_count": null,
   "id": "1efda85a",
   "metadata": {},
   "outputs": [],
   "source": [
    "def autocorrelation(stock, company):\n",
    "    \"\"\"\n",
    "    Plot the autocorrelation of stocks based on adjusted close price.\n",
    " \n",
    "    Parameters\n",
    "    ----------\n",
    "    stock: DataFrame\n",
    "      Stock's DataFrame.\n",
    "    company: str\n",
    "      Company name.\n",
    "\n",
    "    Returns\n",
    "    -------\n",
    "    None\n",
    "    \"\"\"\n",
    "\n",
    "    tsaplots.plot_acf(stock[\"Adj Close\"], lags=50)  \n",
    "    plt.title(f'Autocorrelation of {company}\\'s Adjusted Close Price', fontsize=13)\n",
    "    plt.xlabel('Lags (Days)', fontsize=10)\n",
    "    plt.ylabel('Correlation', fontsize=10)\n",
    "    plt.show()\n",
    "\n",
    "\n",
    "for company, stock in stock_list.items():\n",
    "    print(autocorrelation(stock, company),'\\n')"
   ]
  },
  {
   "cell_type": "markdown",
   "metadata": {},
   "source": [
    "### <a id='toc1_1_3_'></a>[Kurtosis](#toc0_)"
   ]
  },
  {
   "cell_type": "markdown",
   "id": "89a3015f",
   "metadata": {},
   "source": [
    "The distribution of asset returns are often not in line with the normal distribution and often display positive excess kurtosis.We can capture and estimate the tail risk using a leptokurtic distribution such as the student's t distribution. The student's t distribution is symmetric, however it has a fatter tail. which is symmetric like the normal distribution but has fatter tails."
   ]
  },
  {
   "cell_type": "code",
   "execution_count": null,
   "id": "2cdfd3bb",
   "metadata": {},
   "outputs": [],
   "source": [
    "# standard imports\n",
    "import warnings\n",
    "warnings.filterwarnings('ignore')\n",
    "\n",
    "import pandas as pd\n",
    "import numpy as np\n",
    "import datetime as dt\n",
    "import yfinance as yf\n",
    "import matplotlib.pyplot as plt\n",
    "%matplotlib inline\n",
    "import seaborn as sns\n",
    "from IPython.core.interactiveshell import InteractiveShell\n",
    "InteractiveShell.ast_node_interactivity = \"all\"\n",
    "\n",
    "# Generating random data from the three distributions\n",
    "mesokurtic = np.random.normal(0,1,10000)\n",
    "platykurtic = np.random.uniform(-2,2,10000)\n",
    "leptokurtic = np.random.laplace(0,1,10000)\n",
    "\n",
    "# putting the data in a DataFrame and standardizing\n",
    "df = pd.DataFrame({'mesokurtic_Normal':mesokurtic,'platykurtic_Uniform':platykurtic,'leptokurtic_Laplace':leptokurtic})\n",
    "df = (df - df.mean())/df.std()\n",
    "\n",
    "# plotting the three distributions \n",
    "sns.set(rc={'figure.figsize':(12,7)})\n",
    "sns.distplot(df['mesokurtic_Normal'], color='blue', label='mesokurtic: Standard Normal',hist=False)\n",
    "sns.distplot(df['platykurtic_Uniform'], color='red', label='platykurtic: Uniform',hist=False)\n",
    "sns.distplot(df['leptokurtic_Laplace'], color='green', label='leptokurtic: Laplace',hist=False)\n",
    "plt.title('Mesokurtic, Platykurtic and Leptokurtic Distributions', fontsize=15)\n",
    "plt.xlabel('Standardized Values')\n",
    "plt.ylabel('PDF')\n",
    "plt.legend();\n",
    "plt.show();"
   ]
  },
  {
   "cell_type": "code",
   "execution_count": null,
   "id": "140cab7a",
   "metadata": {},
   "outputs": [],
   "source": [
    "results = pd.DataFrame({'MEAN': df.mean().round(2),'STANDARD DEVIATION':df.std().round(2),\\\n",
    "                        'SKEWNESS':df.skew().round(0),'EXCESS KURTOSIS':df.kurtosis().round(0) })\n",
    "results"
   ]
  },
  {
   "cell_type": "code",
   "execution_count": null,
   "id": "514a10d3",
   "metadata": {},
   "outputs": [],
   "source": [
    "# Fetching past five years of daily return data for S&P 500 Spyder ETF\n",
    "end = dt.datetime.today()\n",
    "start = end - dt.timedelta(days=252*5)\n",
    "df = yf.download(['^GSPC'],start,end,progress=False)[['Adj Close']].pct_change()\n",
    "df.columns=['^GSPC']\n",
    "\n",
    "# Generating random data from Normal and t distributions for the same period\n",
    "df['normal'] = np.random.standard_normal(len(df))\n",
    "df['t'] = t = np.random.standard_t(3.8,len(df))\n",
    "\n",
    "# Standardizing the distributions\n",
    "df = (df - df.mean())/df.std()\n",
    "\n",
    "# plotting the three distributions \n",
    "sns.set(rc={'figure.figsize':(12,7)})\n",
    "sns.distplot(df['^GSPC'], color='green', label=\"S&P 500\",hist=False)\n",
    "sns.distplot(df['normal'], color='blue', label='Normal',hist=False)\n",
    "sns.distplot(df['t'], color='red', label=\"Student's t\",hist=False)\n",
    "\n",
    "plt.title(\"Normal vs Student's t\",fontsize=15)\n",
    "plt.xlabel('Standardized Values')\n",
    "plt.ylabel('PDF')\n",
    "plt.legend();\n",
    "plt.show();"
   ]
  },
  {
   "cell_type": "code",
   "execution_count": null,
   "id": "829c806b",
   "metadata": {
    "scrolled": false
   },
   "outputs": [],
   "source": [
    "# getting return data for S&P 500 and the FTSE 100 \n",
    "start = dt.datetime(2017,1,1).date()\n",
    "end = dt.datetime(2020,12,31).date()\n",
    "\n",
    "tickers=['^GSPC','^FTSE','GC=F']\n",
    "DF =pd.DataFrame()\n",
    "\n",
    "for i in tickers:\n",
    "    df = yf.download(i,start,end,progress=False)[['Adj Close']].pct_change()\n",
    "    df.columns = [i]                         \n",
    "    DF = pd.concat([DF,df],axis =1)\n",
    "\n",
    "DF.dropna(inplace=True)\n",
    "\n",
    "# Checking the mean and standard deviations\n",
    "print(DF.describe().round(3)[1:3])\n",
    "\n",
    "# plotting the S&P 500 returns with the bitcoin returns\n",
    "DF.plot(figsize=(12,7))\n",
    "plt.title('SPY vs BTC daily returns', fontsize=15)\n",
    "plt.show();"
   ]
  },
  {
   "cell_type": "code",
   "execution_count": null,
   "id": "0cd443b9",
   "metadata": {},
   "outputs": [],
   "source": [
    "# plotting the distributions S&P 500, FTSE 100, and Gold Returns\n",
    "sns.set(rc={'figure.figsize':(12,7)})\n",
    "sns.distplot(DF['^GSPC'], color='blue',rug=False,hist=False, label='S&P 500')\n",
    "sns.distplot(DF['^FTSE'], color='red',rug=False,hist=False, label='FTSE 100')\n",
    "sns.distplot(DF['GC=F'], color='green',rug=False,hist=False, label='Gold returns')\n",
    "plt.title('Distributions of S&P 500 vs FTSE 100 vs Gold daily returns',fontsize=15);\n",
    "plt.legend()\n",
    "plt.show();"
   ]
  },
  {
   "cell_type": "code",
   "execution_count": null,
   "id": "355f6d2a",
   "metadata": {},
   "outputs": [],
   "source": [
    "# Calculating the excess kurtosis\n",
    "DF.kurtosis().round(0)"
   ]
  },
  {
   "cell_type": "code",
   "execution_count": null,
   "id": "fb60b88a",
   "metadata": {},
   "outputs": [],
   "source": [
    "DF = (DF- DF.mean())/ DF.std()\n",
    "\n",
    "# Creating samples from a standard normal distribution for comparison\n",
    "DF['Standard_Normal'] = np.random.normal(0,1,DF.shape[0])\n",
    "\n",
    "# Checking the mean and standard deviation of standardized variables\n",
    "DF.describe().round(1)[1:3]\n",
    "\n",
    "print('Excess Kurtosis:\\n',DF.kurtosis().round(0))"
   ]
  },
  {
   "cell_type": "code",
   "execution_count": null,
   "id": "2b73cbfe",
   "metadata": {
    "scrolled": false
   },
   "outputs": [],
   "source": [
    "# Plotting the returns \n",
    "DF.plot(figsize=(12,7));\n",
    "plt.title('Standardized daily returns', fontsize=15)"
   ]
  },
  {
   "cell_type": "code",
   "execution_count": null,
   "id": "9aed16d0",
   "metadata": {},
   "outputs": [],
   "source": [
    "# plotting the three distributions \n",
    "sns.set(rc={'figure.figsize':(12,7)})\n",
    "sns.distplot(DF['^GSPC'], color='blue',rug=True,hist=False, label=' S&P 500')\n",
    "sns.distplot(DF['^FTSE'], color='red',rug=True,hist=False, label='FTSE 100')\n",
    "sns.distplot(DF['GC=F'], color='magenta',rug=True,hist=False, label='Gold')\n",
    "sns.distplot(DF['Standard_Normal'], color='green',rug=True,hist=False, label='Standard_Normal')\n",
    "plt.title('Distributions of S&P 500, FTSE 100, Gold and Standard Normal returns',fontsize=15);\n",
    "plt.legend()\n",
    "plt.show();"
   ]
  },
  {
   "cell_type": "markdown",
   "metadata": {},
   "source": [
    "### <a id='toc1_1_4_'></a>[Calculating  Returns](#toc0_)"
   ]
  },
  {
   "cell_type": "code",
   "execution_count": null,
   "id": "102d637a",
   "metadata": {
    "scrolled": false
   },
   "outputs": [],
   "source": [
    "pip install mplfinance"
   ]
  },
  {
   "cell_type": "code",
   "execution_count": null,
   "id": "dde2afdf",
   "metadata": {},
   "outputs": [],
   "source": [
    "import yfinance as yf\n",
    "import mplfinance as mpf\n",
    "import pandas as pd\n",
    "import numpy as np\n",
    "import statsmodels.api as sm\n",
    "import scipy.stats as stats\n",
    "from matplotlib import pyplot as plt\n",
    "import seaborn as sns\n",
    "sns.set()\n",
    "from plotly import express as px\n",
    "import datetime as dt\n",
    "import os\n",
    "\n",
    "pd.options.display.float_format = '{:,.3f}'.format\n",
    "pd.options.display.max_rows = 1000\n",
    "pd.options.display.max_columns = 1000"
   ]
  },
  {
   "cell_type": "code",
   "execution_count": null,
   "id": "421b03ad",
   "metadata": {},
   "outputs": [],
   "source": [
    "import yfinance as yf\n",
    "import pandas as pd\n",
    "import numpy as np\n",
    "pd.options.display.float_format = '{:,.3f}'.format\n",
    "\n",
    "stocknames = ['^GSPC', '^FTSE', 'GC=F','CL=F','BTC-USD','TLT']    #ticker\n",
    "startdate = '2017-01-01'\n",
    "enddate = '2023-12-31'\n",
    "# enddate =   dt.datetime.now().date()    #change to current day date if required\n",
    "interval = '1d'"
   ]
  },
  {
   "cell_type": "code",
   "execution_count": null,
   "id": "9f57e535",
   "metadata": {},
   "outputs": [],
   "source": [
    "for stock in stocknames:\n",
    "    df = yf.download(stock, interval=interval, period='max')\n",
    "    df.to_csv('stocks_data\\\\{}.csv'.format(stock))"
   ]
  },
  {
   "cell_type": "code",
   "execution_count": null,
   "id": "a8aadaeb",
   "metadata": {
    "scrolled": true
   },
   "outputs": [],
   "source": [
    "def appending(cols=[], startdate='', enddate=''):\n",
    "    '''append stocks data into one file and then select the 'Adj Close' column'''\n",
    "    dates = pd.date_range(start=startdate, end=enddate)\n",
    "    df = pd.DataFrame(index=dates)\n",
    "    for stock in stocknames:\n",
    "        df_stock = pd.read_csv('stocks_data\\\\{}.csv'.format(stock), index_col='Date', parse_dates=True, usecols=cols, na_values=['NaN'])\n",
    "        df_stock = df_stock.rename(columns = {'Adj Close': stock})\n",
    "        df = df.join(df_stock)\n",
    "        df = df.loc[dates]\n",
    "    df.index.names = ['Date']\n",
    "    df = df.dropna()    #there are other ways to handle missing values. For simplicity, drop them for now\n",
    "    return df\n",
    "\n",
    "df = appending(['Date', 'Adj Close'], startdate, enddate)\n",
    "print(df)"
   ]
  },
  {
   "cell_type": "code",
   "execution_count": null,
   "id": "d39441eb",
   "metadata": {},
   "outputs": [],
   "source": [
    "df_desc = df.describe().T\n",
    "df_desc[['count', 'mean', 'std', 'min', '50%', 'max']]"
   ]
  },
  {
   "cell_type": "code",
   "execution_count": null,
   "id": "37dac1f1",
   "metadata": {},
   "outputs": [],
   "source": [
    "from plotly import express as px\n",
    "\n",
    "px.line(data_frame=df, title='Tickers Adj. Close Prices', width=1000, height=500)"
   ]
  },
  {
   "cell_type": "code",
   "execution_count": null,
   "id": "712a2e30",
   "metadata": {},
   "outputs": [],
   "source": [
    "df.head()"
   ]
  },
  {
   "cell_type": "code",
   "execution_count": null,
   "id": "4caa1f4e",
   "metadata": {
    "scrolled": true
   },
   "outputs": [],
   "source": [
    "norm = df / df.iloc[0,:]\n",
    "norm.head()"
   ]
  },
  {
   "cell_type": "code",
   "execution_count": null,
   "id": "606db27d",
   "metadata": {},
   "outputs": [],
   "source": [
    "fig = px.line(norm, x=norm.index, y=['^GSPC', '^FTSE', 'GC=F','CL=F','TLT'])\n",
    "fig.update_layout(title='Stock movement observation by normalizing Adj close prices, (Daily Cumulative Return)',\n",
    "                  xaxis_title='Date',\n",
    "                  yaxis_title='Normalized price')\n",
    "fig.show()"
   ]
  },
  {
   "cell_type": "code",
   "execution_count": null,
   "id": "569376ef",
   "metadata": {
    "scrolled": true
   },
   "outputs": [],
   "source": [
    "from matplotlib import pyplot as plt\n",
    "\n",
    "norm.plot(figsize=(18, 4.5))\n",
    "plt.grid(alpha=0.6)\n",
    "plt.title('Normalization plot using matplotlib')\n",
    "plt.xlabel('Date')\n",
    "plt.ylabel('Normalized Price')\n",
    "plt.tight_layout()"
   ]
  },
  {
   "cell_type": "code",
   "execution_count": null,
   "id": "249f5c3a",
   "metadata": {},
   "outputs": [],
   "source": [
    "rollingmean = df['^GSPC'].rolling(50).mean()\n",
    "rollingstd = df['^GSPC'].rolling(50).std()\n",
    "lowerbound = rollingmean - (2 * rollingstd)\n",
    "upperbound = rollingmean + (2 * rollingstd)\n",
    "fig, ax = plt.subplots(figsize=(15,4))\n",
    "df.iloc[50:]['^GSPC'].plot(ax=ax, color='green')\n",
    "ax.set_title('S&P 500 Bollinger Bands Indicator\\n')\n",
    "ax.set_xlabel('Date')\n",
    "ax.set_ylabel('\\nStock Price\\n')\n",
    "rollingmean.plot(ax=ax, linestyle='-', color='grey')\n",
    "lowerbound.plot(ax=ax, linestyle='--', color='grey')\n",
    "upperbound.plot(ax=ax, linestyle='--', color='grey')\n",
    "plt.grid(alpha=0.25)\n",
    "plt.tight_layout()\n",
    "\n",
    "\n",
    "rollingmean = df['^FTSE'].rolling(50).mean()\n",
    "rollingstd = df['^FTSE'].rolling(50).std()\n",
    "lowerbound = rollingmean - (2 * rollingstd)\n",
    "upperbound = rollingmean + (2 * rollingstd)\n",
    "fig, ax = plt.subplots(figsize=(15,4))\n",
    "df.iloc[50:]['^FTSE'].plot(ax=ax, color='red')\n",
    "ax.set_title('FTSE 100 Bollinger Bands Indicator\\n')\n",
    "ax.set_xlabel('Date')\n",
    "ax.set_ylabel('\\nStock Price\\n')\n",
    "rollingmean.plot(ax=ax, linestyle='-', color='grey')\n",
    "lowerbound.plot(ax=ax, linestyle='--', color='grey')\n",
    "upperbound.plot(ax=ax, linestyle='--', color='grey')\n",
    "plt.grid(alpha=0.25)\n",
    "plt.tight_layout()\n",
    "\n",
    "rollingmean = df['CL=F'].rolling(50).mean()\n",
    "rollingstd = df['CL=F'].rolling(50).std()\n",
    "lowerbound = rollingmean - (2 * rollingstd)\n",
    "upperbound = rollingmean + (2 * rollingstd)\n",
    "fig, ax = plt.subplots(figsize=(15,4))\n",
    "df.iloc[50:]['CL=F'].plot(ax=ax, color='blue')\n",
    "ax.set_title('Crude Oil Bollinger Bands Indicator\\n')\n",
    "ax.set_xlabel('Date')\n",
    "ax.set_ylabel('\\nStock Price\\n')\n",
    "rollingmean.plot(ax=ax, linestyle='-', color='grey')\n",
    "lowerbound.plot(ax=ax, linestyle='--', color='grey')\n",
    "upperbound.plot(ax=ax, linestyle='--', color='grey')\n",
    "plt.grid(alpha=0.25)\n",
    "plt.tight_layout()\n",
    "\n",
    "\n",
    "rollingmean = df['GC=F'].rolling(50).mean()\n",
    "rollingstd = df['GC=F'].rolling(50).std()\n",
    "lowerbound = rollingmean - (2 * rollingstd)\n",
    "upperbound = rollingmean + (2 * rollingstd)\n",
    "fig, ax = plt.subplots(figsize=(15,4))\n",
    "df.iloc[50:]['GC=F'].plot(ax=ax, color='magenta')\n",
    "ax.set_title('Gold Bollinger Bands Indicator\\n')\n",
    "ax.set_xlabel('Date')\n",
    "ax.set_ylabel('\\nStock Price\\n')\n",
    "rollingmean.plot(ax=ax, linestyle='-', color='grey')\n",
    "lowerbound.plot(ax=ax, linestyle='--', color='grey')\n",
    "upperbound.plot(ax=ax, linestyle='--', color='grey')\n",
    "plt.grid(alpha=0.25)\n",
    "plt.tight_layout()\n",
    "\n",
    "\n",
    "rollingmean = df['BTC-USD'].rolling(50).mean()\n",
    "rollingstd = df['BTC-USD'].rolling(50).std()\n",
    "lowerbound = rollingmean - (2 * rollingstd)\n",
    "upperbound = rollingmean + (2 * rollingstd)\n",
    "fig, ax = plt.subplots(figsize=(15,4))\n",
    "df.iloc[50:]['BTC-USD'].plot(ax=ax, color='orange')\n",
    "ax.set_title('Bitcoin USD Bollinger Bands Indicator\\n')\n",
    "ax.set_xlabel('Date')\n",
    "ax.set_ylabel('\\nStock Price\\n')\n",
    "rollingmean.plot(ax=ax, linestyle='-', color='grey')\n",
    "lowerbound.plot(ax=ax, linestyle='--', color='grey')\n",
    "upperbound.plot(ax=ax, linestyle='--', color='grey')\n",
    "plt.grid(alpha=0.25)\n",
    "plt.tight_layout()\n",
    "\n",
    "rollingmean = df['TLT'].rolling(50).mean()\n",
    "rollingstd = df['TLT'].rolling(50).std()\n",
    "lowerbound = rollingmean - (2 * rollingstd)\n",
    "upperbound = rollingmean + (2 * rollingstd)\n",
    "fig, ax = plt.subplots(figsize=(15,4))\n",
    "df.iloc[50:]['TLT'].plot(ax=ax, color='deepskyblue')\n",
    "ax.set_title('US 10 Year Treasury ETF Bollinger Bands Indicator\\n')\n",
    "ax.set_xlabel('Date')\n",
    "ax.set_ylabel('\\nStock Price\\n')\n",
    "rollingmean.plot(ax=ax, linestyle='-', color='grey')\n",
    "lowerbound.plot(ax=ax, linestyle='--', color='grey')\n",
    "upperbound.plot(ax=ax, linestyle='--', color='grey')\n",
    "plt.grid(alpha=0.25)\n",
    "plt.tight_layout()"
   ]
  },
  {
   "cell_type": "code",
   "execution_count": null,
   "id": "5fa3cf88",
   "metadata": {},
   "outputs": [],
   "source": []
  },
  {
   "cell_type": "code",
   "execution_count": null,
   "id": "8c27b371",
   "metadata": {},
   "outputs": [],
   "source": []
  },
  {
   "cell_type": "code",
   "execution_count": null,
   "id": "6b30beb9",
   "metadata": {},
   "outputs": [],
   "source": []
  },
  {
   "cell_type": "markdown",
   "metadata": {},
   "source": [
    "#### <a id='toc1_1_4_1_'></a>[Further Analysis](#toc0_)"
   ]
  },
  {
   "cell_type": "code",
   "execution_count": null,
   "id": "3e033f31",
   "metadata": {},
   "outputs": [],
   "source": [
    "conda install -c conda-forge imbalanced-learn"
   ]
  },
  {
   "cell_type": "code",
   "execution_count": null,
   "id": "b5fcbff9",
   "metadata": {},
   "outputs": [],
   "source": [
    "!pip install imblearn\n"
   ]
  },
  {
   "cell_type": "code",
   "execution_count": null,
   "id": "5c83f581",
   "metadata": {},
   "outputs": [],
   "source": [
    "import yfinance as yf\n",
    "import pandas as pd\n",
    "import matplotlib.pyplot as plt\n",
    "\n",
    "def fetch_data(ticker, start_date, end_date):\n",
    "    \"\"\"\n",
    "    Fetch historical data for a given ticker from Yahoo Finance.\n",
    "    \n",
    "    Parameters:\n",
    "    ticker (str): The ticker symbol of the asset.\n",
    "    start_date (str): Start date in 'YYYY-MM-DD' format.\n",
    "    end_date (str): End date in 'YYYY-MM-DD' format.\n",
    "    \n",
    "    Returns:\n",
    "    DataFrame: A pandas DataFrame with historical data for the asset.\n",
    "    \"\"\"\n",
    "    data = yf.download(ticker, start=start_date, end=end_date)\n",
    "    return data\n",
    "\n",
    "def calculate_volatility(data):\n",
    "    \"\"\"\n",
    "    Calculate daily returns and volatility of the asset.\n",
    "    \n",
    "    Parameters:\n",
    "    data (DataFrame): Historical data of the asset.\n",
    "    \n",
    "    Returns:\n",
    "    float: The volatility of the asset.\n",
    "    \"\"\"\n",
    "    data['Daily Returns'] = data['Adj Close'].pct_change()\n",
    "    volatility = data['Daily Returns'].std() * (252 ** 0.5)  # Annualizing volatility\n",
    "    return volatility\n",
    "\n",
    "def plot_data(data, title):\n",
    "    \"\"\"\n",
    "    Plot the adjusted close price and daily returns of the asset.\n",
    "    \n",
    "    Parameters:\n",
    "    data (DataFrame): Historical data of the asset.\n",
    "    title (str): The title of the plot.\n",
    "    \"\"\"\n",
    "    fig, ax1 = plt.subplots()\n",
    "\n",
    "    color = 'tab:red'\n",
    "    ax1.set_xlabel('Date')\n",
    "    ax1.set_ylabel('Adj Close', color=color)\n",
    "    ax1.plot(data.index, data['Adj Close'], color=color)\n",
    "    ax1.tick_params(axis='y', labelcolor=color)\n",
    "\n",
    "    ax2 = ax1.twinx()\n",
    "    color = 'tab:blue'\n",
    "    ax2.set_ylabel('Daily Returns', color=color)\n",
    "    ax2.plot(data.index, data['Daily Returns'], color=color)\n",
    "    ax2.tick_params(axis='y', labelcolor=color)\n",
    "\n",
    "    plt.title(title)\n",
    "    plt.show()\n",
    "\n",
    "# Define the assets and the time period\n",
    "assets = ['^GSPC', '^FTSE', 'GC=F', 'CL=F', 'BTC-USD', 'TLT']\n",
    "asset_names = ['S&P 500', 'FTSE 100', 'Gold', 'Crude Oil', 'Bitcoin', 'US 10YR Treasury ETF']\n",
    "start_date = '2020-01-01'\n",
    "end_date = '2020-12-31'\n",
    "\n",
    "# Fetch data, calculate volatility, and plot for each asset\n",
    "volatilities = []\n",
    "for ticker, name in zip(assets, asset_names):\n",
    "    print(f\"Fetching data for {name}...\")\n",
    "    data = fetch_data(ticker, start_date, end_date)\n",
    "    volatility = calculate_volatility(data)\n",
    "    volatilities.append(volatility)\n",
    "    plot_data(data, f\"{name} Adjusted Close and Daily Returns\")\n",
    "    print(f\"{name} Volatility: {volatility}\\n\")\n",
    "\n",
    "# Display the volatilities in a table\n",
    "volatility_table = pd.DataFrame({'Asset': asset_names, 'Volatility': volatilities})\n",
    "print(\"Volatility Table:\")\n",
    "print(volatility_table)"
   ]
  },
  {
   "cell_type": "markdown",
   "metadata": {},
   "source": [
    "#### <a id='toc1_1_4_2_'></a>[Further graphical illustrations of EDA](#toc0_)"
   ]
  },
  {
   "cell_type": "code",
   "execution_count": null,
   "id": "0b771610",
   "metadata": {},
   "outputs": [],
   "source": [
    "# Import necessary libraries\n",
    "import pandas as pd\n",
    "import yfinance as yf\n",
    "import matplotlib.pyplot as plt\n",
    "\n",
    "# Define the assets to fetch data for\n",
    "assets = ['^GSPC', '^FTSE', 'GC=F', 'CL=F', 'BTC-USD', 'TLT']\n",
    "\n",
    "# Fetch data from Yahoo Finance for the specified period\n",
    "start_date = '2017-01-01'\n",
    "end_date = '2020-04-01'\n",
    "\n",
    "data = {}\n",
    "for asset in assets:\n",
    "    data[asset] = yf.download(asset, start=start_date, end=end_date)\n",
    "\n",
    "# Plot graphs, charts, and diagrams for each asset\n",
    "for asset, df in data.items():\n",
    "    # Plot price change over time\n",
    "    plt.figure(figsize=(10, 6))\n",
    "    plt.plot(df['Close'])\n",
    "    plt.title(f'{asset} Price Change Over Time')\n",
    "    plt.xlabel('Date')\n",
    "    plt.ylabel('Price')\n",
    "    plt.grid()\n",
    "    plt.show()\n",
    "\n",
    "    # Plot distribution of prices\n",
    "    plt.figure(figsize=(10, 6))\n",
    "    df['Close'].plot(kind='hist', bins=30)\n",
    "    plt.title(f'{asset} Price Distribution')\n",
    "    plt.xlabel('Price')\n",
    "    plt.ylabel('Frequency')\n",
    "    plt.grid()\n",
    "    plt.show()\n",
    "\n",
    "    # Calculate and plot volatility\n",
    "    df['Volatility'] = df['Close'].pct_change().rolling(window=30).std()\n",
    "    plt.figure(figsize=(10, 6))\n",
    "    plt.plot(df['Volatility'])\n",
    "    plt.title(f'{asset} Volatility Over Time')\n",
    "    plt.xlabel('Date')\n",
    "    plt.ylabel('Volatility')\n",
    "    plt.grid()\n",
    "    plt.show()\n",
    "\n",
    "    # Calculate and plot returns\n",
    "    df['Return'] = df['Close'].pct_change()\n",
    "    plt.figure(figsize=(10, 6))\n",
    "    plt.plot(df['Return'])\n",
    "    plt.title(f'{asset} Returns Over Time')\n",
    "    plt.xlabel('Date')\n",
    "    plt.ylabel('Return')\n",
    "    plt.grid()\n",
    "    plt.show()"
   ]
  }
 ],
 "metadata": {
  "kernelspec": {
   "display_name": "Python 3 (ipykernel)",
   "language": "python",
   "name": "python3"
  },
  "language_info": {
   "codemirror_mode": {
    "name": "ipython",
    "version": 3
   },
   "file_extension": ".py",
   "mimetype": "text/x-python",
   "name": "python",
   "nbconvert_exporter": "python",
   "pygments_lexer": "ipython3",
   "version": "3.10.13"
  }
 },
 "nbformat": 4,
 "nbformat_minor": 5
}
