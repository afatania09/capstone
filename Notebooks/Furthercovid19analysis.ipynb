{
 "cells": [
  {
   "cell_type": "markdown",
   "metadata": {},
   "source": [
    "### Further Covid-19 Analysis: Countrywide and Macroeconomic Analysis"
   ]
  },
  {
   "cell_type": "code",
   "execution_count": 1,
   "metadata": {},
   "outputs": [
    {
     "name": "stderr",
     "output_type": "stream",
     "text": [
      "/tmp/ipykernel_8279/2374658535.py:1: DeprecationWarning: \n",
      "Pyarrow will become a required dependency of pandas in the next major release of pandas (pandas 3.0),\n",
      "(to allow more performant data types, such as the Arrow string type, and better interoperability with other libraries)\n",
      "but was not found to be installed on your system.\n",
      "If this would cause problems for you,\n",
      "please provide us feedback at https://github.com/pandas-dev/pandas/issues/54466\n",
      "        \n",
      "  import pandas as pd\n"
     ]
    }
   ],
   "source": [
    "import pandas as pd\n",
    "import matplotlib\n",
    "import plotly.express as px\n",
    "import matplotlib.pyplot as plt"
   ]
  },
  {
   "cell_type": "code",
   "execution_count": 3,
   "metadata": {},
   "outputs": [
    {
     "name": "stdout",
     "output_type": "stream",
     "text": [
      "      CODE      COUNTRY        DATE    HDI        TC        TD       STI  \\\n",
      "0      AFG  Afghanistan  2019-12-31  0.498  0.000000  0.000000  0.000000   \n",
      "1      AFG  Afghanistan  2020-01-01  0.498  0.000000  0.000000  0.000000   \n",
      "2      AFG  Afghanistan  2020-01-02  0.498  0.000000  0.000000  0.000000   \n",
      "3      AFG  Afghanistan  2020-01-03  0.498  0.000000  0.000000  0.000000   \n",
      "4      AFG  Afghanistan  2020-01-04  0.498  0.000000  0.000000  0.000000   \n",
      "...    ...          ...         ...    ...       ...       ...       ...   \n",
      "50413  ZWE     Zimbabwe  2020-10-15  0.535  8.994048  5.442418  4.341855   \n",
      "50414  ZWE     Zimbabwe  2020-10-16  0.535  8.996528  5.442418  4.341855   \n",
      "50415  ZWE     Zimbabwe  2020-10-17  0.535  8.999496  5.442418  4.341855   \n",
      "50416  ZWE     Zimbabwe  2020-10-18  0.535  9.000853  5.442418  4.341855   \n",
      "50417  ZWE     Zimbabwe  2020-10-19  0.535  9.005405  5.442418  4.341855   \n",
      "\n",
      "             POP    GDPCAP  \n",
      "0      17.477233  7.497754  \n",
      "1      17.477233  7.497754  \n",
      "2      17.477233  7.497754  \n",
      "3      17.477233  7.497754  \n",
      "4      17.477233  7.497754  \n",
      "...          ...       ...  \n",
      "50413  16.514381  7.549491  \n",
      "50414  16.514381  7.549491  \n",
      "50415  16.514381  7.549491  \n",
      "50416  16.514381  7.549491  \n",
      "50417  16.514381  7.549491  \n",
      "\n",
      "[50418 rows x 9 columns]\n"
     ]
    }
   ],
   "source": [
    "import pandas as pd\n",
    "import plotly.express as px\n",
    "import plotly.graph_objects as go\n",
    "\n",
    "data = pd.read_csv(\"/workspaces/capstone/Data/transformed_data.csv\") \n",
    "data2 = pd.read_csv(\"/workspaces/capstone/Data/raw_data.csv\")\n",
    "print(data)"
   ]
  },
  {
   "cell_type": "code",
   "execution_count": 4,
   "metadata": {},
   "outputs": [
    {
     "name": "stdout",
     "output_type": "stream",
     "text": [
      "  CODE      COUNTRY        DATE    HDI   TC   TD  STI        POP    GDPCAP\n",
      "0  AFG  Afghanistan  2019-12-31  0.498  0.0  0.0  0.0  17.477233  7.497754\n",
      "1  AFG  Afghanistan  2020-01-01  0.498  0.0  0.0  0.0  17.477233  7.497754\n",
      "2  AFG  Afghanistan  2020-01-02  0.498  0.0  0.0  0.0  17.477233  7.497754\n",
      "3  AFG  Afghanistan  2020-01-03  0.498  0.0  0.0  0.0  17.477233  7.497754\n",
      "4  AFG  Afghanistan  2020-01-04  0.498  0.0  0.0  0.0  17.477233  7.497754\n"
     ]
    }
   ],
   "source": [
    "print(data.head())"
   ]
  },
  {
   "cell_type": "code",
   "execution_count": 5,
   "metadata": {},
   "outputs": [
    {
     "name": "stdout",
     "output_type": "stream",
     "text": [
      "  iso_code     location        date  total_cases  total_deaths  \\\n",
      "0      AFG  Afghanistan  2019-12-31          0.0           0.0   \n",
      "1      AFG  Afghanistan  2020-01-01          0.0           0.0   \n",
      "2      AFG  Afghanistan  2020-01-02          0.0           0.0   \n",
      "3      AFG  Afghanistan  2020-01-03          0.0           0.0   \n",
      "4      AFG  Afghanistan  2020-01-04          0.0           0.0   \n",
      "\n",
      "   stringency_index  population  gdp_per_capita  human_development_index  \\\n",
      "0               0.0    38928341        1803.987                    0.498   \n",
      "1               0.0    38928341        1803.987                    0.498   \n",
      "2               0.0    38928341        1803.987                    0.498   \n",
      "3               0.0    38928341        1803.987                    0.498   \n",
      "4               0.0    38928341        1803.987                    0.498   \n",
      "\n",
      "  Unnamed: 9 Unnamed: 10 Unnamed: 11  Unnamed: 12  Unnamed: 13  \n",
      "0      #NUM!       #NUM!       #NUM!    17.477233  7.497754494  \n",
      "1      #NUM!       #NUM!       #NUM!    17.477233  7.497754494  \n",
      "2      #NUM!       #NUM!       #NUM!    17.477233  7.497754494  \n",
      "3      #NUM!       #NUM!       #NUM!    17.477233  7.497754494  \n",
      "4      #NUM!       #NUM!       #NUM!    17.477233  7.497754494  \n"
     ]
    }
   ],
   "source": [
    "print(data2.head())"
   ]
  },
  {
   "cell_type": "code",
   "execution_count": 6,
   "metadata": {},
   "outputs": [
    {
     "data": {
      "text/plain": [
       "COUNTRY\n",
       "Afghanistan        294\n",
       "Indonesia          294\n",
       "Macedonia          294\n",
       "Luxembourg         294\n",
       "Lithuania          294\n",
       "                  ... \n",
       "Tajikistan         172\n",
       "Comoros            171\n",
       "Lesotho            158\n",
       "Hong Kong           51\n",
       "Solomon Islands      4\n",
       "Name: count, Length: 210, dtype: int64"
      ]
     },
     "execution_count": 6,
     "metadata": {},
     "output_type": "execute_result"
    }
   ],
   "source": [
    "data[\"COUNTRY\"].value_counts()"
   ]
  },
  {
   "cell_type": "code",
   "execution_count": 7,
   "metadata": {},
   "outputs": [
    {
     "data": {
      "text/plain": [
       "0    294\n",
       "Name: count, dtype: int64"
      ]
     },
     "execution_count": 7,
     "metadata": {},
     "output_type": "execute_result"
    }
   ],
   "source": [
    "data[\"COUNTRY\"].value_counts().mode()"
   ]
  },
  {
   "cell_type": "code",
   "execution_count": null,
   "metadata": {},
   "outputs": [],
   "source": []
  }
 ],
 "metadata": {
  "kernelspec": {
   "display_name": "Python 3",
   "language": "python",
   "name": "python3"
  },
  "language_info": {
   "codemirror_mode": {
    "name": "ipython",
    "version": 3
   },
   "file_extension": ".py",
   "mimetype": "text/x-python",
   "name": "python",
   "nbconvert_exporter": "python",
   "pygments_lexer": "ipython3",
   "version": "3.10.13"
  }
 },
 "nbformat": 4,
 "nbformat_minor": 2
}
