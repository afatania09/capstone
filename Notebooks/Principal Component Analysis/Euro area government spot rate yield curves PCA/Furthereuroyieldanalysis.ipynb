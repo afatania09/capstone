{
 "cells": [
  {
   "cell_type": "markdown",
   "metadata": {},
   "source": [
    "###  Euro spot yield curve (Government) further analysis"
   ]
  },
  {
   "cell_type": "code",
   "execution_count": 2,
   "metadata": {},
   "outputs": [
    {
     "name": "stderr",
     "output_type": "stream",
     "text": [
      "/tmp/ipykernel_13216/981370666.py:4: DeprecationWarning: \n",
      "Pyarrow will become a required dependency of pandas in the next major release of pandas (pandas 3.0),\n",
      "(to allow more performant data types, such as the Arrow string type, and better interoperability with other libraries)\n",
      "but was not found to be installed on your system.\n",
      "If this would cause problems for you,\n",
      "please provide us feedback at https://github.com/pandas-dev/pandas/issues/54466\n",
      "        \n",
      "  import pandas as pd\n"
     ]
    }
   ],
   "source": [
    "# Data preparation\n",
    "import datetime as dt\n",
    "import numpy as np\n",
    "import pandas as pd\n",
    "import ipywidgets as widgets\n",
    "from sklearn.preprocessing import StandardScaler\n",
    "\n"
   ]
  },
  {
   "cell_type": "code",
   "execution_count": 21,
   "metadata": {},
   "outputs": [],
   "source": [
    "import yieldcurves as yc"
   ]
  },
  {
   "cell_type": "code",
   "execution_count": 22,
   "metadata": {},
   "outputs": [],
   "source": [
    "# Custom libraries\n",
    "import principalcomponents as pc\n",
    "import autoregressive as ar"
   ]
  },
  {
   "cell_type": "code",
   "execution_count": 5,
   "metadata": {},
   "outputs": [],
   "source": [
    "# Visualization\n",
    "import matplotlib.pyplot as plt\n",
    "import matplotlib.dates as mdates\n",
    "\n",
    "from matplotlib.pyplot import cm\n",
    "from matplotlib.animation import FuncAnimation\n",
    "from matplotlib.ticker import FormatStrFormatter\n",
    "\n",
    "import seaborn as sns\n",
    "sns.set()\n",
    "\n",
    "# Date formats\n",
    "days_loc   = mdates.DayLocator(interval = 7)\n",
    "months_loc = mdates.MonthLocator()\n",
    "years_loc  = mdates.YearLocator()\n",
    "\n",
    "days_fmt   = mdates.DateFormatter(\"%Y-%m-%d\")\n",
    "months_fmt = mdates.DateFormatter(\"%Y-%m\")\n",
    "years_fmt  = mdates.DateFormatter('%Y')"
   ]
  },
  {
   "cell_type": "code",
   "execution_count": 6,
   "metadata": {},
   "outputs": [],
   "source": [
    "# Autocorrelation & Stationarity\n",
    "from statsmodels.tsa.stattools import adfuller\n",
    "from statsmodels.tsa.stattools import acf, pacf\n",
    "from statsmodels.graphics.tsaplots import plot_acf, plot_pacf"
   ]
  },
  {
   "cell_type": "code",
   "execution_count": 7,
   "metadata": {},
   "outputs": [],
   "source": [
    "def rainbow(categories):\n",
    "    \"\"\"\n",
    "    This function generates a dictionary of color codes for each category.\n",
    "    \"\"\"\n",
    "    c_scale = cm.rainbow(np.linspace(0,1,len(categories)))\n",
    "    c_dict = {}\n",
    "\n",
    "    for i,c in zip(categories,c_scale):\n",
    "        c_dict[i] = c\n",
    "        \n",
    "    return c_dict"
   ]
  },
  {
   "cell_type": "code",
   "execution_count": 8,
   "metadata": {},
   "outputs": [],
   "source": [
    "def underline(string):\n",
    "    chr_start = \"\\033[4m\"\n",
    "    chr_end = \"\\033[0m\"\n",
    "    print(chr_start + string + chr_end)"
   ]
  },
  {
   "cell_type": "code",
   "execution_count": 9,
   "metadata": {},
   "outputs": [],
   "source": [
    "# Choose the maturities that should be used for calculation\n",
    "maturities = [0.25, 0.5, 1, 2, 3 , 4, 5, 6, 7, 8, 9, 10, 12, 14, 16, 18, 20, 22, 24, 26, 28, 30]\n",
    "\n",
    "# Choose the maturities that should be depicted in charts\n",
    "maturities_visual = [0.25, 0.5, 2, 5, 10, 14, 20, 26, 30]"
   ]
  },
  {
   "cell_type": "code",
   "execution_count": 10,
   "metadata": {},
   "outputs": [],
   "source": [
    "# Parameters for data preparation \n",
    "widg_start = widgets.DatePicker(description = \"Start date\", value = dt.date(2005,1,4), disabled = False)\n",
    "widg_end   = widgets.DatePicker(description = \"End date\",   value = dt.date(2021,1,1), disabled = False)\n",
    "widg_freq  = widgets.Dropdown(options = [\"day\", \"week\", \"month\"], \n",
    "                              value = \"day\", \n",
    "                              description = \"Frequency:\",\n",
    "                              disabled = False)"
   ]
  },
  {
   "cell_type": "code",
   "execution_count": 11,
   "metadata": {},
   "outputs": [],
   "source": [
    "# Widget for start date of testing window\n",
    "widg_test = widgets.DatePicker(description = \"Test start\", value = dt.date(2018,1,1), disabled = False)\n",
    "\n",
    "# Widget if time series shall be differenced\n",
    "widg_diff = widgets.Dropdown(options=[True,False], value=True, description=\"Differencing:\")\n",
    "\n",
    "# Widget for number of principal components\n",
    "widg_k = widgets.IntSlider(value=3, min=3, max=20, step=1,\n",
    "                           description = \"# PC:\",\n",
    "                           orientation = \"horizontal\",\n",
    "                           readout = True)\n",
    "\n",
    "# Widget for number of lags in model\n",
    "widg_lag = widgets.IntSlider(value=5, min=1, max=50, step=1,\n",
    "                             description=\"# Lags:\",\n",
    "                             orientation=\"horizontal\",\n",
    "                             readout=True)\n",
    "\n",
    "# Widget for number of forecast steps\n",
    "widg_steps = widgets.IntSlider(value=100, min=1, max=500, step=1,\n",
    "                               description = \"# Steps:\",\n",
    "                               orientation = \"horizontal\",\n",
    "                               readout = True)"
   ]
  },
  {
   "cell_type": "code",
   "execution_count": 24,
   "metadata": {},
   "outputs": [
    {
     "name": "stdout",
     "output_type": "stream",
     "text": [
      "\u001b[4mData Parameters:\u001b[0m\n"
     ]
    },
    {
     "data": {
      "application/vnd.jupyter.widget-view+json": {
       "model_id": "cacda2b6d1a74ebb911d73224da63d17",
       "version_major": 2,
       "version_minor": 0
      },
      "text/plain": [
       "DatePicker(value=datetime.date(2017, 1, 1), description='Start date', step=1)"
      ]
     },
     "metadata": {},
     "output_type": "display_data"
    },
    {
     "data": {
      "application/vnd.jupyter.widget-view+json": {
       "model_id": "220b0abe3cbe4bdc8b21e23e7808503d",
       "version_major": 2,
       "version_minor": 0
      },
      "text/plain": [
       "DatePicker(value=datetime.date(2020, 1, 1), description='End date', step=1)"
      ]
     },
     "metadata": {},
     "output_type": "display_data"
    },
    {
     "data": {
      "application/vnd.jupyter.widget-view+json": {
       "model_id": "9637bd245724458e83742b93fb0e2f3f",
       "version_major": 2,
       "version_minor": 0
      },
      "text/plain": [
       "Dropdown(description='Frequency:', options=('day', 'week', 'month'), value='day')"
      ]
     },
     "metadata": {},
     "output_type": "display_data"
    },
    {
     "name": "stdout",
     "output_type": "stream",
     "text": [
      "\n",
      "\n",
      "\u001b[4mModel Parameters\u001b[0m\n"
     ]
    },
    {
     "data": {
      "application/vnd.jupyter.widget-view+json": {
       "model_id": "d83372227e5e43bb817a079679005f4d",
       "version_major": 2,
       "version_minor": 0
      },
      "text/plain": [
       "DatePicker(value=datetime.date(2017, 1, 1), description='Test start', step=1)"
      ]
     },
     "metadata": {},
     "output_type": "display_data"
    },
    {
     "data": {
      "application/vnd.jupyter.widget-view+json": {
       "model_id": "e7411bdb95574d1db6933d13c762c3b2",
       "version_major": 2,
       "version_minor": 0
      },
      "text/plain": [
       "Dropdown(description='Differencing:', options=(True, False), value=True)"
      ]
     },
     "metadata": {},
     "output_type": "display_data"
    },
    {
     "data": {
      "application/vnd.jupyter.widget-view+json": {
       "model_id": "2cf346e5e21446beb282fec999b8b707",
       "version_major": 2,
       "version_minor": 0
      },
      "text/plain": [
       "IntSlider(value=3, description='# PC:', max=20, min=3)"
      ]
     },
     "metadata": {},
     "output_type": "display_data"
    },
    {
     "data": {
      "application/vnd.jupyter.widget-view+json": {
       "model_id": "3ed52bc4eb464acca4c2777e37c83ebd",
       "version_major": 2,
       "version_minor": 0
      },
      "text/plain": [
       "IntSlider(value=5, description='# Lags:', max=50, min=1)"
      ]
     },
     "metadata": {},
     "output_type": "display_data"
    },
    {
     "data": {
      "application/vnd.jupyter.widget-view+json": {
       "model_id": "84b6ad796a39418bbf1c0e5bdd941bf4",
       "version_major": 2,
       "version_minor": 0
      },
      "text/plain": [
       "IntSlider(value=100, description='# Steps:', max=500, min=1)"
      ]
     },
     "metadata": {},
     "output_type": "display_data"
    }
   ],
   "source": [
    "underline (\"Data Parameters:\")\n",
    "display(widg_start)\n",
    "display(widg_end)\n",
    "display(widg_freq)\n",
    "\n",
    "print (\"\\n\")\n",
    "\n",
    "underline (\"Model Parameters\")\n",
    "display (widg_test)\n",
    "display (widg_diff)\n",
    "display (widg_k)\n",
    "display (widg_lag)\n",
    "display (widg_steps)"
   ]
  },
  {
   "cell_type": "code",
   "execution_count": 25,
   "metadata": {},
   "outputs": [],
   "source": [
    "# Store data prep parameters\n",
    "start_date = widg_start.value.strftime(\"%Y-%m-%d\")\n",
    "end_date   = widg_end.value.strftime(\"%Y-%m-%d\")\n",
    "frequency  = widg_freq.value\n",
    "\n",
    "# Store model parameters\n",
    "test_start = widg_test.value.strftime(\"%Y-%m-%d\")\n",
    "diff  = widg_diff.value\n",
    "k     = widg_k.value\n",
    "lag   = widg_lag.value\n",
    "steps = widg_steps.value"
   ]
  },
  {
   "cell_type": "code",
   "execution_count": 42,
   "metadata": {},
   "outputs": [],
   "source": [
    "import pandas as pd\n",
    "\n",
    "raw_rates= pd.read_csv('data (1).csv')\n",
    "\n"
   ]
  },
  {
   "cell_type": "code",
   "execution_count": null,
   "metadata": {},
   "outputs": [],
   "source": []
  }
 ],
 "metadata": {
  "kernelspec": {
   "display_name": "Python 3",
   "language": "python",
   "name": "python3"
  },
  "language_info": {
   "codemirror_mode": {
    "name": "ipython",
    "version": 3
   },
   "file_extension": ".py",
   "mimetype": "text/x-python",
   "name": "python",
   "nbconvert_exporter": "python",
   "pygments_lexer": "ipython3",
   "version": "3.10.13"
  }
 },
 "nbformat": 4,
 "nbformat_minor": 2
}
