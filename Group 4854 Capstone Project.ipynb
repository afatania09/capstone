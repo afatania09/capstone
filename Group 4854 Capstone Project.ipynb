{
 "cells": [
  {
   "cell_type": "markdown",
   "id": "76dcb29d",
   "metadata": {},
   "source": [
    "# MScFE 690 Capstone "
   ]
  },
  {
   "cell_type": "markdown",
   "id": "806cb960",
   "metadata": {},
   "source": [
    "### Group 4854"
   ]
  },
  {
   "cell_type": "markdown",
   "id": "8cf6bef2",
   "metadata": {},
   "source": [
    "The purpose of this project including accompanying report is examine the statistical properties of the financial markets both before and during the Coronavirus period. We examine the basic descriptive statistics of major indices and complete a time series analysis. We will also examine regime detection and how this can be used to highlight a change in the market. Furthermore, we will illustrate how correlation structures of well known assets and volatility during the Coronavirus period. We explore the period 2017 up to the start of 2020 and the period 2020 to the present day.  "
   ]
  },
  {
   "cell_type": "markdown",
   "id": "660762f9",
   "metadata": {},
   "source": [
    "### Descriptive Statistics "
   ]
  },
  {
   "cell_type": "markdown",
   "id": "ebd236ce",
   "metadata": {},
   "source": [
    "##### Some basic statistics to do with the S&P 500"
   ]
  },
  {
   "cell_type": "code",
   "execution_count": 26,
   "id": "5b00b6f0",
   "metadata": {},
   "outputs": [
    {
     "name": "stdout",
     "output_type": "stream",
     "text": [
      "[*********************100%***********************]  1 of 1 completed\n"
     ]
    }
   ],
   "source": [
    "#### \n",
    "import yfinance as yf\n",
    "import numpy as np\n",
    "sp500 = yf.download('^GSPC','2017-01-01', '2020-01-01')"
   ]
  },
  {
   "cell_type": "code",
   "execution_count": 27,
   "id": "2efb5d48",
   "metadata": {},
   "outputs": [
    {
     "data": {
      "text/plain": [
       "2703.161457577814"
      ]
     },
     "execution_count": 27,
     "metadata": {},
     "output_type": "execute_result"
    }
   ],
   "source": [
    "mean = np.mean(sp500['Adj Close'])\n",
    "mean\n"
   ]
  },
  {
   "cell_type": "code",
   "execution_count": 28,
   "id": "752c7932",
   "metadata": {},
   "outputs": [
    {
     "data": {
      "text/plain": [
       "2268.89990234375"
      ]
     },
     "execution_count": 28,
     "metadata": {},
     "output_type": "execute_result"
    }
   ],
   "source": [
    "import statistics \n",
    "mode = statistics.mode(sp500['Adj Close'])\n",
    "mode"
   ]
  },
  {
   "cell_type": "code",
   "execution_count": 29,
   "id": "9c7c3c5a",
   "metadata": {},
   "outputs": [
    {
     "data": {
      "text/plain": [
       "2723.530029296875"
      ]
     },
     "execution_count": 29,
     "metadata": {},
     "output_type": "execute_result"
    }
   ],
   "source": [
    "median = np.median(sp500['Adj Close']) \n",
    "median"
   ]
  },
  {
   "cell_type": "code",
   "execution_count": 30,
   "id": "01faee8e",
   "metadata": {},
   "outputs": [
    {
     "data": {
      "text/plain": [
       "count     754.000000\n",
       "mean     2703.161458\n",
       "std       227.623908\n",
       "min      2257.830078\n",
       "25%      2502.632507\n",
       "50%      2723.530029\n",
       "75%      2879.137390\n",
       "max      3240.020020\n",
       "Name: Adj Close, dtype: float64"
      ]
     },
     "execution_count": 30,
     "metadata": {},
     "output_type": "execute_result"
    }
   ],
   "source": [
    "sp500['Adj Close'].describe()\n"
   ]
  },
  {
   "cell_type": "markdown",
   "id": "a61fa2bb",
   "metadata": {},
   "source": [
    "#####  Some basic statistics to do with the FTSE 100"
   ]
  },
  {
   "cell_type": "code",
   "execution_count": 31,
   "id": "9fc0e09b",
   "metadata": {},
   "outputs": [
    {
     "name": "stdout",
     "output_type": "stream",
     "text": [
      "[*********************100%***********************]  1 of 1 completed\n"
     ]
    }
   ],
   "source": [
    "#### \n",
    "import yfinance as yf\n",
    "import numpy as np\n",
    "ftse100 = yf.download('^FTSE','2017-01-01', '2020-01-01')"
   ]
  },
  {
   "cell_type": "code",
   "execution_count": 32,
   "id": "da7aae86",
   "metadata": {},
   "outputs": [
    {
     "data": {
      "text/plain": [
       "7339.696432068355"
      ]
     },
     "execution_count": 32,
     "metadata": {},
     "output_type": "execute_result"
    }
   ],
   "source": [
    "mean = np.mean(ftse100['Adj Close'])\n",
    "mean\n"
   ]
  },
  {
   "cell_type": "code",
   "execution_count": 33,
   "id": "7602b0f8",
   "metadata": {},
   "outputs": [
    {
     "data": {
      "text/plain": [
       "7189.7001953125"
      ]
     },
     "execution_count": 33,
     "metadata": {},
     "output_type": "execute_result"
    }
   ],
   "source": [
    "import statistics \n",
    "mode = statistics.mode(ftse100['Adj Close'])\n",
    "mode"
   ]
  },
  {
   "cell_type": "code",
   "execution_count": 34,
   "id": "49b40817",
   "metadata": {},
   "outputs": [
    {
     "data": {
      "text/plain": [
       "7348.75"
      ]
     },
     "execution_count": 34,
     "metadata": {},
     "output_type": "execute_result"
    }
   ],
   "source": [
    "median = np.median(ftse100['Adj Close']) \n",
    "median"
   ]
  },
  {
   "cell_type": "code",
   "execution_count": 35,
   "id": "67527df3",
   "metadata": {},
   "outputs": [
    {
     "data": {
      "text/plain": [
       "count     758.000000\n",
       "mean     7339.696432\n",
       "std       222.832171\n",
       "min      6584.700195\n",
       "25%      7203.225098\n",
       "50%      7348.750000\n",
       "75%      7502.025146\n",
       "max      7877.500000\n",
       "Name: Adj Close, dtype: float64"
      ]
     },
     "execution_count": 35,
     "metadata": {},
     "output_type": "execute_result"
    }
   ],
   "source": [
    "ftse100['Adj Close'].describe()"
   ]
  },
  {
   "cell_type": "markdown",
   "id": "80eeb471",
   "metadata": {},
   "source": [
    "#####  Some basic statistics to do with the Gold"
   ]
  },
  {
   "cell_type": "code",
   "execution_count": 36,
   "id": "fcdad133",
   "metadata": {},
   "outputs": [
    {
     "name": "stdout",
     "output_type": "stream",
     "text": [
      "[*********************100%***********************]  1 of 1 completed\n"
     ]
    },
    {
     "data": {
      "text/plain": [
       "1306.1725101546938"
      ]
     },
     "execution_count": 36,
     "metadata": {},
     "output_type": "execute_result"
    }
   ],
   "source": [
    "gold = yf.download('GC=F','2017-01-01', '2020-01-01')\n",
    "mean = np.mean(gold['Adj Close'])\n",
    "mean\n"
   ]
  },
  {
   "cell_type": "code",
   "execution_count": 37,
   "id": "d6a7c19c",
   "metadata": {},
   "outputs": [
    {
     "data": {
      "text/plain": [
       "1254.300048828125"
      ]
     },
     "execution_count": 37,
     "metadata": {},
     "output_type": "execute_result"
    }
   ],
   "source": [
    "#### Calculating Mode \n",
    "\n",
    "import statistics \n",
    "mode = statistics.mode(gold['Adj Close'])\n",
    "mode"
   ]
  },
  {
   "cell_type": "code",
   "execution_count": 38,
   "id": "2a775758",
   "metadata": {},
   "outputs": [
    {
     "data": {
      "text/plain": [
       "1285.5"
      ]
     },
     "execution_count": 38,
     "metadata": {},
     "output_type": "execute_result"
    }
   ],
   "source": [
    "median = np.median(gold['Adj Close']) \n",
    "median"
   ]
  },
  {
   "cell_type": "code",
   "execution_count": 39,
   "id": "94a22e67",
   "metadata": {},
   "outputs": [
    {
     "data": {
      "text/plain": [
       "count     753.000000\n",
       "mean     1306.172510\n",
       "std        89.609492\n",
       "min      1160.400024\n",
       "25%      1245.199951\n",
       "50%      1285.500000\n",
       "75%      1330.000000\n",
       "max      1550.300049\n",
       "Name: Adj Close, dtype: float64"
      ]
     },
     "execution_count": 39,
     "metadata": {},
     "output_type": "execute_result"
    }
   ],
   "source": [
    "gold['Adj Close'].describe()"
   ]
  },
  {
   "cell_type": "markdown",
   "id": "a36b1dfa",
   "metadata": {},
   "source": [
    "#####  Some basic statistics to do with the Crude Oil"
   ]
  },
  {
   "cell_type": "code",
   "execution_count": 40,
   "id": "762666d4",
   "metadata": {},
   "outputs": [
    {
     "name": "stdout",
     "output_type": "stream",
     "text": [
      "[*********************100%***********************]  1 of 1 completed\n"
     ]
    }
   ],
   "source": [
    "#### \n",
    "import yfinance as yf\n",
    "import numpy as np\n",
    "oil = yf.download('CL=F','2017-01-01', '2020-01-01')"
   ]
  },
  {
   "cell_type": "code",
   "execution_count": 41,
   "id": "27326f2e",
   "metadata": {},
   "outputs": [
    {
     "data": {
      "text/plain": [
       "57.61342182715945"
      ]
     },
     "execution_count": 41,
     "metadata": {},
     "output_type": "execute_result"
    }
   ],
   "source": [
    "mean = np.mean(oil['Adj Close'])\n",
    "mean"
   ]
  },
  {
   "cell_type": "code",
   "execution_count": 42,
   "id": "d2a58d2b",
   "metadata": {},
   "outputs": [
    {
     "data": {
      "text/plain": [
       "61.68000030517578"
      ]
     },
     "execution_count": 42,
     "metadata": {},
     "output_type": "execute_result"
    }
   ],
   "source": [
    "import statistics \n",
    "mode = statistics.mode(oil['Adj Close'])\n",
    "mode"
   ]
  },
  {
   "cell_type": "code",
   "execution_count": 43,
   "id": "fd9acdf6",
   "metadata": {},
   "outputs": [
    {
     "data": {
      "text/plain": [
       "56.69999885559082"
      ]
     },
     "execution_count": 43,
     "metadata": {},
     "output_type": "execute_result"
    }
   ],
   "source": [
    "median = np.median(oil['Adj Close']) \n",
    "median"
   ]
  },
  {
   "cell_type": "code",
   "execution_count": 44,
   "id": "bc52e120",
   "metadata": {},
   "outputs": [
    {
     "data": {
      "text/plain": [
       "count    754.000000\n",
       "mean      57.613422\n",
       "std        7.596221\n",
       "min       42.529999\n",
       "25%       52.080000\n",
       "50%       56.699999\n",
       "75%       63.414999\n",
       "max       76.410004\n",
       "Name: Adj Close, dtype: float64"
      ]
     },
     "execution_count": 44,
     "metadata": {},
     "output_type": "execute_result"
    }
   ],
   "source": [
    "oil['Adj Close'].describe()"
   ]
  },
  {
   "cell_type": "markdown",
   "id": "02871dc0",
   "metadata": {},
   "source": [
    "#####  Some basic statistics to do with the Bitcoin (BTC-USD) "
   ]
  },
  {
   "cell_type": "code",
   "execution_count": 45,
   "id": "c06f25e6",
   "metadata": {},
   "outputs": [
    {
     "name": "stdout",
     "output_type": "stream",
     "text": [
      "[*********************100%***********************]  1 of 1 completed\n"
     ]
    }
   ],
   "source": [
    "#### \n",
    "import yfinance as yf\n",
    "import numpy as np\n",
    "bitcoin = yf.download('BTC-USD','2017-01-01', '2020-01-01')"
   ]
  },
  {
   "cell_type": "code",
   "execution_count": 46,
   "id": "155a7501",
   "metadata": {},
   "outputs": [
    {
     "data": {
      "text/plain": [
       "6325.325234573253"
      ]
     },
     "execution_count": 46,
     "metadata": {},
     "output_type": "execute_result"
    }
   ],
   "source": [
    "mean = np.mean(bitcoin['Adj Close'])\n",
    "mean"
   ]
  },
  {
   "cell_type": "code",
   "execution_count": 47,
   "id": "ddd019df",
   "metadata": {},
   "outputs": [
    {
     "data": {
      "text/plain": [
       "1179.969970703125"
      ]
     },
     "execution_count": 47,
     "metadata": {},
     "output_type": "execute_result"
    }
   ],
   "source": [
    "import statistics \n",
    "mode = statistics.mode(bitcoin['Adj Close'])\n",
    "mode"
   ]
  },
  {
   "cell_type": "code",
   "execution_count": 48,
   "id": "bd721a9a",
   "metadata": {},
   "outputs": [
    {
     "data": {
      "text/plain": [
       "6481.364990234375"
      ]
     },
     "execution_count": 48,
     "metadata": {},
     "output_type": "execute_result"
    }
   ],
   "source": [
    "median = np.median(bitcoin['Adj Close']) \n",
    "median"
   ]
  },
  {
   "cell_type": "code",
   "execution_count": 49,
   "id": "16c26834",
   "metadata": {},
   "outputs": [
    {
     "data": {
      "text/plain": [
       "count     1096.000000\n",
       "mean      6325.325235\n",
       "std       3531.775079\n",
       "min        777.757019\n",
       "25%       3673.178040\n",
       "50%       6481.364990\n",
       "75%       8428.574707\n",
       "max      19497.400391\n",
       "Name: Adj Close, dtype: float64"
      ]
     },
     "execution_count": 49,
     "metadata": {},
     "output_type": "execute_result"
    }
   ],
   "source": [
    "bitcoin['Adj Close'].describe()"
   ]
  },
  {
   "cell_type": "markdown",
   "id": "9305b7e1",
   "metadata": {},
   "source": [
    "#####  Some basic statistics to do with the 10 YR US Treasuries (TLT)"
   ]
  },
  {
   "cell_type": "code",
   "execution_count": 50,
   "id": "7e320795",
   "metadata": {},
   "outputs": [
    {
     "name": "stdout",
     "output_type": "stream",
     "text": [
      "[*********************100%***********************]  1 of 1 completed\n"
     ]
    }
   ],
   "source": [
    "#### \n",
    "import yfinance as yf\n",
    "import numpy as np\n",
    "bond = yf.download('TLT','2017-01-01', '2020-01-01')"
   ]
  },
  {
   "cell_type": "code",
   "execution_count": 51,
   "id": "4fe79a8c",
   "metadata": {},
   "outputs": [
    {
     "data": {
      "text/plain": [
       "109.92834441288713"
      ]
     },
     "execution_count": 51,
     "metadata": {},
     "output_type": "execute_result"
    }
   ],
   "source": [
    "mean = np.mean(bond['Adj Close'])\n",
    "mean"
   ]
  },
  {
   "cell_type": "code",
   "execution_count": 52,
   "id": "eea20285",
   "metadata": {},
   "outputs": [
    {
     "data": {
      "text/plain": [
       "101.7562484741211"
      ]
     },
     "execution_count": 52,
     "metadata": {},
     "output_type": "execute_result"
    }
   ],
   "source": [
    "import statistics \n",
    "mode = statistics.mode(bond['Adj Close'])\n",
    "mode"
   ]
  },
  {
   "cell_type": "code",
   "execution_count": 53,
   "id": "83fc9e22",
   "metadata": {},
   "outputs": [
    {
     "data": {
      "text/plain": [
       "107.40604782104492"
      ]
     },
     "execution_count": 53,
     "metadata": {},
     "output_type": "execute_result"
    }
   ],
   "source": [
    "median = np.median(bond['Adj Close']) \n",
    "median"
   ]
  },
  {
   "cell_type": "code",
   "execution_count": 54,
   "id": "0e852fa7",
   "metadata": {},
   "outputs": [
    {
     "data": {
      "text/plain": [
       "count    754.000000\n",
       "mean     109.928344\n",
       "std        8.386847\n",
       "min       99.118416\n",
       "25%      104.247091\n",
       "50%      107.406048\n",
       "75%      110.986008\n",
       "max      133.833862\n",
       "Name: Adj Close, dtype: float64"
      ]
     },
     "execution_count": 54,
     "metadata": {},
     "output_type": "execute_result"
    }
   ],
   "source": [
    "bond['Adj Close'].describe()"
   ]
  },
  {
   "cell_type": "markdown",
   "id": "38060397",
   "metadata": {},
   "source": [
    "### Further explaratory data analysis "
   ]
  },
  {
   "cell_type": "code",
   "execution_count": null,
   "id": "46287da0",
   "metadata": {
    "scrolled": false
   },
   "outputs": [],
   "source": [
    "# Import necessary libraries\n",
    "import yfinance as yf\n",
    "import pandas as pd\n",
    "import matplotlib.pyplot as plt\n",
    "import seaborn as sns\n",
    "from scipy import stats\n",
    "\n",
    "def get_stock_data(symbol, start_date, end_date):\n",
    "    stock_data = yf.download(symbol, start=start_date, end=end_date)\n",
    "    return stock_data['Close']\n",
    "\n",
    "# Fetch S&P 500 data from Yahoo Finance\n",
    "sp500_data = get_stock_data('SPY', '2017-01-01', '2020-01-01')\n",
    "\n",
    "# Calculate statistics\n",
    "mean = sp500_data.mean()\n",
    "median = sp500_data.median()\n",
    "mode = sp500_data.mode()[0]  # Mode can have multiple values, so we take the first one\n",
    "range_val = sp500_data.max() - sp500_data.min()\n",
    "skewness = stats.skew(sp500_data)\n",
    "\n",
    "# Print the calculated statistics\n",
    "print(f\"Mean: {mean}\")\n",
    "print(f\"Median: {median}\")\n",
    "print(f\"Mode: {mode}\")\n",
    "print(f\"Range: {range_val}\")\n",
    "print(f\"Skewness: {skewness}\")\n",
    "\n",
    "# Plotting the data\n",
    "plt.figure(figsize=(12, 6))\n",
    "sns.histplot(sp500_data, kde=True)\n",
    "plt.title('S&P 500 Closing Prices Distribution for data 01-01-2017 to 01-01-2021')\n",
    "plt.xlabel('Closing Price')\n",
    "plt.ylabel('Frequency')\n",
    "plt.show()\n",
    "\n",
    "# Displaying the data table\n",
    "print(sp500_data)\n",
    "\n",
    "\n",
    "# Fetch FTSE data from Yahoo Finance\n",
    "ftse_data = get_stock_data('^FTSE', '2017-01-01', '2021-01-01')\n",
    "\n",
    "# Calculate statistics\n",
    "mean = ftse_data.mean()\n",
    "median = ftse_data.median()\n",
    "mode = ftse_data.mode()[0]  # Mode can have multiple values, so we take the first one\n",
    "range_val = ftse_data.max() - ftse_data.min()\n",
    "skewness = stats.skew(ftse_data)\n",
    "\n",
    "# Print the calculated statistics\n",
    "print(f\"Mean: {mean}\")\n",
    "print(f\"Median: {median}\")\n",
    "print(f\"Mode: {mode}\")\n",
    "print(f\"Range: {range_val}\")\n",
    "print(f\"Skewness: {skewness}\")\n",
    "\n",
    "# Plotting the data\n",
    "plt.figure(figsize=(12, 6))\n",
    "sns.histplot(ftse_data, kde=True)\n",
    "plt.title('FTSE Closing Prices Distribution for data 01-01-2017 to 01-01-2021')\n",
    "plt.xlabel('Closing Price')\n",
    "plt.ylabel('Frequency')\n",
    "plt.show()\n",
    "\n",
    "# Displaying the data table\n",
    "print(ftse_data)\n",
    "\n",
    "\n",
    "\n",
    "# Fetch Gold data from Yahoo Finance\n",
    "gold_data = get_stock_data('GC=F', '2017-01-01', '2021-01-01')\n",
    "\n",
    "# Calculate statistics\n",
    "mean = gold_data.mean()\n",
    "median = gold_data.median()\n",
    "mode = gold_data.mode()[0]  # Mode can have multiple values, so we take the first one\n",
    "range_val = gold_data.max() - gold_data.min()\n",
    "skewness = stats.skew(gold_data)\n",
    "\n",
    "# Print the calculated statistics\n",
    "print(f\"Mean: {mean}\")\n",
    "print(f\"Median: {median}\")\n",
    "print(f\"Mode: {mode}\")\n",
    "print(f\"Range: {range_val}\")\n",
    "print(f\"Skewness: {skewness}\")\n",
    "\n",
    "# Plotting the data\n",
    "plt.figure(figsize=(12, 6))\n",
    "sns.histplot(ftse_data, kde=True)\n",
    "plt.title('Gold Closing Prices Distribution for data 01-01-2017 to 01-01-2021')\n",
    "plt.xlabel('Closing Price')\n",
    "plt.ylabel('Frequency')\n",
    "plt.show()\n",
    "\n",
    "# Displaying the data table\n",
    "print(gold_data)\n",
    "\n",
    "# Fetch Crude Oil data from Yahoo Finance\n",
    "crudeoil_data = get_stock_data('CL=F', '2017-01-01', '2021-01-01')\n",
    "\n",
    "# Calculate statistics\n",
    "mean = crudeoil_data.mean()\n",
    "median = crudeoil_data.median()\n",
    "mode = crudeoil_data.mode()[0]  # Mode can have multiple values, so we take the first one\n",
    "range_val = crudeoil_data.max() - crudeoil_data.min()\n",
    "skewness = stats.skew(crudeoil_data)\n",
    "\n",
    "# Print the calculated statistics\n",
    "print(f\"Mean: {mean}\")\n",
    "print(f\"Median: {median}\")\n",
    "print(f\"Mode: {mode}\")\n",
    "print(f\"Range: {range_val}\")\n",
    "print(f\"Skewness: {skewness}\")\n",
    "\n",
    "# Plotting the data\n",
    "plt.figure(figsize=(12, 6))\n",
    "sns.histplot(crudeoil_data, kde=True)\n",
    "plt.title('Crude Oil Closing Prices Distribution for data 01-01-2017 to 01-01-2021')\n",
    "plt.xlabel('Closing Price')\n",
    "plt.ylabel('Frequency')\n",
    "plt.show()\n",
    "\n",
    "# Displaying the data table\n",
    "print(crudeoil_data)\n",
    "\n",
    "\n",
    "# Fetch Bitcoin data from Yahoo Finance\n",
    "bitcoin_data = get_stock_data('BTC-USD', '2017-01-01', '2021-01-01')\n",
    "\n",
    "# Calculate statistics\n",
    "mean = bitcoin_data.mean()\n",
    "median = bitcoin_data.median()\n",
    "mode = bitcoin_data.mode()[0]  # Mode can have multiple values, so we take the first one\n",
    "range_val = bitcoin_data.max() - bitcoin_data.min()\n",
    "skewness = stats.skew(bitcoin_data)\n",
    "\n",
    "# Print the calculated statistics\n",
    "print(f\"Mean: {mean}\")\n",
    "print(f\"Median: {median}\")\n",
    "print(f\"Mode: {mode}\")\n",
    "print(f\"Range: {range_val}\")\n",
    "print(f\"Skewness: {skewness}\")\n",
    "\n",
    "# Plotting the data\n",
    "plt.figure(figsize=(12, 6))\n",
    "sns.histplot(crudeoil_data, kde=True)\n",
    "plt.title('Bitcoin Closing Prices Distribution for data 01-01-2017 to 01-01-2021')\n",
    "plt.xlabel('Closing Price')\n",
    "plt.ylabel('Frequency')\n",
    "plt.show()\n",
    "\n",
    "# Displaying the data table\n",
    "print(bitcoin_data)\n",
    "\n",
    "\n",
    "\n",
    "# Fetch Bitcoin data from Yahoo Finance\n",
    "tlt_data = get_stock_data('TLT', '2017-01-01', '2021-01-01')\n",
    "\n",
    "# Calculate statistics\n",
    "mean = tlt_data.mean()\n",
    "median = tlt_data.median()\n",
    "mode = tlt_data.mode()[0]  # Mode can have multiple values, so we take the first one\n",
    "range_val = tlt_data.max() - tlt_data.min()\n",
    "skewness = stats.skew(tlt_data)\n",
    "\n",
    "# Print the calculated statistics\n",
    "print(f\"Mean: {mean}\")\n",
    "print(f\"Median: {median}\")\n",
    "print(f\"Mode: {mode}\")\n",
    "print(f\"Range: {range_val}\")\n",
    "print(f\"Skewness: {skewness}\")\n",
    "\n",
    "# Plotting the data\n",
    "plt.figure(figsize=(12, 6))\n",
    "sns.histplot(crudeoil_data, kde=True)\n",
    "plt.title('US Treasury 10Y ETF Closing Prices Distribution for data 01-01-2017 to 01-01-2021')\n",
    "plt.xlabel('Closing Price')\n",
    "plt.ylabel('Frequency')\n",
    "plt.show()\n",
    "\n",
    "# Displaying the data table\n",
    "print(tlt_data)"
   ]
  },
  {
   "cell_type": "markdown",
   "id": "ece74bf9",
   "metadata": {},
   "source": [
    "#### Investigating the statistical properties of financial markets "
   ]
  },
  {
   "cell_type": "code",
   "execution_count": null,
   "id": "2bab7435",
   "metadata": {},
   "outputs": [],
   "source": [
    "!pip install yfinance    # Install Yahoo Fianace package\n",
    "import yfinance as yf \n",
    "import pandas as pd\n",
    "from statsmodels.graphics import tsaplots \n",
    "import matplotlib.pyplot as plt\n",
    "import seaborn as sns"
   ]
  },
  {
   "cell_type": "code",
   "execution_count": null,
   "id": "9a8896bd",
   "metadata": {},
   "outputs": [],
   "source": [
    "def download(stock):  \n",
    "    \"\"\"\n",
    "    Download the stock historical data.\n",
    "\n",
    "    Parameters\n",
    "    ----------\n",
    "    stock: str\n",
    "      Stock symbol.\n",
    "\n",
    "    Returns\n",
    "    -------\n",
    "    DataFrame\n",
    "      Downloaded stock historical data.\n",
    "    \"\"\"\n",
    "\n",
    "\n",
    "    df = yf.download(\n",
    "         [stock],\n",
    "         start=\"2017-01-01\",\n",
    "         end=\"2020-01-01\",\n",
    "         group_by=\"ticker\",\n",
    "         progress=False)\n",
    "            \n",
    "    df = df.round(4)\n",
    "    df.insert(loc=0, column='Company', value=stock) \n",
    "    return df\n",
    "\n",
    "\n",
    "# Download S&P 500 dataframe\n",
    "df_GSPC = download('^GSPC')  \n",
    "# Download FTSE 100 dataframe      \n",
    "df_FTSE = download('^FTSE')   \n",
    "# Download Gold dataframe    \n",
    "df_GCF = download('GC=F')     \n",
    "# Download Crude oil dataframe \n",
    "df_CLF = download('CL=F')    \n",
    "# Download Bitcoin dataframe        \n",
    "df_BTC = download('BTC-USD')    \n",
    "# Download 20 year treasury bond ETF dataframe        \n",
    "df_TLT = download('TLT')  \n",
    "\n",
    "stock_list={'S&P': df_GSPC, 'FTSE': df_FTSE, 'Gold': df_GCF, 'Crude': df_CLF, 'Bitcoin': df_BTC, 'TLT': df_TLT}"
   ]
  },
  {
   "cell_type": "code",
   "execution_count": null,
   "id": "db09cfc3",
   "metadata": {
    "scrolled": false
   },
   "outputs": [],
   "source": [
    "def info(stock, df):\n",
    "    \"\"\"\n",
    "    Print the summary information of each stock.\n",
    "\n",
    "    Parameters\n",
    "    ----------\n",
    "    stock: str\n",
    "      Stock company name.\n",
    "    df: DataFrame\n",
    "      Stock's dataframe.\n",
    "\n",
    "    Returns\n",
    "    -------\n",
    "    None.\n",
    "    \"\"\"\n",
    "\n",
    "    print(f'{stock}\\'s Historical Data: \\n\\n {df} \\n\\n')\n",
    "    print(f'{stock}\\'s Column Information: \\n')\n",
    "    print(df.info(),'\\n\\n')\n",
    "    print(f'{stock}\\'s Statistic Summary: \\n\\n {df.describe().round(4)}')\n",
    "    print('-'*75)\n",
    "    print()\n",
    "\n",
    "\n",
    "print(info('S&P', df_GSPC))\n",
    "print(info('FTSE', df_FTSE))\n",
    "print(info('Gold', df_GCF))\n",
    "print(info('Crude Oil', df_CLF))\n",
    "print(info('Bitcoin', df_BTC))\n",
    "print(info('TLT', df_TLT))"
   ]
  },
  {
   "cell_type": "code",
   "execution_count": null,
   "id": "aceaf394",
   "metadata": {},
   "outputs": [],
   "source": [
    "fig, ax = plt.subplots(2,3,figsize=(20,15))\n",
    "fig.delaxes(ax[1,2])\n",
    "fontsize = 15\n",
    "\n",
    "# S&P 500\n",
    "ax[0,0].plot(df_GSPC['Adj Close'])\n",
    "ax[0,0].set_title('S&P 500', fontsize=fontsize)\n",
    "ax[0,0].set_xlabel('Date', fontsize=fontsize)\n",
    "ax[0,0].set_ylabel('Price($)', fontsize=fontsize)\n",
    "\n",
    "# FTSE 100\n",
    "ax[0,1].plot(df_FTSE['Adj Close'])\n",
    "ax[0,1].set_title('FTSE 100', fontsize=fontsize)\n",
    "ax[0,1].set_xlabel('Date', fontsize=fontsize)\n",
    "ax[0,1].set_ylabel('Price($)', fontsize=fontsize)\n",
    "\n",
    "# Gold\n",
    "ax[0,2].plot(df_GCF['Adj Close'])\n",
    "ax[0,2].set_title('Gold', fontsize=fontsize)\n",
    "ax[0,2].set_xlabel('Date', fontsize=fontsize)\n",
    "ax[0,2].set_ylabel('Price($)', fontsize=fontsize)\n",
    "\n",
    "# Crude oil\n",
    "ax[1,0].plot(df_CLF['Adj Close'])\n",
    "ax[1,0].set_title('Crude Oil', fontsize=fontsize)\n",
    "ax[1,0].set_xlabel('Date', fontsize=fontsize)\n",
    "ax[1,0].set_ylabel('Price($)', fontsize=fontsize)\n",
    "\n",
    "# Bitcoin\n",
    "ax[1,1].plot(df_BTC['Adj Close'])\n",
    "ax[1,1].set_title('Bitcoin', fontsize=fontsize)\n",
    "ax[1,1].set_xlabel('Date', fontsize=fontsize)\n",
    "ax[1,1].set_ylabel('Price($)', fontsize=fontsize)\n",
    "\n",
    "# 20 Year Treasury Bond ETF\n",
    "ax[1,2].plot(df_TLT['Adj Close'])\n",
    "ax[1,2].set_title('20 Yr Bond ETF', fontsize=fontsize)\n",
    "ax[1,2].set_xlabel('Date', fontsize=fontsize)\n",
    "ax[1,2].set_ylabel('Price($)', fontsize=fontsize)\n",
    "\n",
    "plt.suptitle('Adjusted Close Price', fontsize=25, fontweight='bold', x=0.5, y=0.94)\n",
    "plt.show()"
   ]
  },
  {
   "cell_type": "code",
   "execution_count": null,
   "id": "be889bf0",
   "metadata": {
    "scrolled": false
   },
   "outputs": [],
   "source": [
    "def boxplot(stock, company):\n",
    "    \"\"\"\n",
    "    Plot the boxplot of adjusted close price.\n",
    "\n",
    "    Parameters\n",
    "    ----------\n",
    "    stock: DataFrame\n",
    "      Stock's DataFrame.\n",
    "    company: str\n",
    "      Company name.\n",
    "\n",
    "    Returns\n",
    "    -------\n",
    "    None.\n",
    "    \"\"\"\n",
    "\n",
    "    plt.figure(figsize=(8,6))\n",
    "    plt.boxplot(stock['Adj Close'])\n",
    "    plt.ylabel('Price($)')\n",
    "    plt.title(f'{company}\\'s Adjusted Close Price', fontsize=15)\n",
    "    plt.show()\n",
    "  \n",
    "  \n",
    "for company, stock in stock_list.items():\n",
    "    print(boxplot(stock, company),'\\n')"
   ]
  },
  {
   "cell_type": "code",
   "execution_count": null,
   "id": "ac22da7d",
   "metadata": {
    "scrolled": false
   },
   "outputs": [],
   "source": [
    "def scatter_matrix(stock, company):\n",
    "    \"\"\"\n",
    "    Plot the scatter matrix.\n",
    "\n",
    "    Parameters\n",
    "    ----------\n",
    "    stock: DataFrame\n",
    "      Stock's DataFrame.\n",
    "    company: str\n",
    "      Company name.\n",
    "  \n",
    "    Returns\n",
    "    -------\n",
    "    None.\n",
    "    \"\"\"\n",
    "\n",
    "    pd.plotting.scatter_matrix(stock, figsize=(8,8), alpha=0.3)\n",
    "    plt.suptitle(f'Pairwise Scatter Plot of {company}', x=0.5, y=0.92)\n",
    "    plt.show()\n",
    "\n",
    "\n",
    "for company, stock in stock_list.items():\n",
    "    print(scatter_matrix(stock, company),'\\n')"
   ]
  },
  {
   "cell_type": "code",
   "execution_count": null,
   "id": "968381d8",
   "metadata": {
    "scrolled": true
   },
   "outputs": [],
   "source": [
    "def heatmap(stock, company):\n",
    "    \"\"\"\n",
    "    Plot the correlation heatmap.\n",
    "\n",
    "    Parameters\n",
    "    ----------\n",
    "    stock: DataFrame\n",
    "      Stock's DataFrame.\n",
    "    company: str\n",
    "      Company name.\n",
    "\n",
    "    Returns\n",
    "    -------\n",
    "    None.\n",
    "    \"\"\"\n",
    "\n",
    "    plt.figure(figsize = (8,8))\n",
    "    sns.heatmap(stock.corr(), cmap='GnBu', annot=True, linewidths = 1, fmt='f').set_title(f'Correlation Heatmap of {company}', fontsize=15)\n",
    "    plt.xticks(rotation=30, fontsize=10)\n",
    "    plt.yticks(rotation=0, fontsize=10)\n",
    "    plt.show()\n",
    "  \n",
    "  \n",
    "for company, stock in stock_list.items():\n",
    "    print(heatmap(stock, company),'\\n')"
   ]
  },
  {
   "cell_type": "code",
   "execution_count": null,
   "id": "5ce56f70",
   "metadata": {
    "scrolled": false
   },
   "outputs": [],
   "source": [
    "def autocorrelation(stock, company):\n",
    "    \"\"\"\n",
    "    Plot the autocorrelation of stocks based on adjusted close price.\n",
    " \n",
    "    Parameters\n",
    "    ----------\n",
    "    stock: DataFrame\n",
    "      Stock's DataFrame.\n",
    "    company: str\n",
    "      Company name.\n",
    "\n",
    "    Returns\n",
    "    -------\n",
    "    None\n",
    "    \"\"\"\n",
    "\n",
    "    tsaplots.plot_acf(stock[\"Adj Close\"], lags=50)  \n",
    "    plt.title(f'Autocorrelation of {company}\\'s Adjusted Close Price', fontsize=13)\n",
    "    plt.xlabel('Lags (Days)', fontsize=10)\n",
    "    plt.ylabel('Correlation', fontsize=10)\n",
    "    plt.show()\n",
    "\n",
    "\n",
    "for company, stock in stock_list.items():\n",
    "    print(autocorrelation(stock, company),'\\n')"
   ]
  },
  {
   "cell_type": "markdown",
   "id": "7efd9cd1",
   "metadata": {},
   "source": [
    "### Kurtosis "
   ]
  },
  {
   "cell_type": "markdown",
   "id": "89a3015f",
   "metadata": {},
   "source": [
    "The distribution of asset returns are often not in line with the normal distribution and often display positive excess kurtosis.We can capture and estimate the tail risk using a leptokurtic distribution such as the student's t distribution. The student's t distribution is symmetric, however it has a fatter tail. which is symmetric like the normal distribution but has fatter tails."
   ]
  },
  {
   "cell_type": "code",
   "execution_count": null,
   "id": "2cdfd3bb",
   "metadata": {},
   "outputs": [],
   "source": [
    "# standard imports\n",
    "import warnings\n",
    "warnings.filterwarnings('ignore')\n",
    "\n",
    "import pandas as pd\n",
    "import numpy as np\n",
    "import datetime as dt\n",
    "import yfinance as yf\n",
    "import matplotlib.pyplot as plt\n",
    "%matplotlib inline\n",
    "import seaborn as sns\n",
    "from IPython.core.interactiveshell import InteractiveShell\n",
    "InteractiveShell.ast_node_interactivity = \"all\"\n",
    "\n",
    "# Generating random data from the three distributions\n",
    "mesokurtic = np.random.normal(0,1,10000)\n",
    "platykurtic = np.random.uniform(-2,2,10000)\n",
    "leptokurtic = np.random.laplace(0,1,10000)\n",
    "\n",
    "# putting the data in a DataFrame and standardizing\n",
    "df = pd.DataFrame({'mesokurtic_Normal':mesokurtic,'platykurtic_Uniform':platykurtic,'leptokurtic_Laplace':leptokurtic})\n",
    "df = (df - df.mean())/df.std()\n",
    "\n",
    "# plotting the three distributions \n",
    "sns.set(rc={'figure.figsize':(12,7)})\n",
    "sns.distplot(df['mesokurtic_Normal'], color='blue', label='mesokurtic: Standard Normal',hist=False)\n",
    "sns.distplot(df['platykurtic_Uniform'], color='red', label='platykurtic: Uniform',hist=False)\n",
    "sns.distplot(df['leptokurtic_Laplace'], color='green', label='leptokurtic: Laplace',hist=False)\n",
    "plt.title('Mesokurtic, Platykurtic and Leptokurtic Distributions', fontsize=15)\n",
    "plt.xlabel('Standardized Values')\n",
    "plt.ylabel('PDF')\n",
    "plt.legend();\n",
    "plt.show();"
   ]
  },
  {
   "cell_type": "code",
   "execution_count": null,
   "id": "140cab7a",
   "metadata": {},
   "outputs": [],
   "source": [
    "results = pd.DataFrame({'MEAN': df.mean().round(2),'STANDARD DEVIATION':df.std().round(2),\\\n",
    "                        'SKEWNESS':df.skew().round(0),'EXCESS KURTOSIS':df.kurtosis().round(0) })\n",
    "results"
   ]
  },
  {
   "cell_type": "code",
   "execution_count": null,
   "id": "514a10d3",
   "metadata": {},
   "outputs": [],
   "source": [
    "# Fetching past five years of daily return data for S&P 500 Spyder ETF\n",
    "end = dt.datetime.today()\n",
    "start = end - dt.timedelta(days=252*5)\n",
    "df = yf.download(['^GSPC'],start,end,progress=False)[['Adj Close']].pct_change()\n",
    "df.columns=['^GSPC']\n",
    "\n",
    "# Generating random data from Normal and t distributions for the same period\n",
    "df['normal'] = np.random.standard_normal(len(df))\n",
    "df['t'] = t = np.random.standard_t(3.8,len(df))\n",
    "\n",
    "# Standardizing the distributions\n",
    "df = (df - df.mean())/df.std()\n",
    "\n",
    "# plotting the three distributions \n",
    "sns.set(rc={'figure.figsize':(12,7)})\n",
    "sns.distplot(df['^GSPC'], color='green', label=\"S&P 500\",hist=False)\n",
    "sns.distplot(df['normal'], color='blue', label='Normal',hist=False)\n",
    "sns.distplot(df['t'], color='red', label=\"Student's t\",hist=False)\n",
    "\n",
    "plt.title(\"Normal vs Student's t\",fontsize=15)\n",
    "plt.xlabel('Standardized Values')\n",
    "plt.ylabel('PDF')\n",
    "plt.legend();\n",
    "plt.show();"
   ]
  },
  {
   "cell_type": "code",
   "execution_count": null,
   "id": "829c806b",
   "metadata": {
    "scrolled": false
   },
   "outputs": [],
   "source": [
    "# getting return data for S&P 500 and the FTSE 100 \n",
    "start = dt.datetime(2017,1,1).date()\n",
    "end = dt.datetime(2020,12,31).date()\n",
    "\n",
    "tickers=['^GSPC','^FTSE','GC=F']\n",
    "DF =pd.DataFrame()\n",
    "\n",
    "for i in tickers:\n",
    "    df = yf.download(i,start,end,progress=False)[['Adj Close']].pct_change()\n",
    "    df.columns = [i]                         \n",
    "    DF = pd.concat([DF,df],axis =1)\n",
    "\n",
    "DF.dropna(inplace=True)\n",
    "\n",
    "# Checking the mean and standard deviations\n",
    "print(DF.describe().round(3)[1:3])\n",
    "\n",
    "# plotting the S&P 500 returns with the bitcoin returns\n",
    "DF.plot(figsize=(12,7))\n",
    "plt.title('SPY vs BTC daily returns', fontsize=15)\n",
    "plt.show();"
   ]
  },
  {
   "cell_type": "code",
   "execution_count": null,
   "id": "0cd443b9",
   "metadata": {},
   "outputs": [],
   "source": [
    "# plotting the distributions S&P 500, FTSE 100, and Gold Returns\n",
    "sns.set(rc={'figure.figsize':(12,7)})\n",
    "sns.distplot(DF['^GSPC'], color='blue',rug=False,hist=False, label='S&P 500')\n",
    "sns.distplot(DF['^FTSE'], color='red',rug=False,hist=False, label='FTSE 100')\n",
    "sns.distplot(DF['GC=F'], color='green',rug=False,hist=False, label='Gold returns')\n",
    "plt.title('Distributions of S&P 500 vs FTSE 100 vs Gold daily returns',fontsize=15);\n",
    "plt.legend()\n",
    "plt.show();"
   ]
  },
  {
   "cell_type": "code",
   "execution_count": null,
   "id": "355f6d2a",
   "metadata": {},
   "outputs": [],
   "source": [
    "# Calculating the excess kurtosis\n",
    "DF.kurtosis().round(0)"
   ]
  },
  {
   "cell_type": "code",
   "execution_count": null,
   "id": "fb60b88a",
   "metadata": {},
   "outputs": [],
   "source": [
    "DF = (DF- DF.mean())/ DF.std()\n",
    "\n",
    "# Creating samples from a standard normal distribution for comparison\n",
    "DF['Standard_Normal'] = np.random.normal(0,1,DF.shape[0])\n",
    "\n",
    "# Checking the mean and standard deviation of standardized variables\n",
    "DF.describe().round(1)[1:3]\n",
    "\n",
    "print('Excess Kurtosis:\\n',DF.kurtosis().round(0))"
   ]
  },
  {
   "cell_type": "code",
   "execution_count": null,
   "id": "2b73cbfe",
   "metadata": {
    "scrolled": false
   },
   "outputs": [],
   "source": [
    "# Plotting the returns \n",
    "DF.plot(figsize=(12,7));\n",
    "plt.title('Standardized daily returns', fontsize=15)"
   ]
  },
  {
   "cell_type": "code",
   "execution_count": null,
   "id": "b636249a",
   "metadata": {},
   "outputs": [],
   "source": [
    "# plotting the three distributions \n",
    "sns.set(rc={'figure.figsize':(12,7)})\n",
    "sns.distplot(DF['^GSPC'], color='blue',rug=True,hist=False, label=' S&P 500')\n",
    "sns.distplot(DF['^FTSE'], color='red',rug=True,hist=False, label='FTSE 100')\n",
    "sns.distplot(DF['GC=F'], color='magenta',rug=True,hist=False, label='Gold')\n",
    "sns.distplot(DF['Standard_Normal'], color='green',rug=True,hist=False, label='Standard_Normal')\n",
    "plt.title('Distributions of S&P 500, FTSE 100, Gold and Standard Normal returns',fontsize=15);\n",
    "plt.legend()\n",
    "plt.show();"
   ]
  },
  {
   "cell_type": "markdown",
   "id": "3e3bf53e",
   "metadata": {},
   "source": [
    "### Calculating  Returns "
   ]
  },
  {
   "cell_type": "code",
   "execution_count": null,
   "id": "102d637a",
   "metadata": {
    "scrolled": false
   },
   "outputs": [],
   "source": [
    "pip install mplfinance"
   ]
  },
  {
   "cell_type": "code",
   "execution_count": null,
   "id": "dde2afdf",
   "metadata": {},
   "outputs": [],
   "source": [
    "import yfinance as yf\n",
    "import mplfinance as mpf\n",
    "import pandas as pd\n",
    "import numpy as np\n",
    "import statsmodels.api as sm\n",
    "import scipy.stats as stats\n",
    "from matplotlib import pyplot as plt\n",
    "import seaborn as sns\n",
    "sns.set()\n",
    "from plotly import express as px\n",
    "import datetime as dt\n",
    "import os\n",
    "\n",
    "pd.options.display.float_format = '{:,.3f}'.format\n",
    "pd.options.display.max_rows = 1000\n",
    "pd.options.display.max_columns = 1000"
   ]
  },
  {
   "cell_type": "code",
   "execution_count": null,
   "id": "421b03ad",
   "metadata": {},
   "outputs": [],
   "source": [
    "import yfinance as yf\n",
    "import pandas as pd\n",
    "import numpy as np\n",
    "pd.options.display.float_format = '{:,.3f}'.format\n",
    "\n",
    "stocknames = ['^GSPC', '^FTSE', 'GC=F','CL=F','BTC-USD','TLT']    #ticker\n",
    "startdate = '2017-01-01'\n",
    "enddate = '2023-12-31'\n",
    "# enddate =   dt.datetime.now().date()    #change to current day date if required\n",
    "interval = '1d'"
   ]
  },
  {
   "cell_type": "code",
   "execution_count": null,
   "id": "9f57e535",
   "metadata": {},
   "outputs": [],
   "source": [
    "for stock in stocknames:\n",
    "    df = yf.download(stock, interval=interval, period='max')\n",
    "    df.to_csv('stocks_data\\\\{}.csv'.format(stock))"
   ]
  },
  {
   "cell_type": "code",
   "execution_count": null,
   "id": "a8aadaeb",
   "metadata": {
    "scrolled": true
   },
   "outputs": [],
   "source": [
    "def appending(cols=[], startdate='', enddate=''):\n",
    "    '''append stocks data into one file and then select the 'Adj Close' column'''\n",
    "    dates = pd.date_range(start=startdate, end=enddate)\n",
    "    df = pd.DataFrame(index=dates)\n",
    "    for stock in stocknames:\n",
    "        df_stock = pd.read_csv('stocks_data\\\\{}.csv'.format(stock), index_col='Date', parse_dates=True, usecols=cols, na_values=['NaN'])\n",
    "        df_stock = df_stock.rename(columns = {'Adj Close': stock})\n",
    "        df = df.join(df_stock)\n",
    "        df = df.loc[dates]\n",
    "    df.index.names = ['Date']\n",
    "    df = df.dropna()    #there are other ways to handle missing values. For simplicity, drop them for now\n",
    "    return df\n",
    "\n",
    "df = appending(['Date', 'Adj Close'], startdate, enddate)\n",
    "print(df)"
   ]
  },
  {
   "cell_type": "code",
   "execution_count": null,
   "id": "d39441eb",
   "metadata": {},
   "outputs": [],
   "source": [
    "df_desc = df.describe().T\n",
    "df_desc[['count', 'mean', 'std', 'min', '50%', 'max']]"
   ]
  },
  {
   "cell_type": "code",
   "execution_count": null,
   "id": "37dac1f1",
   "metadata": {},
   "outputs": [],
   "source": [
    "from plotly import express as px\n",
    "\n",
    "px.line(data_frame=df, title='Tickers Adj. Close Prices', width=1000, height=500)"
   ]
  },
  {
   "cell_type": "code",
   "execution_count": null,
   "id": "712a2e30",
   "metadata": {},
   "outputs": [],
   "source": [
    "df.head()"
   ]
  },
  {
   "cell_type": "code",
   "execution_count": null,
   "id": "4caa1f4e",
   "metadata": {
    "scrolled": true
   },
   "outputs": [],
   "source": [
    "norm = df / df.iloc[0,:]\n",
    "norm.head()"
   ]
  },
  {
   "cell_type": "code",
   "execution_count": null,
   "id": "606db27d",
   "metadata": {},
   "outputs": [],
   "source": [
    "fig = px.line(norm, x=norm.index, y=['^GSPC', '^FTSE', 'GC=F','CL=F','TLT'])\n",
    "fig.update_layout(title='Stock movement observation by normalizing Adj close prices, (Daily Cumulative Return)',\n",
    "                  xaxis_title='Date',\n",
    "                  yaxis_title='Normalized price')\n",
    "fig.show()"
   ]
  },
  {
   "cell_type": "code",
   "execution_count": null,
   "id": "569376ef",
   "metadata": {
    "scrolled": true
   },
   "outputs": [],
   "source": [
    "from matplotlib import pyplot as plt\n",
    "\n",
    "norm.plot(figsize=(18, 4.5))\n",
    "plt.grid(alpha=0.6)\n",
    "plt.title('Normalization plot using matplotlib')\n",
    "plt.xlabel('Date')\n",
    "plt.ylabel('Normalized Price')\n",
    "plt.tight_layout()"
   ]
  },
  {
   "cell_type": "code",
   "execution_count": null,
   "id": "249f5c3a",
   "metadata": {},
   "outputs": [],
   "source": [
    "rollingmean = df['^GSPC'].rolling(50).mean()\n",
    "rollingstd = df['^GSPC'].rolling(50).std()\n",
    "lowerbound = rollingmean - (2 * rollingstd)\n",
    "upperbound = rollingmean + (2 * rollingstd)\n",
    "fig, ax = plt.subplots(figsize=(15,4))\n",
    "df.iloc[50:]['^GSPC'].plot(ax=ax, color='green')\n",
    "ax.set_title('S&P 500 Bollinger Bands Indicator\\n')\n",
    "ax.set_xlabel('Date')\n",
    "ax.set_ylabel('\\nStock Price\\n')\n",
    "rollingmean.plot(ax=ax, linestyle='-', color='grey')\n",
    "lowerbound.plot(ax=ax, linestyle='--', color='grey')\n",
    "upperbound.plot(ax=ax, linestyle='--', color='grey')\n",
    "plt.grid(alpha=0.25)\n",
    "plt.tight_layout()\n",
    "\n",
    "\n",
    "rollingmean = df['^FTSE'].rolling(50).mean()\n",
    "rollingstd = df['^FTSE'].rolling(50).std()\n",
    "lowerbound = rollingmean - (2 * rollingstd)\n",
    "upperbound = rollingmean + (2 * rollingstd)\n",
    "fig, ax = plt.subplots(figsize=(15,4))\n",
    "df.iloc[50:]['^FTSE'].plot(ax=ax, color='red')\n",
    "ax.set_title('FTSE 100 Bollinger Bands Indicator\\n')\n",
    "ax.set_xlabel('Date')\n",
    "ax.set_ylabel('\\nStock Price\\n')\n",
    "rollingmean.plot(ax=ax, linestyle='-', color='grey')\n",
    "lowerbound.plot(ax=ax, linestyle='--', color='grey')\n",
    "upperbound.plot(ax=ax, linestyle='--', color='grey')\n",
    "plt.grid(alpha=0.25)\n",
    "plt.tight_layout()\n",
    "\n",
    "rollingmean = df['CL=F'].rolling(50).mean()\n",
    "rollingstd = df['CL=F'].rolling(50).std()\n",
    "lowerbound = rollingmean - (2 * rollingstd)\n",
    "upperbound = rollingmean + (2 * rollingstd)\n",
    "fig, ax = plt.subplots(figsize=(15,4))\n",
    "df.iloc[50:]['CL=F'].plot(ax=ax, color='blue')\n",
    "ax.set_title('Crude Oil Bollinger Bands Indicator\\n')\n",
    "ax.set_xlabel('Date')\n",
    "ax.set_ylabel('\\nStock Price\\n')\n",
    "rollingmean.plot(ax=ax, linestyle='-', color='grey')\n",
    "lowerbound.plot(ax=ax, linestyle='--', color='grey')\n",
    "upperbound.plot(ax=ax, linestyle='--', color='grey')\n",
    "plt.grid(alpha=0.25)\n",
    "plt.tight_layout()\n",
    "\n",
    "\n",
    "rollingmean = df['GC=F'].rolling(50).mean()\n",
    "rollingstd = df['GC=F'].rolling(50).std()\n",
    "lowerbound = rollingmean - (2 * rollingstd)\n",
    "upperbound = rollingmean + (2 * rollingstd)\n",
    "fig, ax = plt.subplots(figsize=(15,4))\n",
    "df.iloc[50:]['GC=F'].plot(ax=ax, color='magenta')\n",
    "ax.set_title('Gold Bollinger Bands Indicator\\n')\n",
    "ax.set_xlabel('Date')\n",
    "ax.set_ylabel('\\nStock Price\\n')\n",
    "rollingmean.plot(ax=ax, linestyle='-', color='grey')\n",
    "lowerbound.plot(ax=ax, linestyle='--', color='grey')\n",
    "upperbound.plot(ax=ax, linestyle='--', color='grey')\n",
    "plt.grid(alpha=0.25)\n",
    "plt.tight_layout()\n",
    "\n",
    "\n",
    "rollingmean = df['BTC-USD'].rolling(50).mean()\n",
    "rollingstd = df['BTC-USD'].rolling(50).std()\n",
    "lowerbound = rollingmean - (2 * rollingstd)\n",
    "upperbound = rollingmean + (2 * rollingstd)\n",
    "fig, ax = plt.subplots(figsize=(15,4))\n",
    "df.iloc[50:]['BTC-USD'].plot(ax=ax, color='orange')\n",
    "ax.set_title('Bitcoin USD Bollinger Bands Indicator\\n')\n",
    "ax.set_xlabel('Date')\n",
    "ax.set_ylabel('\\nStock Price\\n')\n",
    "rollingmean.plot(ax=ax, linestyle='-', color='grey')\n",
    "lowerbound.plot(ax=ax, linestyle='--', color='grey')\n",
    "upperbound.plot(ax=ax, linestyle='--', color='grey')\n",
    "plt.grid(alpha=0.25)\n",
    "plt.tight_layout()\n",
    "\n",
    "rollingmean = df['TLT'].rolling(50).mean()\n",
    "rollingstd = df['TLT'].rolling(50).std()\n",
    "lowerbound = rollingmean - (2 * rollingstd)\n",
    "upperbound = rollingmean + (2 * rollingstd)\n",
    "fig, ax = plt.subplots(figsize=(15,4))\n",
    "df.iloc[50:]['TLT'].plot(ax=ax, color='deepskyblue')\n",
    "ax.set_title('US 10 Year Treasury ETF Bollinger Bands Indicator\\n')\n",
    "ax.set_xlabel('Date')\n",
    "ax.set_ylabel('\\nStock Price\\n')\n",
    "rollingmean.plot(ax=ax, linestyle='-', color='grey')\n",
    "lowerbound.plot(ax=ax, linestyle='--', color='grey')\n",
    "upperbound.plot(ax=ax, linestyle='--', color='grey')\n",
    "plt.grid(alpha=0.25)\n",
    "plt.tight_layout()"
   ]
  },
  {
   "cell_type": "code",
   "execution_count": null,
   "id": "5fa3cf88",
   "metadata": {},
   "outputs": [],
   "source": []
  },
  {
   "cell_type": "code",
   "execution_count": null,
   "id": "8c27b371",
   "metadata": {},
   "outputs": [],
   "source": []
  },
  {
   "cell_type": "code",
   "execution_count": null,
   "id": "c9dea0ec",
   "metadata": {},
   "outputs": [],
   "source": []
  },
  {
   "cell_type": "markdown",
   "id": "3abf3ce7",
   "metadata": {},
   "source": [
    "#### Further Analysis"
   ]
  },
  {
   "cell_type": "code",
   "execution_count": null,
   "id": "3e033f31",
   "metadata": {},
   "outputs": [],
   "source": [
    "conda install -c conda-forge imbalanced-learn"
   ]
  },
  {
   "cell_type": "code",
   "execution_count": null,
   "id": "b5fcbff9",
   "metadata": {},
   "outputs": [],
   "source": [
    "!pip install imblearn\n"
   ]
  },
  {
   "cell_type": "code",
   "execution_count": null,
   "id": "8fa5c054",
   "metadata": {
    "scrolled": false
   },
   "outputs": [],
   "source": [
    "import yfinance as yf\n",
    "import pandas as pd\n",
    "import matplotlib.pyplot as plt\n",
    "\n",
    "def fetch_data(ticker, start_date, end_date):\n",
    "    \"\"\"\n",
    "    Fetch historical data for a given ticker from Yahoo Finance.\n",
    "    \n",
    "    Parameters:\n",
    "    ticker (str): The ticker symbol of the asset.\n",
    "    start_date (str): Start date in 'YYYY-MM-DD' format.\n",
    "    end_date (str): End date in 'YYYY-MM-DD' format.\n",
    "    \n",
    "    Returns:\n",
    "    DataFrame: A pandas DataFrame with historical data for the asset.\n",
    "    \"\"\"\n",
    "    data = yf.download(ticker, start=start_date, end=end_date)\n",
    "    return data\n",
    "\n",
    "def calculate_volatility(data):\n",
    "    \"\"\"\n",
    "    Calculate daily returns and volatility of the asset.\n",
    "    \n",
    "    Parameters:\n",
    "    data (DataFrame): Historical data of the asset.\n",
    "    \n",
    "    Returns:\n",
    "    float: The volatility of the asset.\n",
    "    \"\"\"\n",
    "    data['Daily Returns'] = data['Adj Close'].pct_change()\n",
    "    volatility = data['Daily Returns'].std() * (252 ** 0.5)  # Annualizing volatility\n",
    "    return volatility\n",
    "\n",
    "def plot_data(data, title):\n",
    "    \"\"\"\n",
    "    Plot the adjusted close price and daily returns of the asset.\n",
    "    \n",
    "    Parameters:\n",
    "    data (DataFrame): Historical data of the asset.\n",
    "    title (str): The title of the plot.\n",
    "    \"\"\"\n",
    "    fig, ax1 = plt.subplots()\n",
    "\n",
    "    color = 'tab:red'\n",
    "    ax1.set_xlabel('Date')\n",
    "    ax1.set_ylabel('Adj Close', color=color)\n",
    "    ax1.plot(data.index, data['Adj Close'], color=color)\n",
    "    ax1.tick_params(axis='y', labelcolor=color)\n",
    "\n",
    "    ax2 = ax1.twinx()\n",
    "    color = 'tab:blue'\n",
    "    ax2.set_ylabel('Daily Returns', color=color)\n",
    "    ax2.plot(data.index, data['Daily Returns'], color=color)\n",
    "    ax2.tick_params(axis='y', labelcolor=color)\n",
    "\n",
    "    plt.title(title)\n",
    "    plt.show()\n",
    "\n",
    "# Define the assets and the time period\n",
    "assets = ['^GSPC', '^FTSE', 'GC=F', 'CL=F', 'BTC-USD', 'TLT']\n",
    "asset_names = ['S&P 500', 'FTSE 100', 'Gold', 'Crude Oil', 'Bitcoin', 'US 10YR Treasury ETF']\n",
    "start_date = '2020-01-01'\n",
    "end_date = '2020-12-31'\n",
    "\n",
    "# Fetch data, calculate volatility, and plot for each asset\n",
    "volatilities = []\n",
    "for ticker, name in zip(assets, asset_names):\n",
    "    print(f\"Fetching data for {name}...\")\n",
    "    data = fetch_data(ticker, start_date, end_date)\n",
    "    volatility = calculate_volatility(data)\n",
    "    volatilities.append(volatility)\n",
    "    plot_data(data, f\"{name} Adjusted Close and Daily Returns\")\n",
    "    print(f\"{name} Volatility: {volatility}\\n\")\n",
    "\n",
    "# Display the volatilities in a table\n",
    "volatility_table = pd.DataFrame({'Asset': asset_names, 'Volatility': volatilities})\n",
    "print(\"Volatility Table:\")\n",
    "print(volatility_table)"
   ]
  },
  {
   "cell_type": "markdown",
   "id": "cdb1bb28",
   "metadata": {},
   "source": [
    "#### Further graphical illustrations of EDA "
   ]
  },
  {
   "cell_type": "code",
   "execution_count": null,
   "id": "43f90ac3",
   "metadata": {
    "scrolled": false
   },
   "outputs": [],
   "source": [
    "# Import necessary libraries\n",
    "import pandas as pd\n",
    "import yfinance as yf\n",
    "import matplotlib.pyplot as plt\n",
    "\n",
    "# Define the assets to fetch data for\n",
    "assets = ['^GSPC', '^FTSE', 'GC=F', 'CL=F', 'BTC-USD', 'TLT']\n",
    "\n",
    "# Fetch data from Yahoo Finance for the specified period\n",
    "start_date = '2017-01-01'\n",
    "end_date = '2020-04-01'\n",
    "\n",
    "data = {}\n",
    "for asset in assets:\n",
    "    data[asset] = yf.download(asset, start=start_date, end=end_date)\n",
    "\n",
    "# Plot graphs, charts, and diagrams for each asset\n",
    "for asset, df in data.items():\n",
    "    # Plot price change over time\n",
    "    plt.figure(figsize=(10, 6))\n",
    "    plt.plot(df['Close'])\n",
    "    plt.title(f'{asset} Price Change Over Time')\n",
    "    plt.xlabel('Date')\n",
    "    plt.ylabel('Price')\n",
    "    plt.grid()\n",
    "    plt.show()\n",
    "\n",
    "    # Plot distribution of prices\n",
    "    plt.figure(figsize=(10, 6))\n",
    "    df['Close'].plot(kind='hist', bins=30)\n",
    "    plt.title(f'{asset} Price Distribution')\n",
    "    plt.xlabel('Price')\n",
    "    plt.ylabel('Frequency')\n",
    "    plt.grid()\n",
    "    plt.show()\n",
    "\n",
    "    # Calculate and plot volatility\n",
    "    df['Volatility'] = df['Close'].pct_change().rolling(window=30).std()\n",
    "    plt.figure(figsize=(10, 6))\n",
    "    plt.plot(df['Volatility'])\n",
    "    plt.title(f'{asset} Volatility Over Time')\n",
    "    plt.xlabel('Date')\n",
    "    plt.ylabel('Volatility')\n",
    "    plt.grid()\n",
    "    plt.show()\n",
    "\n",
    "    # Calculate and plot returns\n",
    "    df['Return'] = df['Close'].pct_change()\n",
    "    plt.figure(figsize=(10, 6))\n",
    "    plt.plot(df['Return'])\n",
    "    plt.title(f'{asset} Returns Over Time')\n",
    "    plt.xlabel('Date')\n",
    "    plt.ylabel('Return')\n",
    "    plt.grid()\n",
    "    plt.show()"
   ]
  },
  {
   "cell_type": "markdown",
   "id": "e1273a59",
   "metadata": {},
   "source": [
    "### Regime Detection"
   ]
  },
  {
   "cell_type": "code",
   "execution_count": 1,
   "id": "9fd48fd0",
   "metadata": {},
   "outputs": [],
   "source": [
    "import pandas as pd\n",
    "import statsmodels.api as sm\n",
    "import matplotlib.pyplot as plt\n",
    "import seaborn as sns\n",
    "import numpy as np\n",
    "import yfinance as yf\n",
    "import pandas as pd\n",
    "import random\n",
    "\n",
    "import numpy as np\n",
    "import scipy.stats as scs\n",
    "\n",
    "from sklearn.model_selection import train_test_split\n",
    "from sklearn.ensemble import RandomForestClassifier\n",
    "from sklearn.inspection import permutation_importance\n",
    "from sklearn.metrics import accuracy_score, confusion_matrix, roc_curve, auc\n",
    "from collections import Counter, deque\n",
    "from imblearn.under_sampling import RandomUnderSampler"
   ]
  },
  {
   "cell_type": "code",
   "execution_count": 14,
   "id": "dcae5600",
   "metadata": {},
   "outputs": [
    {
     "name": "stdout",
     "output_type": "stream",
     "text": [
      "[*********************100%***********************]  1 of 1 completed\n"
     ]
    },
    {
     "data": {
      "text/html": [
       "<div>\n",
       "<style scoped>\n",
       "    .dataframe tbody tr th:only-of-type {\n",
       "        vertical-align: middle;\n",
       "    }\n",
       "\n",
       "    .dataframe tbody tr th {\n",
       "        vertical-align: top;\n",
       "    }\n",
       "\n",
       "    .dataframe thead th {\n",
       "        text-align: right;\n",
       "    }\n",
       "</style>\n",
       "<table border=\"1\" class=\"dataframe\">\n",
       "  <thead>\n",
       "    <tr style=\"text-align: right;\">\n",
       "      <th></th>\n",
       "      <th>Open</th>\n",
       "      <th>High</th>\n",
       "      <th>Low</th>\n",
       "      <th>Close</th>\n",
       "      <th>Adj Close</th>\n",
       "      <th>Volume</th>\n",
       "    </tr>\n",
       "    <tr>\n",
       "      <th>Date</th>\n",
       "      <th></th>\n",
       "      <th></th>\n",
       "      <th></th>\n",
       "      <th></th>\n",
       "      <th></th>\n",
       "      <th></th>\n",
       "    </tr>\n",
       "  </thead>\n",
       "  <tbody>\n",
       "    <tr>\n",
       "      <th>2020-01-02</th>\n",
       "      <td>3244.669922</td>\n",
       "      <td>3258.139893</td>\n",
       "      <td>3235.530029</td>\n",
       "      <td>3257.850098</td>\n",
       "      <td>3257.850098</td>\n",
       "      <td>3459930000</td>\n",
       "    </tr>\n",
       "    <tr>\n",
       "      <th>2020-01-03</th>\n",
       "      <td>3226.360107</td>\n",
       "      <td>3246.149902</td>\n",
       "      <td>3222.340088</td>\n",
       "      <td>3234.850098</td>\n",
       "      <td>3234.850098</td>\n",
       "      <td>3484700000</td>\n",
       "    </tr>\n",
       "    <tr>\n",
       "      <th>2020-01-06</th>\n",
       "      <td>3217.550049</td>\n",
       "      <td>3246.840088</td>\n",
       "      <td>3214.639893</td>\n",
       "      <td>3246.280029</td>\n",
       "      <td>3246.280029</td>\n",
       "      <td>3702460000</td>\n",
       "    </tr>\n",
       "    <tr>\n",
       "      <th>2020-01-07</th>\n",
       "      <td>3241.860107</td>\n",
       "      <td>3244.909912</td>\n",
       "      <td>3232.429932</td>\n",
       "      <td>3237.179932</td>\n",
       "      <td>3237.179932</td>\n",
       "      <td>3435910000</td>\n",
       "    </tr>\n",
       "    <tr>\n",
       "      <th>2020-01-08</th>\n",
       "      <td>3238.590088</td>\n",
       "      <td>3267.070068</td>\n",
       "      <td>3236.669922</td>\n",
       "      <td>3253.050049</td>\n",
       "      <td>3253.050049</td>\n",
       "      <td>3726840000</td>\n",
       "    </tr>\n",
       "  </tbody>\n",
       "</table>\n",
       "</div>"
      ],
      "text/plain": [
       "                   Open         High          Low        Close    Adj Close  \\\n",
       "Date                                                                          \n",
       "2020-01-02  3244.669922  3258.139893  3235.530029  3257.850098  3257.850098   \n",
       "2020-01-03  3226.360107  3246.149902  3222.340088  3234.850098  3234.850098   \n",
       "2020-01-06  3217.550049  3246.840088  3214.639893  3246.280029  3246.280029   \n",
       "2020-01-07  3241.860107  3244.909912  3232.429932  3237.179932  3237.179932   \n",
       "2020-01-08  3238.590088  3267.070068  3236.669922  3253.050049  3253.050049   \n",
       "\n",
       "                Volume  \n",
       "Date                    \n",
       "2020-01-02  3459930000  \n",
       "2020-01-03  3484700000  \n",
       "2020-01-06  3702460000  \n",
       "2020-01-07  3435910000  \n",
       "2020-01-08  3726840000  "
      ]
     },
     "execution_count": 14,
     "metadata": {},
     "output_type": "execute_result"
    }
   ],
   "source": [
    "df = yf.download('^GSPC', start=\"2020-01-01\", end=\"2020-12-31\", interval=\"1d\")\n",
    "df.head()"
   ]
  },
  {
   "cell_type": "code",
   "execution_count": 15,
   "id": "5e69681b",
   "metadata": {},
   "outputs": [
    {
     "data": {
      "text/html": [
       "<div>\n",
       "<style scoped>\n",
       "    .dataframe tbody tr th:only-of-type {\n",
       "        vertical-align: middle;\n",
       "    }\n",
       "\n",
       "    .dataframe tbody tr th {\n",
       "        vertical-align: top;\n",
       "    }\n",
       "\n",
       "    .dataframe thead th {\n",
       "        text-align: right;\n",
       "    }\n",
       "</style>\n",
       "<table border=\"1\" class=\"dataframe\">\n",
       "  <thead>\n",
       "    <tr style=\"text-align: right;\">\n",
       "      <th></th>\n",
       "      <th>Open</th>\n",
       "      <th>High</th>\n",
       "      <th>Low</th>\n",
       "      <th>Close</th>\n",
       "      <th>Adj Close</th>\n",
       "      <th>Volume</th>\n",
       "    </tr>\n",
       "    <tr>\n",
       "      <th>Date</th>\n",
       "      <th></th>\n",
       "      <th></th>\n",
       "      <th></th>\n",
       "      <th></th>\n",
       "      <th></th>\n",
       "      <th></th>\n",
       "    </tr>\n",
       "  </thead>\n",
       "  <tbody>\n",
       "    <tr>\n",
       "      <th>2020-12-23</th>\n",
       "      <td>3693.419922</td>\n",
       "      <td>3711.239990</td>\n",
       "      <td>3689.280029</td>\n",
       "      <td>3690.010010</td>\n",
       "      <td>3690.010010</td>\n",
       "      <td>3779160000</td>\n",
       "    </tr>\n",
       "    <tr>\n",
       "      <th>2020-12-24</th>\n",
       "      <td>3694.030029</td>\n",
       "      <td>3703.820068</td>\n",
       "      <td>3689.320068</td>\n",
       "      <td>3703.060059</td>\n",
       "      <td>3703.060059</td>\n",
       "      <td>1883780000</td>\n",
       "    </tr>\n",
       "    <tr>\n",
       "      <th>2020-12-28</th>\n",
       "      <td>3723.030029</td>\n",
       "      <td>3740.510010</td>\n",
       "      <td>3723.030029</td>\n",
       "      <td>3735.360107</td>\n",
       "      <td>3735.360107</td>\n",
       "      <td>3535460000</td>\n",
       "    </tr>\n",
       "    <tr>\n",
       "      <th>2020-12-29</th>\n",
       "      <td>3750.010010</td>\n",
       "      <td>3756.120117</td>\n",
       "      <td>3723.310059</td>\n",
       "      <td>3727.040039</td>\n",
       "      <td>3727.040039</td>\n",
       "      <td>3393290000</td>\n",
       "    </tr>\n",
       "    <tr>\n",
       "      <th>2020-12-30</th>\n",
       "      <td>3736.189941</td>\n",
       "      <td>3744.629883</td>\n",
       "      <td>3730.209961</td>\n",
       "      <td>3732.040039</td>\n",
       "      <td>3732.040039</td>\n",
       "      <td>3154850000</td>\n",
       "    </tr>\n",
       "  </tbody>\n",
       "</table>\n",
       "</div>"
      ],
      "text/plain": [
       "                   Open         High          Low        Close    Adj Close  \\\n",
       "Date                                                                          \n",
       "2020-12-23  3693.419922  3711.239990  3689.280029  3690.010010  3690.010010   \n",
       "2020-12-24  3694.030029  3703.820068  3689.320068  3703.060059  3703.060059   \n",
       "2020-12-28  3723.030029  3740.510010  3723.030029  3735.360107  3735.360107   \n",
       "2020-12-29  3750.010010  3756.120117  3723.310059  3727.040039  3727.040039   \n",
       "2020-12-30  3736.189941  3744.629883  3730.209961  3732.040039  3732.040039   \n",
       "\n",
       "                Volume  \n",
       "Date                    \n",
       "2020-12-23  3779160000  \n",
       "2020-12-24  1883780000  \n",
       "2020-12-28  3535460000  \n",
       "2020-12-29  3393290000  \n",
       "2020-12-30  3154850000  "
      ]
     },
     "execution_count": 15,
     "metadata": {},
     "output_type": "execute_result"
    }
   ],
   "source": [
    "df.tail()"
   ]
  },
  {
   "cell_type": "code",
   "execution_count": 16,
   "id": "c61c6b19",
   "metadata": {},
   "outputs": [
    {
     "data": {
      "image/png": "[encoded data removed]",
      "text/plain": [
       "<Figure size 432x288 with 1 Axes>"
      ]
     },
     "metadata": {},
     "output_type": "display_data"
    }
   ],
   "source": [
    "plt.title(f'SP500 Price History')\n",
    "plt.plot(\n",
    "    list(i for i in df.index),\n",
    "    list(i[4] for i in df.values))\n",
    "plt.grid(False)\n"
   ]
  },
  {
   "cell_type": "code",
   "execution_count": 17,
   "id": "f45c91ee",
   "metadata": {},
   "outputs": [
    {
     "data": {
      "text/plain": [
       "<AxesSubplot:title={'center':'Excess returns'}, xlabel='Date'>"
      ]
     },
     "execution_count": 17,
     "metadata": {},
     "output_type": "execute_result"
    },
    {
     "data": {
      "image/png": "[encoded data removed]",
      "text/plain": [
       "<Figure size 864x216 with 1 Axes>"
      ]
     },
     "metadata": {},
     "output_type": "display_data"
    }
   ],
   "source": [
    "df['r-1'] = df['Adj Close'].pct_change().dropna()\n",
    "\n",
    "ex_ret = df['r-1']\n",
    "ex_ret.plot(title='Excess returns', figsize=(12, 3), grid=False)"
   ]
  },
  {
   "cell_type": "code",
   "execution_count": 18,
   "id": "6119c769",
   "metadata": {},
   "outputs": [
    {
     "data": {
      "text/html": [
       "<table class=\"simpletable\">\n",
       "<caption>Markov Switching Model Results</caption>\n",
       "<tr>\n",
       "  <th>Dep. Variable:</th>          <td>r-1</td>       <th>  No. Observations:  </th>    <td>251</td>   \n",
       "</tr>\n",
       "<tr>\n",
       "  <th>Model:</th>           <td>MarkovRegression</td> <th>  Log Likelihood     </th>  <td>698.177</td> \n",
       "</tr>\n",
       "<tr>\n",
       "  <th>Date:</th>            <td>Sun, 18 Feb 2024</td> <th>  AIC                </th> <td>-1388.354</td>\n",
       "</tr>\n",
       "<tr>\n",
       "  <th>Time:</th>                <td>15:46:59</td>     <th>  BIC                </th> <td>-1374.253</td>\n",
       "</tr>\n",
       "<tr>\n",
       "  <th>Sample:</th>                  <td>0</td>        <th>  HQIC               </th> <td>-1382.680</td>\n",
       "</tr>\n",
       "<tr>\n",
       "  <th></th>                      <td> - 251</td>      <th>                     </th>     <td> </td>    \n",
       "</tr>\n",
       "<tr>\n",
       "  <th>Covariance Type:</th>      <td>approx</td>      <th>                     </th>     <td> </td>    \n",
       "</tr>\n",
       "</table>\n",
       "<table class=\"simpletable\">\n",
       "<caption>Regime 0 parameters</caption>\n",
       "<tr>\n",
       "     <td></td>       <th>coef</th>     <th>std err</th>      <th>z</th>      <th>P>|z|</th>  <th>[0.025</th>    <th>0.975]</th>  \n",
       "</tr>\n",
       "<tr>\n",
       "  <th>sigma2</th> <td>    0.0001</td> <td> 1.39e-05</td> <td>    8.540</td> <td> 0.000</td> <td> 9.13e-05</td> <td>    0.000</td>\n",
       "</tr>\n",
       "</table>\n",
       "<table class=\"simpletable\">\n",
       "<caption>Regime 1 parameters</caption>\n",
       "<tr>\n",
       "     <td></td>       <th>coef</th>     <th>std err</th>      <th>z</th>      <th>P>|z|</th>  <th>[0.025</th>    <th>0.975]</th>  \n",
       "</tr>\n",
       "<tr>\n",
       "  <th>sigma2</th> <td>    0.0020</td> <td>    0.000</td> <td>    4.408</td> <td> 0.000</td> <td>    0.001</td> <td>    0.003</td>\n",
       "</tr>\n",
       "</table>\n",
       "<table class=\"simpletable\">\n",
       "<caption>Regime transition parameters</caption>\n",
       "<tr>\n",
       "     <td></td>        <th>coef</th>     <th>std err</th>      <th>z</th>      <th>P>|z|</th>  <th>[0.025</th>    <th>0.975]</th>  \n",
       "</tr>\n",
       "<tr>\n",
       "  <th>p[0->0]</th> <td>    0.9889</td> <td>    0.008</td> <td>  120.651</td> <td> 0.000</td> <td>    0.973</td> <td>    1.005</td>\n",
       "</tr>\n",
       "<tr>\n",
       "  <th>p[1->0]</th> <td>    0.0559</td> <td>    0.036</td> <td>    1.542</td> <td> 0.123</td> <td>   -0.015</td> <td>    0.127</td>\n",
       "</tr>\n",
       "</table><br/><br/>Warnings:<br/>[1] Covariance matrix calculated using numerical (complex-step) differentiation."
      ],
      "text/plain": [
       "<class 'statsmodels.iolib.summary.Summary'>\n",
       "\"\"\"\n",
       "                        Markov Switching Model Results                        \n",
       "==============================================================================\n",
       "Dep. Variable:                    r-1   No. Observations:                  251\n",
       "Model:               MarkovRegression   Log Likelihood                 698.177\n",
       "Date:                Sun, 18 Feb 2024   AIC                          -1388.354\n",
       "Time:                        15:46:59   BIC                          -1374.253\n",
       "Sample:                             0   HQIC                         -1382.680\n",
       "                                - 251                                         \n",
       "Covariance Type:               approx                                         \n",
       "                             Regime 0 parameters                              \n",
       "==============================================================================\n",
       "                 coef    std err          z      P>|z|      [0.025      0.975]\n",
       "------------------------------------------------------------------------------\n",
       "sigma2         0.0001   1.39e-05      8.540      0.000    9.13e-05       0.000\n",
       "                             Regime 1 parameters                              \n",
       "==============================================================================\n",
       "                 coef    std err          z      P>|z|      [0.025      0.975]\n",
       "------------------------------------------------------------------------------\n",
       "sigma2         0.0020      0.000      4.408      0.000       0.001       0.003\n",
       "                         Regime transition parameters                         \n",
       "==============================================================================\n",
       "                 coef    std err          z      P>|z|      [0.025      0.975]\n",
       "------------------------------------------------------------------------------\n",
       "p[0->0]        0.9889      0.008    120.651      0.000       0.973       1.005\n",
       "p[1->0]        0.0559      0.036      1.542      0.123      -0.015       0.127\n",
       "==============================================================================\n",
       "\n",
       "Warnings:\n",
       "[1] Covariance matrix calculated using numerical (complex-step) differentiation.\n",
       "\"\"\""
      ]
     },
     "execution_count": 18,
     "metadata": {},
     "output_type": "execute_result"
    }
   ],
   "source": [
    "# Fit the model\n",
    "mod_kns = sm.tsa.MarkovRegression(ex_ret.dropna(), k_regimes=2, trend='n', switching_variance=True)\n",
    "res_kns = mod_kns.fit()\n",
    "res_kns.summary()"
   ]
  },
  {
   "cell_type": "code",
   "execution_count": 19,
   "id": "1880dad4",
   "metadata": {},
   "outputs": [
    {
     "data": {
      "text/html": [
       "<div>\n",
       "<style scoped>\n",
       "    .dataframe tbody tr th:only-of-type {\n",
       "        vertical-align: middle;\n",
       "    }\n",
       "\n",
       "    .dataframe tbody tr th {\n",
       "        vertical-align: top;\n",
       "    }\n",
       "\n",
       "    .dataframe thead th {\n",
       "        text-align: right;\n",
       "    }\n",
       "</style>\n",
       "<table border=\"1\" class=\"dataframe\">\n",
       "  <thead>\n",
       "    <tr style=\"text-align: right;\">\n",
       "      <th></th>\n",
       "      <th>0</th>\n",
       "      <th>1</th>\n",
       "    </tr>\n",
       "    <tr>\n",
       "      <th>Date</th>\n",
       "      <th></th>\n",
       "      <th></th>\n",
       "    </tr>\n",
       "  </thead>\n",
       "  <tbody>\n",
       "    <tr>\n",
       "      <th>2020-01-03</th>\n",
       "      <td>0.995674</td>\n",
       "      <td>0.004326</td>\n",
       "    </tr>\n",
       "    <tr>\n",
       "      <th>2020-01-06</th>\n",
       "      <td>0.998744</td>\n",
       "      <td>0.001256</td>\n",
       "    </tr>\n",
       "    <tr>\n",
       "      <th>2020-01-07</th>\n",
       "      <td>0.999485</td>\n",
       "      <td>0.000515</td>\n",
       "    </tr>\n",
       "    <tr>\n",
       "      <th>2020-01-08</th>\n",
       "      <td>0.999639</td>\n",
       "      <td>0.000361</td>\n",
       "    </tr>\n",
       "    <tr>\n",
       "      <th>2020-01-09</th>\n",
       "      <td>0.999663</td>\n",
       "      <td>0.000337</td>\n",
       "    </tr>\n",
       "  </tbody>\n",
       "</table>\n",
       "</div>"
      ],
      "text/plain": [
       "                   0         1\n",
       "Date                          \n",
       "2020-01-03  0.995674  0.004326\n",
       "2020-01-06  0.998744  0.001256\n",
       "2020-01-07  0.999485  0.000515\n",
       "2020-01-08  0.999639  0.000361\n",
       "2020-01-09  0.999663  0.000337"
      ]
     },
     "execution_count": 19,
     "metadata": {},
     "output_type": "execute_result"
    }
   ],
   "source": [
    "res_kns.smoothed_marginal_probabilities.head()\n"
   ]
  },
  {
   "cell_type": "code",
   "execution_count": 20,
   "id": "f7631a62",
   "metadata": {},
   "outputs": [
    {
     "name": "stdout",
     "output_type": "stream",
     "text": [
      "                   0         1\n",
      "Date                          \n",
      "2020-01-03  0.995674  0.004326\n",
      "2020-01-06  0.998744  0.001256\n",
      "2020-01-07  0.999485  0.000515\n",
      "2020-01-08  0.999639  0.000361\n",
      "2020-01-09  0.999663  0.000337\n"
     ]
    }
   ],
   "source": [
    "print(res_kns.smoothed_marginal_probabilities.head())\n"
   ]
  },
  {
   "cell_type": "code",
   "execution_count": 21,
   "id": "b8b373df",
   "metadata": {},
   "outputs": [
    {
     "data": {
      "image/png": "[encoded data removed]",
      "text/plain": [
       "<Figure size 720x504 with 2 Axes>"
      ]
     },
     "metadata": {},
     "output_type": "display_data"
    }
   ],
   "source": [
    "fig, axes = plt.subplots(2, figsize=(10,7))\n",
    "ax = axes[0]\n",
    "ax.plot(res_kns.smoothed_marginal_probabilities[0])\n",
    "ax.grid(False)\n",
    "ax.set(title='Smoothed probability of a low-variance regime returns')\n",
    "ax = axes[1]\n",
    "ax.plot(res_kns.smoothed_marginal_probabilities[1])\n",
    "ax.set(title='Smoothed probability of a high-variance regime returns')\n",
    "fig.tight_layout()\n",
    "ax.grid(False)"
   ]
  },
  {
   "cell_type": "code",
   "execution_count": 22,
   "id": "b3f748ba",
   "metadata": {},
   "outputs": [],
   "source": [
    "low_var = list(res_kns.smoothed_marginal_probabilities[0])\n",
    "high_var = list(res_kns.smoothed_marginal_probabilities[1])\n",
    "\n",
    "regime_list = []\n",
    "for i in range(0, len(low_var)):\n",
    "    if low_var[i] > high_var[i]:\n",
    "        regime_list.append(0)\n",
    "    else:\n",
    "        regime_list.append(1)"
   ]
  },
  {
   "cell_type": "code",
   "execution_count": 23,
   "id": "3c1ae7fa",
   "metadata": {},
   "outputs": [],
   "source": [
    "regime_df = pd.DataFrame()\n",
    "regime_df['regimes'] = regime_list"
   ]
  },
  {
   "cell_type": "code",
   "execution_count": 24,
   "id": "364f0dfa",
   "metadata": {},
   "outputs": [
    {
     "data": {
      "text/plain": [
       "Text(0.5, 0.98, 'Historical SP500 regimes')"
      ]
     },
     "execution_count": 24,
     "metadata": {},
     "output_type": "execute_result"
    },
    {
     "data": {
      "image/png": "[encoded data removed]",
      "text/plain": [
       "<Figure size 1209.29x864 with 1 Axes>"
      ]
     },
     "metadata": {},
     "output_type": "display_data"
    }
   ],
   "source": [
    "sns.set(font_scale=1.5)\n",
    "df = df.iloc[len(df)-len(regime_list):]\n",
    "regimes = (pd.DataFrame(regime_list, columns=['regimes'], index=df.index)\n",
    "          .join(df, how='inner')\n",
    "          .reset_index(drop=False)\n",
    "          .rename(columns={'index':'Date'}))\n",
    "regimes.head()\n",
    "\n",
    "import warnings\n",
    "warnings.filterwarnings(\"ignore\")\n",
    "colors = 'green', 'red', 'yellow'\n",
    "sns.set_style(\"whitegrid\")\n",
    "order = [0, 1]\n",
    "fg = sns.FacetGrid(data=regimes, hue='regimes', hue_order=order,\n",
    "                   palette=colors, aspect=1.31, height=12)\n",
    "fg.map(plt.scatter, 'Date', \"Adj Close\", alpha=0.8).add_legend()\n",
    "sns.despine(offset=10)\n",
    "fg.fig.suptitle('Historical SP500 regimes', fontsize=24, fontweight='demi')"
   ]
  },
  {
   "cell_type": "code",
   "execution_count": 25,
   "id": "479fa9da",
   "metadata": {},
   "outputs": [
    {
     "name": "stdout",
     "output_type": "stream",
     "text": [
      "[*********************100%***********************]  1 of 1 completed\n"
     ]
    },
    {
     "ename": "ValueError",
     "evalue": "Length of values (251) does not match length of index (985)",
     "output_type": "error",
     "traceback": [
      "\u001b[0;31m---------------------------------------------------------------------------\u001b[0m",
      "\u001b[0;31mValueError\u001b[0m                                Traceback (most recent call last)",
      "Input \u001b[0;32mIn [25]\u001b[0m, in \u001b[0;36m<cell line: 12>\u001b[0;34m()\u001b[0m\n\u001b[1;32m     10\u001b[0m low_var_prob \u001b[38;5;241m=\u001b[39m \u001b[38;5;28mlist\u001b[39m(res_kns\u001b[38;5;241m.\u001b[39msmoothed_marginal_probabilities[\u001b[38;5;241m0\u001b[39m])\n\u001b[1;32m     11\u001b[0m high_var_prob \u001b[38;5;241m=\u001b[39m \u001b[38;5;28mlist\u001b[39m(res_kns\u001b[38;5;241m.\u001b[39msmoothed_marginal_probabilities[\u001b[38;5;241m1\u001b[39m])\n\u001b[0;32m---> 12\u001b[0m ml_df[\u001b[38;5;124m'\u001b[39m\u001b[38;5;124mLow_Var_Prob\u001b[39m\u001b[38;5;124m'\u001b[39m] \u001b[38;5;241m=\u001b[39m low_var_prob[\u001b[38;5;28mlen\u001b[39m(low_var_prob)\u001b[38;5;241m-\u001b[39m\u001b[38;5;28mlen\u001b[39m(ml_df):] \u001b[38;5;66;03m# adjust length\u001b[39;00m\n\u001b[1;32m     13\u001b[0m ml_df[\u001b[38;5;124m'\u001b[39m\u001b[38;5;124mHigh_Var_Prob\u001b[39m\u001b[38;5;124m'\u001b[39m] \u001b[38;5;241m=\u001b[39m high_var_prob[\u001b[38;5;28mlen\u001b[39m(high_var_prob)\u001b[38;5;241m-\u001b[39m\u001b[38;5;28mlen\u001b[39m(ml_df):]\n\u001b[1;32m     15\u001b[0m \u001b[38;5;66;03m# volatility     \u001b[39;00m\n",
      "File \u001b[0;32m~/opt/anaconda3/lib/python3.9/site-packages/pandas/core/frame.py:3655\u001b[0m, in \u001b[0;36mDataFrame.__setitem__\u001b[0;34m(self, key, value)\u001b[0m\n\u001b[1;32m   3652\u001b[0m     \u001b[38;5;28mself\u001b[39m\u001b[38;5;241m.\u001b[39m_setitem_array([key], value)\n\u001b[1;32m   3653\u001b[0m \u001b[38;5;28;01melse\u001b[39;00m:\n\u001b[1;32m   3654\u001b[0m     \u001b[38;5;66;03m# set column\u001b[39;00m\n\u001b[0;32m-> 3655\u001b[0m     \u001b[38;5;28;43mself\u001b[39;49m\u001b[38;5;241;43m.\u001b[39;49m\u001b[43m_set_item\u001b[49m\u001b[43m(\u001b[49m\u001b[43mkey\u001b[49m\u001b[43m,\u001b[49m\u001b[43m \u001b[49m\u001b[43mvalue\u001b[49m\u001b[43m)\u001b[49m\n",
      "File \u001b[0;32m~/opt/anaconda3/lib/python3.9/site-packages/pandas/core/frame.py:3832\u001b[0m, in \u001b[0;36mDataFrame._set_item\u001b[0;34m(self, key, value)\u001b[0m\n\u001b[1;32m   3822\u001b[0m \u001b[38;5;28;01mdef\u001b[39;00m \u001b[38;5;21m_set_item\u001b[39m(\u001b[38;5;28mself\u001b[39m, key, value) \u001b[38;5;241m-\u001b[39m\u001b[38;5;241m>\u001b[39m \u001b[38;5;28;01mNone\u001b[39;00m:\n\u001b[1;32m   3823\u001b[0m     \u001b[38;5;124;03m\"\"\"\u001b[39;00m\n\u001b[1;32m   3824\u001b[0m \u001b[38;5;124;03m    Add series to DataFrame in specified column.\u001b[39;00m\n\u001b[1;32m   3825\u001b[0m \n\u001b[0;32m   (...)\u001b[0m\n\u001b[1;32m   3830\u001b[0m \u001b[38;5;124;03m    ensure homogeneity.\u001b[39;00m\n\u001b[1;32m   3831\u001b[0m \u001b[38;5;124;03m    \"\"\"\u001b[39;00m\n\u001b[0;32m-> 3832\u001b[0m     value \u001b[38;5;241m=\u001b[39m \u001b[38;5;28;43mself\u001b[39;49m\u001b[38;5;241;43m.\u001b[39;49m\u001b[43m_sanitize_column\u001b[49m\u001b[43m(\u001b[49m\u001b[43mvalue\u001b[49m\u001b[43m)\u001b[49m\n\u001b[1;32m   3834\u001b[0m     \u001b[38;5;28;01mif\u001b[39;00m (\n\u001b[1;32m   3835\u001b[0m         key \u001b[38;5;129;01min\u001b[39;00m \u001b[38;5;28mself\u001b[39m\u001b[38;5;241m.\u001b[39mcolumns\n\u001b[1;32m   3836\u001b[0m         \u001b[38;5;129;01mand\u001b[39;00m value\u001b[38;5;241m.\u001b[39mndim \u001b[38;5;241m==\u001b[39m \u001b[38;5;241m1\u001b[39m\n\u001b[1;32m   3837\u001b[0m         \u001b[38;5;129;01mand\u001b[39;00m \u001b[38;5;129;01mnot\u001b[39;00m is_extension_array_dtype(value)\n\u001b[1;32m   3838\u001b[0m     ):\n\u001b[1;32m   3839\u001b[0m         \u001b[38;5;66;03m# broadcast across multiple columns if necessary\u001b[39;00m\n\u001b[1;32m   3840\u001b[0m         \u001b[38;5;28;01mif\u001b[39;00m \u001b[38;5;129;01mnot\u001b[39;00m \u001b[38;5;28mself\u001b[39m\u001b[38;5;241m.\u001b[39mcolumns\u001b[38;5;241m.\u001b[39mis_unique \u001b[38;5;129;01mor\u001b[39;00m \u001b[38;5;28misinstance\u001b[39m(\u001b[38;5;28mself\u001b[39m\u001b[38;5;241m.\u001b[39mcolumns, MultiIndex):\n",
      "File \u001b[0;32m~/opt/anaconda3/lib/python3.9/site-packages/pandas/core/frame.py:4535\u001b[0m, in \u001b[0;36mDataFrame._sanitize_column\u001b[0;34m(self, value)\u001b[0m\n\u001b[1;32m   4532\u001b[0m     \u001b[38;5;28;01mreturn\u001b[39;00m _reindex_for_setitem(value, \u001b[38;5;28mself\u001b[39m\u001b[38;5;241m.\u001b[39mindex)\n\u001b[1;32m   4534\u001b[0m \u001b[38;5;28;01mif\u001b[39;00m is_list_like(value):\n\u001b[0;32m-> 4535\u001b[0m     \u001b[43mcom\u001b[49m\u001b[38;5;241;43m.\u001b[39;49m\u001b[43mrequire_length_match\u001b[49m\u001b[43m(\u001b[49m\u001b[43mvalue\u001b[49m\u001b[43m,\u001b[49m\u001b[43m \u001b[49m\u001b[38;5;28;43mself\u001b[39;49m\u001b[38;5;241;43m.\u001b[39;49m\u001b[43mindex\u001b[49m\u001b[43m)\u001b[49m\n\u001b[1;32m   4536\u001b[0m \u001b[38;5;28;01mreturn\u001b[39;00m sanitize_array(value, \u001b[38;5;28mself\u001b[39m\u001b[38;5;241m.\u001b[39mindex, copy\u001b[38;5;241m=\u001b[39m\u001b[38;5;28;01mTrue\u001b[39;00m, allow_2d\u001b[38;5;241m=\u001b[39m\u001b[38;5;28;01mTrue\u001b[39;00m)\n",
      "File \u001b[0;32m~/opt/anaconda3/lib/python3.9/site-packages/pandas/core/common.py:557\u001b[0m, in \u001b[0;36mrequire_length_match\u001b[0;34m(data, index)\u001b[0m\n\u001b[1;32m    553\u001b[0m \u001b[38;5;124;03m\"\"\"\u001b[39;00m\n\u001b[1;32m    554\u001b[0m \u001b[38;5;124;03mCheck the length of data matches the length of the index.\u001b[39;00m\n\u001b[1;32m    555\u001b[0m \u001b[38;5;124;03m\"\"\"\u001b[39;00m\n\u001b[1;32m    556\u001b[0m \u001b[38;5;28;01mif\u001b[39;00m \u001b[38;5;28mlen\u001b[39m(data) \u001b[38;5;241m!=\u001b[39m \u001b[38;5;28mlen\u001b[39m(index):\n\u001b[0;32m--> 557\u001b[0m     \u001b[38;5;28;01mraise\u001b[39;00m \u001b[38;5;167;01mValueError\u001b[39;00m(\n\u001b[1;32m    558\u001b[0m         \u001b[38;5;124m\"\u001b[39m\u001b[38;5;124mLength of values \u001b[39m\u001b[38;5;124m\"\u001b[39m\n\u001b[1;32m    559\u001b[0m         \u001b[38;5;124mf\u001b[39m\u001b[38;5;124m\"\u001b[39m\u001b[38;5;124m(\u001b[39m\u001b[38;5;132;01m{\u001b[39;00m\u001b[38;5;28mlen\u001b[39m(data)\u001b[38;5;132;01m}\u001b[39;00m\u001b[38;5;124m) \u001b[39m\u001b[38;5;124m\"\u001b[39m\n\u001b[1;32m    560\u001b[0m         \u001b[38;5;124m\"\u001b[39m\u001b[38;5;124mdoes not match length of index \u001b[39m\u001b[38;5;124m\"\u001b[39m\n\u001b[1;32m    561\u001b[0m         \u001b[38;5;124mf\u001b[39m\u001b[38;5;124m\"\u001b[39m\u001b[38;5;124m(\u001b[39m\u001b[38;5;132;01m{\u001b[39;00m\u001b[38;5;28mlen\u001b[39m(index)\u001b[38;5;132;01m}\u001b[39;00m\u001b[38;5;124m)\u001b[39m\u001b[38;5;124m\"\u001b[39m\n\u001b[1;32m    562\u001b[0m     )\n",
      "\u001b[0;31mValueError\u001b[0m: Length of values (251) does not match length of index (985)"
     ]
    }
   ],
   "source": [
    "ml_df = yf.download('^GSPC', start=\"2017-01-01\", end=\"2020-12-31\", interval=\"1d\")\n",
    "\n",
    "# price and volume returns\n",
    "for i in [1, 2, 3, 5, 7, 14, 21]:\n",
    "    ml_df[f'Close_{i}_Value'] = ml_df['Adj Close'].pct_change(i)\n",
    "    ml_df[f'Volume_{i}_Value'] = ml_df['Volume'].pct_change(i)\n",
    "ml_df.dropna(inplace=True)\n",
    "\n",
    "# probabilities\n",
    "low_var_prob = list(res_kns.smoothed_marginal_probabilities[0])\n",
    "high_var_prob = list(res_kns.smoothed_marginal_probabilities[1])\n",
    "ml_df['Low_Var_Prob'] = low_var_prob[len(low_var_prob)-len(ml_df):] # adjust length\n",
    "ml_df['High_Var_Prob'] = high_var_prob[len(high_var_prob)-len(ml_df):]\n",
    "\n",
    "# volatility     \n",
    "for i in [3, 7, 14, 21]:\n",
    "    ml_df[f'Volt_{i}_Value'] = np.log(1 + ml_df['Close_1_Value']).rolling(i).std()\n",
    "    \n",
    "ml_df.dropna(inplace=True)\n",
    "\n",
    "# states\n",
    "ml_df['regimes'] = regime_list[len(regimes)-len(ml_df):] # adjust length\n",
    "\n",
    "ml_df.head()"
   ]
  },
  {
   "cell_type": "code",
   "execution_count": null,
   "id": "1f780e00",
   "metadata": {},
   "outputs": [],
   "source": [
    "ml_df['regimes'] = ml_df['regimes'].shift(-1) \n",
    "ml_df.dropna(inplace=True)\n",
    "ml_df"
   ]
  },
  {
   "cell_type": "code",
   "execution_count": null,
   "id": "3110c44e",
   "metadata": {},
   "outputs": [],
   "source": [
    "rf_df = ml_df.copy()\n",
    "labels = rf_df.pop('regimes') # get target states into a variable\n",
    "labels = labels.astype('int')"
   ]
  },
  {
   "cell_type": "code",
   "execution_count": null,
   "id": "e5ee458c",
   "metadata": {},
   "outputs": [],
   "source": [
    "X_train, X_test, y_train, y_test = train_test_split(rf_df, labels, test_size=0.2)\n",
    "Counter(y_train)"
   ]
  },
  {
   "cell_type": "code",
   "execution_count": null,
   "id": "7e4843e2",
   "metadata": {},
   "outputs": [],
   "source": [
    "# undersample our low_variance regime examples\n",
    "under_sampler = RandomUnderSampler(random_state=40)\n",
    "X_rs, y_rs = under_sampler.fit_resample(X_train, y_train)"
   ]
  },
  {
   "cell_type": "code",
   "execution_count": null,
   "id": "e5c508e9",
   "metadata": {},
   "outputs": [],
   "source": [
    "Counter(y_rs)\n"
   ]
  },
  {
   "cell_type": "code",
   "execution_count": null,
   "id": "6e834603",
   "metadata": {},
   "outputs": [],
   "source": [
    "rf = RandomForestClassifier(n_estimators=20)\n",
    "rf.fit(X_rs, y_rs)"
   ]
  },
  {
   "cell_type": "code",
   "execution_count": null,
   "id": "a681cc93",
   "metadata": {},
   "outputs": [],
   "source": [
    "y_pred = rf.predict(X_test)\n",
    "y_prob_pred = rf.predict_proba(X_test)"
   ]
  },
  {
   "cell_type": "code",
   "execution_count": null,
   "id": "8e435227",
   "metadata": {},
   "outputs": [],
   "source": [
    "acc_score = accuracy_score(y_test, y_pred)\n",
    "false_positive_rate, true_positive_rate, thresholds = roc_curve(y_test, y_pred)\n",
    "roc_auc = auc(false_positive_rate, true_positive_rate)\n",
    "print('accuracy_score=', acc_score,'roc_auc=', roc_auc, 'FPR=', false_positive_rate[1],  'TPR=', true_positive_rate[1])"
   ]
  },
  {
   "cell_type": "code",
   "execution_count": null,
   "id": "21ab8c32",
   "metadata": {},
   "outputs": [],
   "source": [
    "n_estimators = [1, 2, 4, 8, 16, 32, 64, 100, 110, 120, 130, 140, 150, 160]\n",
    "train_results = []\n",
    "test_results = []\n",
    "\n",
    "for estimator in n_estimators:\n",
    "    rf = RandomForestClassifier(n_estimators=estimator)\n",
    "    rf.fit(X_rs, y_rs)\n",
    "    train_pred = rf.predict(X_rs)\n",
    "    false_positive_rate, true_positive_rate, thresholds = roc_curve(y_rs, train_pred)\n",
    "    roc_auc = auc(false_positive_rate, true_positive_rate)\n",
    "    train_results.append(roc_auc)\n",
    "    y_pred = rf.predict(X_test)\n",
    "    false_positive_rate, true_positive_rate, thresholds = roc_curve(y_test, y_pred)\n",
    "    roc_auc = auc(false_positive_rate, true_positive_rate)\n",
    "    test_results.append(roc_auc)\n",
    "\n",
    "from matplotlib.legend_handler import HandlerLine2D\n",
    "line1, = plt.plot(n_estimators, train_results, \"b\", label=\"Train AUC\")\n",
    "line2, = plt.plot(n_estimators, test_results, \"r\", label=\"Test AUC\")\n",
    "plt.legend(handler_map={line1: HandlerLine2D(numpoints=2)})\n",
    "plt.ylabel(\"AUC score\")\n",
    "plt.xlabel(\"n_estimators\")\n",
    "plt.grid(False)\n",
    "plt.show()"
   ]
  },
  {
   "cell_type": "code",
   "execution_count": null,
   "id": "335d7f9f",
   "metadata": {},
   "outputs": [],
   "source": [
    "rf = RandomForestClassifier(n_estimators=20)\n",
    "rf.fit(X_rs, y_rs)"
   ]
  },
  {
   "cell_type": "code",
   "execution_count": null,
   "id": "e2782d54",
   "metadata": {},
   "outputs": [],
   "source": [
    "results = permutation_importance(rf, X_rs, y_rs, scoring='accuracy')\n"
   ]
  },
  {
   "cell_type": "code",
   "execution_count": null,
   "id": "f2f6816d",
   "metadata": {},
   "outputs": [],
   "source": [
    "importance = results.importances_mean\n",
    "\n",
    "for i,v in enumerate(importance):\n",
    "    print('Feature: %0d, Score: %.5f' % (i,v))\n",
    "\n",
    "plt.bar([x for x in range(len(importance))], importance)\n",
    "plt.grid(False)\n",
    "plt.show()"
   ]
  },
  {
   "cell_type": "code",
   "execution_count": null,
   "id": "0790a8e9",
   "metadata": {},
   "outputs": [],
   "source": [
    "ml_df.columns[25]\n"
   ]
  },
  {
   "cell_type": "markdown",
   "id": "fb1060a9",
   "metadata": {},
   "source": [
    "### Regime Detection and Analysis of FTSE 100"
   ]
  },
  {
   "cell_type": "code",
   "execution_count": null,
   "id": "6c60d212",
   "metadata": {},
   "outputs": [],
   "source": [
    "import pandas as pd\n",
    "import statsmodels.api as sm\n",
    "import matplotlib.pyplot as plt\n",
    "import seaborn as sns\n",
    "import numpy as np\n",
    "import yfinance as yf\n",
    "import pandas as pd\n",
    "import random\n",
    "\n",
    "import numpy as np\n",
    "import scipy.stats as scs\n",
    "\n",
    "from sklearn.model_selection import train_test_split\n",
    "from sklearn.ensemble import RandomForestClassifier\n",
    "from sklearn.inspection import permutation_importance\n",
    "from sklearn.metrics import accuracy_score, confusion_matrix, roc_curve, auc\n",
    "from collections import Counter, deque\n",
    "from imblearn.under_sampling import RandomUnderSampler"
   ]
  },
  {
   "cell_type": "code",
   "execution_count": null,
   "id": "a65b6311",
   "metadata": {},
   "outputs": [],
   "source": [
    "df = yf.download('^FTSE', start=\"2020-01-01\", end=\"2020-12-01\", interval=\"1d\")\n",
    "df.head()"
   ]
  },
  {
   "cell_type": "code",
   "execution_count": null,
   "id": "f7ec45f6",
   "metadata": {},
   "outputs": [],
   "source": [
    "plt.title(f'FTSE 100 Price History')\n",
    "plt.plot(\n",
    "    list(i for i in df.index),\n",
    "    list(i[4] for i in df.values))\n",
    "plt.grid(False)\n"
   ]
  },
  {
   "cell_type": "code",
   "execution_count": null,
   "id": "595f7800",
   "metadata": {},
   "outputs": [],
   "source": [
    "df['r-1'] = df['Adj Close'].pct_change().dropna()\n",
    "\n",
    "ex_ret = df['r-1']\n",
    "ex_ret.plot(title='FTSE 100 Excess returns', figsize=(12, 3), grid=False)"
   ]
  },
  {
   "cell_type": "code",
   "execution_count": null,
   "id": "87d33551",
   "metadata": {
    "scrolled": false
   },
   "outputs": [],
   "source": [
    "# Fit the model\n",
    "mod_kns = sm.tsa.MarkovRegression(ex_ret.dropna(), k_regimes=2, trend='n', switching_variance=True)\n",
    "res_kns = mod_kns.fit()\n",
    "res_kns.summary()"
   ]
  },
  {
   "cell_type": "code",
   "execution_count": null,
   "id": "12ffb23f",
   "metadata": {},
   "outputs": [],
   "source": [
    "res_kns.smoothed_marginal_probabilities.head()\n"
   ]
  },
  {
   "cell_type": "code",
   "execution_count": null,
   "id": "8ecf1c5e",
   "metadata": {},
   "outputs": [],
   "source": [
    "print(res_kns.smoothed_marginal_probabilities.head())\n"
   ]
  },
  {
   "cell_type": "code",
   "execution_count": null,
   "id": "d055bdf4",
   "metadata": {},
   "outputs": [],
   "source": [
    "fig, axes = plt.subplots(2, figsize=(10,7))\n",
    "ax = axes[0]\n",
    "ax.plot(res_kns.smoothed_marginal_probabilities[0])\n",
    "ax.grid(False)\n",
    "ax.set(title='Smoothed probability of a low-variance regime returns')\n",
    "ax = axes[1]\n",
    "ax.plot(res_kns.smoothed_marginal_probabilities[1])\n",
    "ax.set(title='Smoothed probability of a high-variance regime returns')\n",
    "fig.tight_layout()\n",
    "ax.grid(False)"
   ]
  },
  {
   "cell_type": "code",
   "execution_count": null,
   "id": "194d4913",
   "metadata": {},
   "outputs": [],
   "source": [
    "low_var = list(res_kns.smoothed_marginal_probabilities[0])\n",
    "high_var = list(res_kns.smoothed_marginal_probabilities[1])\n",
    "\n",
    "regime_list = []\n",
    "for i in range(0, len(low_var)):\n",
    "    if low_var[i] > high_var[i]:\n",
    "        regime_list.append(0)\n",
    "    else:\n",
    "        regime_list.append(1)"
   ]
  },
  {
   "cell_type": "code",
   "execution_count": null,
   "id": "527be53c",
   "metadata": {},
   "outputs": [],
   "source": [
    "regime_df = pd.DataFrame()\n",
    "regime_df['regimes'] = regime_list"
   ]
  },
  {
   "cell_type": "code",
   "execution_count": null,
   "id": "55d22c31",
   "metadata": {},
   "outputs": [],
   "source": [
    "sns.set(font_scale=1.5)\n",
    "df = df.iloc[len(df)-len(regime_list):]\n",
    "regimes = (pd.DataFrame(regime_list, columns=['regimes'], index=df.index)\n",
    "          .join(df, how='inner')\n",
    "          .reset_index(drop=False)\n",
    "          .rename(columns={'index':'Date'}))\n",
    "regimes.head()\n",
    "\n",
    "import warnings\n",
    "warnings.filterwarnings(\"ignore\")\n",
    "colors = 'green', 'red', 'yellow'\n",
    "sns.set_style(\"whitegrid\")\n",
    "order = [0, 1]\n",
    "fg = sns.FacetGrid(data=regimes, hue='regimes', hue_order=order,\n",
    "                   palette=colors, aspect=1.31, height=12)\n",
    "fg.map(plt.scatter, 'Date', \"Adj Close\", alpha=0.8).add_legend()\n",
    "sns.despine(offset=10)\n",
    "fg.fig.suptitle('Historical FTSE 100 regimes', fontsize=24, fontweight='demi')"
   ]
  },
  {
   "cell_type": "code",
   "execution_count": null,
   "id": "4124cc77",
   "metadata": {},
   "outputs": [],
   "source": [
    "ml_df = yf.download('^FTSE', start=\"2020-01-01\", end=\"2020-12-31\", interval=\"1d\")\n",
    "\n",
    "# price and volume returns\n",
    "for i in [1, 2, 3, 5, 7, 14, 21]:\n",
    "    ml_df[f'Close_{i}_Value'] = ml_df['Adj Close'].pct_change(i)\n",
    "    ml_df[f'Volume_{i}_Value'] = ml_df['Volume'].pct_change(i)\n",
    "ml_df.dropna(inplace=True)\n",
    "\n",
    "# probabilities\n",
    "low_var_prob = list(res_kns.smoothed_marginal_probabilities[0])\n",
    "high_var_prob = list(res_kns.smoothed_marginal_probabilities[1])\n",
    "ml_df['Low_Var_Prob'] = low_var_prob[len(low_var_prob)-len(ml_df):] # adjust length\n",
    "ml_df['High_Var_Prob'] = high_var_prob[len(high_var_prob)-len(ml_df):]\n",
    "\n",
    "# volatility     \n",
    "for i in [3, 7, 14, 21]:\n",
    "    ml_df[f'Volt_{i}_Value'] = np.log(1 + ml_df['Close_1_Value']).rolling(i).std()\n",
    "    \n",
    "ml_df.dropna(inplace=True)\n",
    "\n",
    "# states\n",
    "ml_df['regimes'] = regime_list[len(regimes)-len(ml_df):] # adjust length\n",
    "\n",
    "ml_df.head()"
   ]
  },
  {
   "cell_type": "code",
   "execution_count": null,
   "id": "7f96cb69",
   "metadata": {
    "scrolled": false
   },
   "outputs": [],
   "source": [
    "ml_df['regimes'] = ml_df['regimes'].shift(-1) \n",
    "ml_df.dropna(inplace=True)\n",
    "ml_df"
   ]
  },
  {
   "cell_type": "code",
   "execution_count": null,
   "id": "e1b023fe",
   "metadata": {},
   "outputs": [],
   "source": [
    "rf_df = ml_df.copy()\n",
    "labels = rf_df.pop('regimes') # get target states into a variable\n",
    "labels = labels.astype('int')"
   ]
  },
  {
   "cell_type": "code",
   "execution_count": null,
   "id": "1eb00301",
   "metadata": {},
   "outputs": [],
   "source": [
    "X_train, X_test, y_train, y_test = train_test_split(rf_df, labels, test_size=0.2)\n",
    "Counter(y_train)"
   ]
  },
  {
   "cell_type": "code",
   "execution_count": null,
   "id": "837fd08c",
   "metadata": {},
   "outputs": [],
   "source": [
    "# undersample our low_variance regime examples\n",
    "under_sampler = RandomUnderSampler(random_state=40)\n",
    "X_rs, y_rs = under_sampler.fit_resample(X_train, y_train)"
   ]
  },
  {
   "cell_type": "code",
   "execution_count": null,
   "id": "4cdfce0f",
   "metadata": {},
   "outputs": [],
   "source": [
    "Counter(y_rs)"
   ]
  },
  {
   "cell_type": "code",
   "execution_count": null,
   "id": "dbb4a53c",
   "metadata": {},
   "outputs": [],
   "source": [
    "rf = RandomForestClassifier(n_estimators=20)\n",
    "rf.fit(X_rs, y_rs)"
   ]
  },
  {
   "cell_type": "code",
   "execution_count": null,
   "id": "b137b036",
   "metadata": {},
   "outputs": [],
   "source": [
    "y_pred = rf.predict(X_test)\n",
    "y_prob_pred = rf.predict_proba(X_test)"
   ]
  },
  {
   "cell_type": "code",
   "execution_count": null,
   "id": "356d1b5d",
   "metadata": {},
   "outputs": [],
   "source": [
    "acc_score = accuracy_score(y_test, y_pred)\n",
    "false_positive_rate, true_positive_rate, thresholds = roc_curve(y_test, y_pred)\n",
    "roc_auc = auc(false_positive_rate, true_positive_rate)\n",
    "print('accuracy_score=', acc_score,'roc_auc=', roc_auc, 'FPR=', false_positive_rate[1],  'TPR=', true_positive_rate[1])"
   ]
  },
  {
   "cell_type": "code",
   "execution_count": null,
   "id": "80c824b4",
   "metadata": {},
   "outputs": [],
   "source": [
    "n_estimators = [1, 2, 4, 8, 16, 32, 64, 100, 110, 120, 130, 140, 150, 160]\n",
    "train_results = []\n",
    "test_results = []\n",
    "\n",
    "for estimator in n_estimators:\n",
    "    rf = RandomForestClassifier(n_estimators=estimator)\n",
    "    rf.fit(X_rs, y_rs)\n",
    "    train_pred = rf.predict(X_rs)\n",
    "    false_positive_rate, true_positive_rate, thresholds = roc_curve(y_rs, train_pred)\n",
    "    roc_auc = auc(false_positive_rate, true_positive_rate)\n",
    "    train_results.append(roc_auc)\n",
    "    y_pred = rf.predict(X_test)\n",
    "    false_positive_rate, true_positive_rate, thresholds = roc_curve(y_test, y_pred)\n",
    "    roc_auc = auc(false_positive_rate, true_positive_rate)\n",
    "    test_results.append(roc_auc)\n",
    "\n",
    "from matplotlib.legend_handler import HandlerLine2D\n",
    "line1, = plt.plot(n_estimators, train_results, \"b\", label=\"Train AUC\")\n",
    "line2, = plt.plot(n_estimators, test_results, \"r\", label=\"Test AUC\")\n",
    "plt.legend(handler_map={line1: HandlerLine2D(numpoints=2)})\n",
    "plt.ylabel(\"AUC score\")\n",
    "plt.xlabel(\"n_estimators\")\n",
    "plt.grid(False)\n",
    "plt.show()"
   ]
  },
  {
   "cell_type": "code",
   "execution_count": null,
   "id": "91e87612",
   "metadata": {},
   "outputs": [],
   "source": [
    "rf = RandomForestClassifier(n_estimators=20)\n",
    "rf.fit(X_rs, y_rs)"
   ]
  },
  {
   "cell_type": "code",
   "execution_count": null,
   "id": "d0561083",
   "metadata": {},
   "outputs": [],
   "source": [
    "results = permutation_importance(rf, X_rs, y_rs, scoring='accuracy')"
   ]
  },
  {
   "cell_type": "code",
   "execution_count": null,
   "id": "321d9cdf",
   "metadata": {},
   "outputs": [],
   "source": [
    "importance = results.importances_mean\n",
    "\n",
    "for i,v in enumerate(importance):\n",
    "    print('Feature: %0d, Score: %.5f' % (i,v))\n",
    "\n",
    "plt.bar([x for x in range(len(importance))], importance)\n",
    "plt.grid(False)\n",
    "plt.show()"
   ]
  },
  {
   "cell_type": "code",
   "execution_count": null,
   "id": "9cabeded",
   "metadata": {},
   "outputs": [],
   "source": [
    "ml_df.columns[25]\n"
   ]
  },
  {
   "cell_type": "markdown",
   "id": "7553c22c",
   "metadata": {},
   "source": [
    "### Regime Detection and Analysis of Gold"
   ]
  },
  {
   "cell_type": "code",
   "execution_count": null,
   "id": "23a90e85",
   "metadata": {},
   "outputs": [],
   "source": [
    "import pandas as pd\n",
    "import statsmodels.api as sm\n",
    "import matplotlib.pyplot as plt\n",
    "import seaborn as sns\n",
    "import numpy as np\n",
    "import yfinance as yf\n",
    "import pandas as pd\n",
    "import random\n",
    "\n",
    "import numpy as np\n",
    "import scipy.stats as scs\n",
    "\n",
    "from sklearn.model_selection import train_test_split\n",
    "from sklearn.ensemble import RandomForestClassifier\n",
    "from sklearn.inspection import permutation_importance\n",
    "from sklearn.metrics import accuracy_score, confusion_matrix, roc_curve, auc\n",
    "from collections import Counter, deque\n",
    "from imblearn.under_sampling import RandomUnderSampler"
   ]
  },
  {
   "cell_type": "code",
   "execution_count": null,
   "id": "f9f74aa2",
   "metadata": {},
   "outputs": [],
   "source": [
    "df = yf.download('GC=F', start=\"2020-01-01\", end=\"2020-12-01\", interval=\"1d\")\n",
    "df.head()"
   ]
  },
  {
   "cell_type": "code",
   "execution_count": null,
   "id": "9d9a65e1",
   "metadata": {},
   "outputs": [],
   "source": [
    "plt.title(f'Gold Price History')\n",
    "plt.plot(\n",
    "    list(i for i in df.index),\n",
    "    list(i[4] for i in df.values))\n",
    "plt.grid(False)\n"
   ]
  },
  {
   "cell_type": "code",
   "execution_count": null,
   "id": "7fc96a98",
   "metadata": {},
   "outputs": [],
   "source": [
    "df['r-1'] = df['Adj Close'].pct_change().dropna()\n",
    "\n",
    "ex_ret = df['r-1']\n",
    "ex_ret.plot(title='Gold Excess returns', figsize=(12, 3), grid=False)"
   ]
  },
  {
   "cell_type": "code",
   "execution_count": null,
   "id": "e5971c9f",
   "metadata": {},
   "outputs": [],
   "source": [
    "# Fit the model\n",
    "mod_kns = sm.tsa.MarkovRegression(ex_ret.dropna(), k_regimes=2, trend='n', switching_variance=True)\n",
    "res_kns = mod_kns.fit()\n",
    "res_kns.summary()"
   ]
  },
  {
   "cell_type": "code",
   "execution_count": null,
   "id": "f83881bd",
   "metadata": {},
   "outputs": [],
   "source": [
    "res_kns.smoothed_marginal_probabilities.head()"
   ]
  },
  {
   "cell_type": "code",
   "execution_count": null,
   "id": "054797f7",
   "metadata": {},
   "outputs": [],
   "source": [
    "print(res_kns.smoothed_marginal_probabilities.head())"
   ]
  },
  {
   "cell_type": "code",
   "execution_count": null,
   "id": "4a2f1783",
   "metadata": {},
   "outputs": [],
   "source": [
    "fig, axes = plt.subplots(2, figsize=(10,7))\n",
    "ax = axes[0]\n",
    "ax.plot(res_kns.smoothed_marginal_probabilities[0])\n",
    "ax.grid(False)\n",
    "ax.set(title='Smoothed probability of a low-variance regime returns')\n",
    "ax = axes[1]\n",
    "ax.plot(res_kns.smoothed_marginal_probabilities[1])\n",
    "ax.set(title='Smoothed probability of a high-variance regime returns')\n",
    "fig.tight_layout()\n",
    "ax.grid(False)"
   ]
  },
  {
   "cell_type": "code",
   "execution_count": null,
   "id": "7e2c9bb2",
   "metadata": {},
   "outputs": [],
   "source": [
    "low_var = list(res_kns.smoothed_marginal_probabilities[0])\n",
    "high_var = list(res_kns.smoothed_marginal_probabilities[1])\n",
    "\n",
    "regime_list = []\n",
    "for i in range(0, len(low_var)):\n",
    "    if low_var[i] > high_var[i]:\n",
    "        regime_list.append(0)\n",
    "    else:\n",
    "        regime_list.append(1)"
   ]
  },
  {
   "cell_type": "code",
   "execution_count": null,
   "id": "6200074a",
   "metadata": {},
   "outputs": [],
   "source": [
    "regime_df = pd.DataFrame()\n",
    "regime_df['regimes'] = regime_list"
   ]
  },
  {
   "cell_type": "code",
   "execution_count": null,
   "id": "20179a3d",
   "metadata": {},
   "outputs": [],
   "source": [
    "sns.set(font_scale=1.5)\n",
    "df = df.iloc[len(df)-len(regime_list):]\n",
    "regimes = (pd.DataFrame(regime_list, columns=['regimes'], index=df.index)\n",
    "          .join(df, how='inner')\n",
    "          .reset_index(drop=False)\n",
    "          .rename(columns={'index':'Date'}))\n",
    "regimes.head()\n",
    "\n",
    "import warnings\n",
    "warnings.filterwarnings(\"ignore\")\n",
    "colors = 'green', 'red', 'yellow'\n",
    "sns.set_style(\"whitegrid\")\n",
    "order = [0, 1]\n",
    "fg = sns.FacetGrid(data=regimes, hue='regimes', hue_order=order,\n",
    "                   palette=colors, aspect=1.31, height=12)\n",
    "fg.map(plt.scatter, 'Date', \"Adj Close\", alpha=0.8).add_legend()\n",
    "sns.despine(offset=10)\n",
    "fg.fig.suptitle('Historical Gold regimes', fontsize=24, fontweight='demi')"
   ]
  },
  {
   "cell_type": "code",
   "execution_count": null,
   "id": "f39baf5a",
   "metadata": {},
   "outputs": [],
   "source": [
    "ml_df = yf.download('GC=F', start=\"2020-01-01\", end=\"2020-12-31\", interval=\"1d\")\n",
    "\n",
    "# price and volume returns\n",
    "for i in [1, 2, 3, 5, 7, 14, 21]:\n",
    "    ml_df[f'Close_{i}_Value'] = ml_df['Adj Close'].pct_change(i)\n",
    "    ml_df[f'Volume_{i}_Value'] = ml_df['Volume'].pct_change(i)\n",
    "ml_df.dropna(inplace=True)\n",
    "\n",
    "# probabilities\n",
    "low_var_prob = list(res_kns.smoothed_marginal_probabilities[0])\n",
    "high_var_prob = list(res_kns.smoothed_marginal_probabilities[1])\n",
    "ml_df['Low_Var_Prob'] = low_var_prob[len(low_var_prob)-len(ml_df):] # adjust length\n",
    "ml_df['High_Var_Prob'] = high_var_prob[len(high_var_prob)-len(ml_df):]\n",
    "\n",
    "# volatility     \n",
    "for i in [3, 7, 14, 21]:\n",
    "    ml_df[f'Volt_{i}_Value'] = np.log(1 + ml_df['Close_1_Value']).rolling(i).std()\n",
    "    \n",
    "ml_df.dropna(inplace=True)\n",
    "\n",
    "# states\n",
    "ml_df['regimes'] = regime_list[len(regimes)-len(ml_df):] # adjust length\n",
    "\n",
    "ml_df.head()"
   ]
  },
  {
   "cell_type": "code",
   "execution_count": null,
   "id": "c3ea0031",
   "metadata": {},
   "outputs": [],
   "source": []
  },
  {
   "cell_type": "code",
   "execution_count": null,
   "id": "13b026d8",
   "metadata": {},
   "outputs": [],
   "source": []
  },
  {
   "cell_type": "code",
   "execution_count": null,
   "id": "7751a2ea",
   "metadata": {},
   "outputs": [],
   "source": []
  },
  {
   "cell_type": "code",
   "execution_count": null,
   "id": "f97dd6a0",
   "metadata": {},
   "outputs": [],
   "source": []
  },
  {
   "cell_type": "markdown",
   "id": "6d0cabd1",
   "metadata": {},
   "source": [
    "#### Section 3"
   ]
  },
  {
   "cell_type": "code",
   "execution_count": null,
   "id": "fedd3f40",
   "metadata": {},
   "outputs": [],
   "source": [
    "# For data manipulation\n",
    "!pip install yfinance\n",
    "import numpy as np\n",
    "import pandas as pd\n",
    "\n",
    "# To fetch financial data\n",
    "import yfinance as yf\n",
    "\n",
    "# For visualisation\n",
    "import matplotlib.pyplot as plt\n",
    "%matplotlib inline\n",
    "plt.style.use('seaborn-dark')"
   ]
  },
  {
   "cell_type": "code",
   "execution_count": null,
   "id": "c4d95669",
   "metadata": {},
   "outputs": [],
   "source": [
    "start_date = pd.to_datetime('2017-01-01')\n",
    "end_date = pd.to_datetime('2020-12-01')\n",
    "\n",
    "df = yf.download(['^GSPC','GC=F'],start=start_date, end=end_date, interval=\"1d\", auto_adjust=True)['Close']\n",
    "print(df.tail())"
   ]
  },
  {
   "cell_type": "code",
   "execution_count": null,
   "id": "83fa0b7a",
   "metadata": {},
   "outputs": [],
   "source": []
  },
  {
   "cell_type": "code",
   "execution_count": null,
   "id": "b5a359b3",
   "metadata": {},
   "outputs": [],
   "source": [
    "plt.figure()\n",
    "ax = df['Covariance'].plot(figsize=(15,7))\n",
    "plt.title('Covariance', size=16)\n",
    "plt.xlabel('Date',size=15)\n",
    "plt.ylabel('Covariance',size=15)\n",
    "plt.xticks(fontsize=15)\n",
    "plt.yticks(fontsize=15)\n",
    "plt.show()\n",
    "\n",
    "plt.figure()\n",
    "ax = df['Correlation'].plot(figsize=(15,7))\n",
    "plt.title('Correlation', size=16)\n",
    "plt.xlabel('Date',size=15)\n",
    "plt.ylabel('Correlation',size=15)\n",
    "plt.xticks(fontsize=15)\n",
    "plt.yticks(fontsize=15)\n",
    "plt.show()"
   ]
  },
  {
   "cell_type": "markdown",
   "id": "6ffe9f3c",
   "metadata": {},
   "source": [
    "### Stationary and Non Stationary Time Series  "
   ]
  },
  {
   "cell_type": "markdown",
   "id": "628c9250",
   "metadata": {},
   "source": [
    "Stationary Time Series, it is the one where the mean and the variance are both constant over time. In other words, it is the one whose properties do not depend on the time at which the series is observed. Thus, the Time Series is a flat series without trend, with constant variance over time, a constant mean, a constant autocorrelation and no seasonality. This makes a Stationary Time Series easy to predict."
   ]
  },
  {
   "cell_type": "markdown",
   "id": "65799f57",
   "metadata": {},
   "source": [
    "A Non-Stationary Time Series is one where either mean or variance or both are not constant over time. We can use the following tests to find out if our time series is non-stationary. \n",
    "\n",
    "Autocorrelation function (ACF) test\n",
    "Partial autocorrelation function (PACF) test"
   ]
  },
  {
   "cell_type": "markdown",
   "id": "aa594c04",
   "metadata": {},
   "source": [
    "Partial autocorrelation function (PACF) – In some cases, the effect of autocorrelation at smaller lags will have an influence on the estimate of autocorrelation at longer lags. For example, a strong lag one, can cause an autocorrelation with lag three. The Partial autocorrelation function (PACF) removes the effect of shorter lag autocorrelation from the correlation estimate at longer lags."
   ]
  },
  {
   "cell_type": "markdown",
   "id": "689d1638",
   "metadata": {},
   "source": [
    "### Autocorrelation "
   ]
  },
  {
   "cell_type": "markdown",
   "id": "07958d6b",
   "metadata": {},
   "source": [
    "The Autocorrelation function test is mainly used for two reasons:\n",
    "\n",
    "For detecting non-randomness in the data and for identifying the appropriate time series model for the particular dataset.\n",
    "\n",
    "The Autocorrelation function checks for correlation between two different data points of a Time Series separated by a lag “h”\n",
    "\n",
    "The ACF will check for correlation between points #1 and #2, #2 and #3 etc. Similarly, for lag 3, the ACF function will check between points #1 and #4, #2 and #5, #3 and #6 etc."
   ]
  },
  {
   "cell_type": "code",
   "execution_count": null,
   "id": "b754a2ac",
   "metadata": {},
   "outputs": [],
   "source": [
    "from matplotlib import pyplot\n",
    "from statsmodels.graphics.tsaplots import plot_acf\n",
    "import yfinance as yf\n",
    "tesla = yf.download('^GSPC','2019-01-27', '2020-02-11')\n",
    "plot_acf(tesla['Close'], lags=20)\n",
    "pyplot.show()"
   ]
  },
  {
   "cell_type": "code",
   "execution_count": null,
   "id": "4380cea2",
   "metadata": {},
   "outputs": [],
   "source": [
    "from statsmodels.graphics.tsaplots import plot_pacf\n",
    "plot_pacf(tesla['Close'], lags=20)\n",
    "pyplot.show()"
   ]
  },
  {
   "cell_type": "code",
   "execution_count": null,
   "id": "70a41cc6",
   "metadata": {},
   "outputs": [],
   "source": []
  }
 ],
 "metadata": {
  "kernelspec": {
   "display_name": "Python 3 (ipykernel)",
   "language": "python",
   "name": "python3"
  },
  "language_info": {
   "codemirror_mode": {
    "name": "ipython",
    "version": 3
   },
   "file_extension": ".py",
   "mimetype": "text/x-python",
   "name": "python",
   "nbconvert_exporter": "python",
   "pygments_lexer": "ipython3",
   "version": "3.9.12"
  }
 },
 "nbformat": 4,
 "nbformat_minor": 5
}
